{
 "cells": [
  {
   "cell_type": "markdown",
   "metadata": {},
   "source": [
    "# <font color='#5493b7'><center><h1>The Titanic</h1></center></font>"
   ]
  },
  {
   "cell_type": "code",
   "execution_count": 439,
   "metadata": {},
   "outputs": [
    {
     "data": {
      "text/html": [
       "<img src=\"titanic.jpg\" width=\"1000\"/>"
      ],
      "text/plain": [
       "<IPython.core.display.Image object>"
      ]
     },
     "execution_count": 439,
     "metadata": {},
     "output_type": "execute_result"
    }
   ],
   "source": [
    "from IPython.display import Image\n",
    "from IPython.core.display import HTML\n",
    "Image(url=\"titanic.jpg\", width=1000)"
   ]
  },
  {
   "cell_type": "markdown",
   "metadata": {},
   "source": [
    "# <font color='#5493b7'><center><h1>Describing, questioning and analyzing a disaster</h1><br /></center></font>\n",
    "## <center><h2>Udacity - Data Analyst Nanodegree Program</h2></center>\n",
    "## <center><h3>Aviad Giat - June 2017</h3></center>"
   ]
  },
  {
   "cell_type": "markdown",
   "metadata": {},
   "source": [
    "<a id='Top'></a>\n",
    "In this document:<br />\n",
    "(Titles are clickable)<br />\n",
    "1. [Discovering the data](#discovering)<br />\n",
    "2. [Analysing the data](#analyzing)<br />\n",
    "3. [Survivors by Class](#class)<br />\n",
    "4. [Survivors by Gender](#gender)<br />\n",
    "5. [Survivors by Age](#age)<br />\n",
    "6. [Survivors by Fare](#fare)<br />\n",
    "7. [Summary](#conclusion)<br />\n",
    "8. [Sources](#sources)<br />\n",
    "9. [Dataframes](#dataframes)"
   ]
  },
  {
   "cell_type": "markdown",
   "metadata": {},
   "source": [
    "<a id='setup'></a>\n",
    "# <font color='#5493b7'><center><h1>Import Libraries, upload and wrangler the data</h1><br /></center></font>\n",
    "[Top](#Top)"
   ]
  },
  {
   "cell_type": "markdown",
   "metadata": {},
   "source": [
    "### Libraries to import and use in this analysis"
   ]
  },
  {
   "cell_type": "code",
   "execution_count": 492,
   "metadata": {
    "collapsed": true
   },
   "outputs": [],
   "source": [
    "import pandas as pd\n",
    "import numpy as np\n",
    "import matplotlib as mpl\n",
    "from matplotlib import style\n",
    "import matplotlib.pyplot as plt\n",
    "import plotly.plotly as py\n",
    "import seaborn as sns\n",
    "import random\n",
    "from scipy import stats\n",
    "from scipy.stats import chi2_contingency"
   ]
  },
  {
   "cell_type": "markdown",
   "metadata": {},
   "source": [
    "### Plot the matplotlib graphics inline"
   ]
  },
  {
   "cell_type": "code",
   "execution_count": 493,
   "metadata": {},
   "outputs": [],
   "source": [
    "%matplotlib inline "
   ]
  },
  {
   "cell_type": "markdown",
   "metadata": {},
   "source": [
    "### Making the wrapper output look nicer when output is too long"
   ]
  },
  {
   "cell_type": "code",
   "execution_count": 494,
   "metadata": {},
   "outputs": [
    {
     "data": {
      "text/html": [
       "<style>.output_wrapper, .output {height:auto !important; max-height:1000px;\n",
       "                                }.output_scroll {box-shadow:none !important; webkit-box-shadow:none !important;}</style>"
      ],
      "text/plain": [
       "<IPython.core.display.HTML object>"
      ]
     },
     "metadata": {},
     "output_type": "display_data"
    }
   ],
   "source": [
    "%%html\n",
    "<style>.output_wrapper, .output {height:auto !important; max-height:1000px;\n",
    "                                }.output_scroll {box-shadow:none !important; webkit-box-shadow:none !important;}</style>"
   ]
  },
  {
   "cell_type": "markdown",
   "metadata": {},
   "source": [
    "### Upload, clean, style, organize the raw data and output the first few lines of the modified Pandas dataframe"
   ]
  },
  {
   "cell_type": "code",
   "execution_count": 495,
   "metadata": {},
   "outputs": [],
   "source": [
    "# Open the Titanic dataset with Pandas\n",
    "statsi = pd.read_csv('titanic-data.csv')\n",
    "\n",
    "# Change columns' names\n",
    "statsi.rename(columns={'Pclass': 'Class', 'Sex': 'Gender'}, inplace=True)   \n",
    "\n",
    "# Change the \"Fare\" variable to an integer\n",
    "statsi['Fare'] = statsi['Fare'].astype(int)   \n",
    "\n",
    "# Fill the empty 'Age' column's cells with even spaced linear numbers\n",
    "statsi['Age'] = statsi['Age'].interpolate()\n",
    "\n",
    "# Create a new columns 'Sex' as an int\n",
    "statsi['Sex'] = statsi['Gender'].map({'male': 0, 'female': 1})\n",
    "\n",
    "# Narrow down the (variables) scope of this dataframe\n",
    "statsi = statsi[['Survived', 'Class', 'Gender', 'Age', 'Fare', 'Sex']]\n",
    "\n",
    "# Keep floating numbers with not more than 2 decimals\n",
    "pd.set_option('display.precision', 2) \n",
    "\n",
    "# Make sure there are no NULLS. Change False to True to see the result.\n",
    "if False:\n",
    "    print('\\nMake sure there are no empty sells in the dataframe\\n===================================================')\n",
    "    print(statsi.notnull().sum())\n",
    "    \n",
    "\n",
    "# Add column with strings (Yes, No) drawing the data from the integeer Survived column \n",
    "statsi['Survived_y_n'] = statsi['Survived'] # Create a new column 'Survived_y_n'\n",
    "statsi['Survived_y_n'] = statsi['Survived_y_n'].map({0: 'No', 1:\"Yes\"}) # map the new column"
   ]
  },
  {
   "cell_type": "markdown",
   "metadata": {},
   "source": [
    "### Print the new dataframe (statsi)"
   ]
  },
  {
   "cell_type": "code",
   "execution_count": 496,
   "metadata": {},
   "outputs": [
    {
     "name": "stdout",
     "output_type": "stream",
     "text": [
      "The new dataframe's first rows\n",
      "==============================\n",
      "   Survived  Class  Gender   Age  Fare  Sex Survived_y_n\n",
      "0         0      3    male  22.0     7    0           No\n",
      "1         1      1  female  38.0    71    1          Yes\n",
      "2         1      3  female  26.0     7    1          Yes\n",
      "3         1      1  female  35.0    53    1          Yes\n",
      "4         0      3    male  35.0     8    0           No\n"
     ]
    }
   ],
   "source": [
    "# Print the first 5 lines of the new dataframe with Duplicated columns, \n",
    "# where 1 column represents the integer and one the string, for easier calculations.\n",
    "print(\"The new dataframe's first rows\\n==============================\")\n",
    "print(statsi.head())"
   ]
  },
  {
   "cell_type": "markdown",
   "metadata": {},
   "source": [
    "### Defining age ranges for the \"Age\" analysis further down in this document"
   ]
  },
  {
   "cell_type": "code",
   "execution_count": 497,
   "metadata": {
    "scrolled": true
   },
   "outputs": [],
   "source": [
    "def age_range(age):\n",
    "    if age < 10:\n",
    "        return '01'\n",
    "    elif age > 10 and age < 20:\n",
    "        return '10'\n",
    "    elif age > 20 and age < 30:\n",
    "        return '20'\n",
    "    elif age > 30 and age < 40:\n",
    "        return '30'\n",
    "    elif age > 40 and age < 50:\n",
    "        return '40'\n",
    "    elif age > 50 and age < 60:\n",
    "        return '50'\n",
    "    elif age > 60 and age < 70:\n",
    "        return '60'\n",
    "    elif age > 70:\n",
    "        return '70'\n",
    "    else:\n",
    "        return\n",
    "    return\n",
    "\n",
    "# Add a column to the dataframe with Ages according to the above function\n",
    "statsi['Ages'] = statsi['Age'].apply(age_range)"
   ]
  },
  {
   "cell_type": "markdown",
   "metadata": {},
   "source": [
    "### Description of the variables in this analysis"
   ]
  },
  {
   "cell_type": "markdown",
   "metadata": {},
   "source": [
    "Survived &nbsp; &nbsp; &nbsp; &nbsp; &nbsp; Passenger's survival as an integer (0 = No, 1 = Yes)<br />\n",
    "Survived_y_n &nbsp; Passenger's survival as a string (yes, No)<br />\n",
    "Class &nbsp; &nbsp; &nbsp; &nbsp; &nbsp; &nbsp; &nbsp; &nbsp;Passenger's Class (1 = 1st; 2 = 2nd; 3 = 3rd)<br />\n",
    "Gender &nbsp; &nbsp; &nbsp; &nbsp; &nbsp; &nbsp; Passenger's gender (Male/Female)<br />\n",
    "Sex &nbsp; &nbsp; &nbsp; &nbsp; &nbsp; &nbsp; &nbsp; &nbsp; &nbsp; Passenger's gender (0 = Male; 1 = Female)<br />\n",
    "Age &nbsp; &nbsp; &nbsp; &nbsp; &nbsp; &nbsp; &nbsp; &nbsp; &nbsp; Passenger's Age<br />\n",
    "Ages &nbsp; &nbsp; &nbsp; &nbsp; &nbsp; &nbsp; &nbsp; &nbsp; Passenger's Age group by decades (0-10 = 01, 10-20 = 10, ... , 70-80 = 70)<br />\n",
    "Fare &nbsp; &nbsp; &nbsp; &nbsp; &nbsp; &nbsp; &nbsp; &nbsp; &nbsp;The cost of the ticket in dollars"
   ]
  },
  {
   "cell_type": "markdown",
   "metadata": {},
   "source": [
    "### Add a new dataframe with only survivors"
   ]
  },
  {
   "cell_type": "code",
   "execution_count": 498,
   "metadata": {
    "collapsed": true
   },
   "outputs": [],
   "source": [
    "# Add a new dataframe with only survivors, where Survived = 1 (Yes).\n",
    "# This dataframe will be used throughout this document\n",
    "survivors = statsi.copy(deep=True)\n",
    "survivors = survivors.loc[survivors['Survived'] == 1]"
   ]
  },
  {
   "cell_type": "markdown",
   "metadata": {},
   "source": [
    "[Top](#Top)<br />\n",
    "[Setup](#setup)"
   ]
  },
  {
   "cell_type": "markdown",
   "metadata": {},
   "source": [
    "<a id='discovering'></a>\n",
    "# <font color='#5493b7'><center><h1>Discovering and describing the data</h1><br /></center></font>\n",
    "[Top](#Top)"
   ]
  },
  {
   "cell_type": "markdown",
   "metadata": {},
   "source": [
    "### Dataframe summary, types, NaNs and statistics"
   ]
  },
  {
   "cell_type": "code",
   "execution_count": 499,
   "metadata": {},
   "outputs": [
    {
     "name": "stdout",
     "output_type": "stream",
     "text": [
      "\n",
      "Rows and columns\n",
      "================\n",
      "There are 8 Columns and 891 Rows in this dataset\n",
      "\n",
      "\n",
      "The types of data for this dataframe\n",
      "====================================\n",
      "Survived          int64\n",
      "Class             int64\n",
      "Gender           object\n",
      "Age             float64\n",
      "Fare              int32\n",
      "Sex               int64\n",
      "Survived_y_n     object\n",
      "Ages             object\n",
      "dtype: object\n",
      "\n",
      "\n",
      "More details about the data frame\n",
      "=================================\n",
      "<class 'pandas.core.frame.DataFrame'>\n",
      "RangeIndex: 891 entries, 0 to 890\n",
      "Data columns (total 8 columns):\n",
      "Survived        891 non-null int64\n",
      "Class           891 non-null int64\n",
      "Gender          891 non-null object\n",
      "Age             891 non-null float64\n",
      "Fare            891 non-null int32\n",
      "Sex             891 non-null int64\n",
      "Survived_y_n    891 non-null object\n",
      "Ages            814 non-null object\n",
      "dtypes: float64(1), int32(1), int64(3), object(3)\n",
      "memory usage: 52.3+ KB\n",
      "None\n",
      "\n",
      "\n",
      "Statistical summary of the numeric data\n",
      "=======================================\n",
      "       Survived   Class     Age    Fare\n",
      "count    891.00  891.00  891.00  891.00\n",
      "mean       0.38    2.31   29.73   31.79\n",
      "std        0.49    0.84   13.90   49.70\n",
      "min        0.00    1.00    0.42    0.00\n",
      "25%        0.00    2.00   21.00    7.00\n",
      "50%        0.00    3.00   28.50   14.00\n",
      "75%        1.00    3.00   38.00   31.00\n",
      "max        1.00    3.00   80.00  512.00\n"
     ]
    }
   ],
   "source": [
    "# Number of columns and rows (max)\n",
    "columns = str(statsi.shape[1])\n",
    "rows = str(statsi.shape[0])\n",
    "print('\\nRows and columns\\n================\\nThere are ' + columns + \n",
    "      ' Columns and ' + rows + ' Rows in this dataset\\n')  \n",
    "\n",
    "# List of column names, number of records and the type of data for each record\n",
    "print('\\nThe types of data for this dataframe\\n====================================')\n",
    "print(statsi.dtypes) \n",
    "\n",
    "# How many total entries? What are the columns and their types\n",
    "# Each column has how many not-null values?\n",
    "print('\\n\\nMore details about the data frame\\n=================================')\n",
    "print(statsi.info()) \n",
    "\n",
    "# Statistical summary of the numeric variables\n",
    "print('\\n\\nStatistical summary of the numeric data'\n",
    "      '\\n=======================================')\n",
    "statsi1 = statsi.drop(['Gender', 'Sex'], axis=1) # Drop columns for relevancy\n",
    "print(statsi1.describe())"
   ]
  },
  {
   "cell_type": "markdown",
   "metadata": {},
   "source": [
    "# <font color='#5493b7'><center><h1>Questions about the data</h1><br /></center></font>"
   ]
  },
  {
   "cell_type": "markdown",
   "metadata": {},
   "source": [
    "* Were there more people who died or survived? What was the percent of survivors from all passengers?<br />\n",
    "* Who had the best chances to survive?<br />\n",
    "&nbsp; &nbsp;<span style=\"color:#0000FF;\">Males VS Females (Gender)</span><br />\n",
    "&nbsp; &nbsp;<span style=\"color:#008000;\">Age by decades (Ages)</span><br />\n",
    "&nbsp; &nbsp;<span style=\"color:#0000FF;\">Ticket's cost (Fare)</span><br />\n",
    "&nbsp; &nbsp;<span style=\"color:#008000;\">Class - The ticket class (First, Second, Third)</span>"
   ]
  },
  {
   "cell_type": "markdown",
   "metadata": {},
   "source": [
    "[Top](#Top)<br />\n",
    "[Discover](#discovering)"
   ]
  },
  {
   "cell_type": "markdown",
   "metadata": {},
   "source": [
    "<a id='analyzing'></a>\n",
    "# <font color='#5493b7'><center><h1>Analyzing the data and answering the above questions (among others)</h1><br /></center></font>\n",
    "[Top](#Top)"
   ]
  },
  {
   "cell_type": "markdown",
   "metadata": {
    "collapsed": true
   },
   "source": [
    "* Note that this project does not take into account the crew members on board and their survival statistics. The scope of this analysis is limited to the passengers only.<br />\n",
    "<br />\n",
    "The dependent variable is the number of survivors. I will analyze 4 independent variables against it. The variables are:&nbsp;<br />\n",
    "<span style=\"color:#0000FF;\">Class </span>| <span style=\"color:#008000;\">Age </span>| <span style=\"color:#0000FF;\">Gender </span>| <span style=\"color:#008000;\">Fare</span>.<br />\n",
    "<br />\n",
    "I will also try to answer one of the above questions with a statistical test.<br />\n",
    "<br />\n",
    "Let's start with the general number of survivors and victims:"
   ]
  },
  {
   "cell_type": "markdown",
   "metadata": {},
   "source": [
    "## Number of survivors\n"
   ]
  },
  {
   "cell_type": "code",
   "execution_count": 500,
   "metadata": {
    "scrolled": false
   },
   "outputs": [
    {
     "name": "stdout",
     "output_type": "stream",
     "text": [
      "\n",
      "Number of survivors and victims\n",
      "===============================\n",
      "\n",
      "No     549\n",
      "Yes    342\n",
      "Name: Survived_y_n, dtype: int64\n",
      "\n",
      "\n"
     ]
    },
    {
     "data": {
      "text/plain": [
       "<matplotlib.text.Text at 0x136ef70b160>"
      ]
     },
     "execution_count": 500,
     "metadata": {},
     "output_type": "execute_result"
    },
    {
     "data": {
      "image/png": "[encoded data removed]",
      "text/plain": [
       "<matplotlib.figure.Figure at 0x136efd9fa90>"
      ]
     },
     "metadata": {},
     "output_type": "display_data"
    }
   ],
   "source": [
    "# Number of survivors\n",
    "print('\\nNumber of survivors and victims\\n===============================\\n')\n",
    "print(statsi['Survived_y_n'].value_counts())\n",
    "print('\\n')\n",
    "\n",
    "# Plot number of survivors\n",
    "sns.set_style('ticks')\n",
    "plot = sns.factorplot('Survived_y_n', data = statsi, kind=\"count\", \n",
    "                      palette=\"Blues\", legend=True, size=4, aspect=2)\n",
    "sns.plt.title('Number of passengers who survived and who did not')"
   ]
  },
  {
   "cell_type": "markdown",
   "metadata": {},
   "source": [
    "## Percent of survivors"
   ]
  },
  {
   "cell_type": "code",
   "execution_count": 501,
   "metadata": {
    "scrolled": true
   },
   "outputs": [
    {
     "data": {
      "image/png": "[encoded data removed]",
      "text/plain": [
       "<matplotlib.figure.Figure at 0x136f0c5fa20>"
      ]
     },
     "metadata": {},
     "output_type": "display_data"
    }
   ],
   "source": [
    "# Set up the plot's figure\n",
    "fig = plt.figure(facecolor='#f7fbff', edgecolor='#08306b', figsize=(400,200), dpi=120)\n",
    "fig.set_figwidth(9)\n",
    "fig.set_figheight(3)\n",
    "\n",
    "# Plot the percent of survivors\n",
    "pie_chart = (statsi['Survived'].value_counts()) # Create the array 'x' for the pie chart\n",
    "colors = ['#55a868', '#2adbf7'] # Set the colors for the slices (2 in this case)\n",
    "plt.pie(pie_chart, shadow=False, colors=colors, autopct='%1.1f%%', labels = ['Died', 'Survived'],\n",
    "        wedgeprops = { 'linewidth' : 1 , 'edgecolor' : 'black'})# Plot the pie chart\n",
    "plt.axis('equal')  # make the chart look good (round)\n",
    "plt.title('\\nPercent of Survivors\\n================') # Give a title to the plot\n",
    "plt.show() # Show the plot"
   ]
  },
  {
   "cell_type": "markdown",
   "metadata": {},
   "source": [
    "* As we can see from the above pie chart, more passengers died (61%) on the Titanic than survived (38%). For every 10 people who survived 16 perished."
   ]
  },
  {
   "cell_type": "markdown",
   "metadata": {},
   "source": [
    "[Top](#Top)<br />\n",
    "[Analysing](#analyzing)\n"
   ]
  },
  {
   "cell_type": "markdown",
   "metadata": {},
   "source": [
    "Now, lets break down the numbers and percentages following the 4 variables Class | Age | Gender | Fare:"
   ]
  },
  {
   "cell_type": "markdown",
   "metadata": {},
   "source": [
    "<a id='class'></a>\n",
    "# <center><h1>Survivors by Class</h1></center>\n",
    "[Top](#Top)"
   ]
  },
  {
   "cell_type": "markdown",
   "metadata": {},
   "source": [
    "* Which class members' survival rate was the highest?"
   ]
  },
  {
   "cell_type": "code",
   "execution_count": 502,
   "metadata": {
    "scrolled": true
   },
   "outputs": [
    {
     "name": "stdout",
     "output_type": "stream",
     "text": [
      "\n",
      "Number of passengers in each class\n",
      "==================================\n",
      "\n",
      "1    216\n",
      "2    184\n",
      "3    491\n",
      "Name: Class, dtype: int64\n",
      "\n",
      "\n",
      "Number of survivors by class\n",
      "============================\n",
      "\n",
      "Survived_y_n   No  Yes\n",
      "Class                 \n",
      "1              80  136\n",
      "2              97   87\n",
      "3             372  119\n",
      "\n",
      "\n",
      "Percent of survivors by class\n",
      "=============================\n",
      "\n",
      "Survived_y_n     No    Yes\n",
      "Class                     \n",
      "1             37.04  62.96\n",
      "2             52.72  47.28\n",
      "3             75.76  24.24\n",
      "All           61.62  38.38\n"
     ]
    }
   ],
   "source": [
    "# Print related numbers to the Class variable\n",
    "print('\\nNumber of passengers in each class\\n==================================\\n')\n",
    "pass_count = statsi['Class'].value_counts(sort=False) # Count passengers\n",
    "print(pass_count) #Print the count of the passengers\n",
    "\n",
    "# Print the number of survivors as a crosstab\n",
    "print('\\n\\nNumber of survivors by class\\n============================\\n')\n",
    "# Output a pivot-like table crossing data from 2 variables\n",
    "print(pd.crosstab(statsi.Class, statsi.Survived_y_n))\n",
    "\n",
    "# Print crosstab of the percent of survivors by class\n",
    "print('\\n\\nPercent of survivors by class\\n=============================\\n')\n",
    "# Crossing data with percent of survivors by class\n",
    "print(pd.crosstab(statsi.Class, statsi.Survived_y_n, margins=True, normalize='index')* 100) "
   ]
  },
  {
   "cell_type": "code",
   "execution_count": 503,
   "metadata": {},
   "outputs": [
    {
     "data": {
      "text/plain": [
       "<matplotlib.text.Text at 0x136ec343ac8>"
      ]
     },
     "execution_count": 503,
     "metadata": {},
     "output_type": "execute_result"
    },
    {
     "data": {
      "image/png": "[encoded data removed]",
      "text/plain": [
       "<matplotlib.figure.Figure at 0x136f0e27860>"
      ]
     },
     "metadata": {},
     "output_type": "display_data"
    },
    {
     "data": {
      "image/png": "[encoded data removed]",
      "text/plain": [
       "<matplotlib.figure.Figure at 0x136ec5a4ac8>"
      ]
     },
     "metadata": {},
     "output_type": "display_data"
    }
   ],
   "source": [
    "# Plots of passengers by class\n",
    "\n",
    "plot = sns.factorplot('Class', data = statsi, size=5, aspect=2, kind=\"count\", palette=\"Blues\", legend=True)\n",
    "sns.plt.title('Passengers By Class (in numbers)')\n",
    "\n",
    "plot = sns.factorplot('Class', 'Survived',data = statsi, size=5, aspect=2, ci=None, kind=\"bar\", palette=\"winter_d\")\n",
    "sns.plt.title('Survivors by Class (in percent)')"
   ]
  },
  {
   "cell_type": "markdown",
   "metadata": {},
   "source": [
    "First class passengers had the highest survival rate (62%), while passengers from class 3 had less than 25% chances to survive. Passengers from class 2 had almost 50% chances to survive.\n",
    "Was it a chance, and could the survival odds flip between the classes in a similar disaster like that?\n",
    "\n",
    "H0 = The survival rate will be equal (33.3% to the passengers in each group)\n",
    "\n",
    "Since this is a nominal type of data I will use the Chi-Square test to analyze it:"
   ]
  },
  {
   "cell_type": "code",
   "execution_count": 504,
   "metadata": {},
   "outputs": [
    {
     "name": "stdout",
     "output_type": "stream",
     "text": [
      "\n",
      "Chi-Square Test - Number of survivors by Class\n",
      "==============================================\n",
      "\n",
      "Ho: There is no significant difference between any of the classes' survival rate.\n",
      "Ha: There is a significant difference in the survival rate between any of the 3 classes of passengers.\n",
      "The survival rate should be 33.3% for the 1st Class, 33.3% for the Second Class and 33.3% for the Third Class.\n",
      "\n",
      "Contingency table of the classes' surviuval\n",
      "===========================================\n",
      "Survived    0    1  All\n",
      "Class                  \n",
      "1          80  136  216\n",
      "2          97   87  184\n",
      "3         372  119  491\n",
      "All       549  342  891\n",
      "\n",
      "\n",
      "The Chi-Square (Goodness of fit), Probablility, Degrees Of Freedom, and the Expected frequencies\n",
      "==============================================================================\n",
      "(102.88898875696056, 4.5492517112987927e-23, 2, array([[ 133.09090909,   82.90909091],\n",
      "       [ 113.37373737,   70.62626263],\n",
      "       [ 302.53535354,  188.46464646]]))\n"
     ]
    }
   ],
   "source": [
    "# Chi-Square test to test the goodness of fit between the survival rate of the 3 classes\n",
    "print('\\nChi-Square Test - Number of survivors by Class\\n==============================================\\n\\n'\n",
    "     'Ho: There is no significant difference between any of the classes\\' survival rate.\\n'\n",
    "      'Ha: There is a significant difference in the survival rate between any of the 3 classes of passengers.'\n",
    "      '\\nThe survival rate should be 33.3% for the 1st Class, 33.3% for the Second Class and 33.3% for the Third Class.\\n')\n",
    "\n",
    "# Contingency table of the classes' survival\n",
    "print('Contingency table of the classes\\' surviuval\\n===========================================')\n",
    "print(pd.crosstab(statsi.Class, statsi.Survived, margins=True))\n",
    "print('\\n')\n",
    "\n",
    "chi_sq = pd.crosstab(statsi.Class, statsi.Survived, margins=False)\n",
    "print('The Chi-Square (Goodness of fit), Probablility, Degrees Of Freedom, and the Expected frequencies\\n'\n",
    "     '==============================================================================')\n",
    "print(chi2_contingency(chi_sq))"
   ]
  },
  {
   "cell_type": "markdown",
   "metadata": {},
   "source": [
    "* We can see here that the chi-square statistic is 103 with 2 degrees of freedom. The p-value is smaller than 0.00001. The result is significant at p < 0.5.<br /><br />\n",
    "* If we were to repeat the disaster the survival rates of the 3 classes will repeat themselves 95 percent of the times."
   ]
  },
  {
   "cell_type": "markdown",
   "metadata": {},
   "source": [
    "[Top](#Top)<br />\n",
    "[Class](#class)"
   ]
  },
  {
   "cell_type": "markdown",
   "metadata": {},
   "source": [
    "<a id='gender'></a>\n",
    "# <center><h1>Survivors by Gender</h1></center>\n",
    "[Top](#Top)"
   ]
  },
  {
   "cell_type": "markdown",
   "metadata": {},
   "source": [
    "* Which gender had better survival rates?<br />\n",
    "<br />\n",
    "Let's start with counting the number of passengers on board after leaving the last port of embarkation.<br />\n",
    "After that we'll find what is the percent of the survivors and the number of survivors from each gender:"
   ]
  },
  {
   "cell_type": "markdown",
   "metadata": {},
   "source": [
    "### Number of Passengers"
   ]
  },
  {
   "cell_type": "code",
   "execution_count": 505,
   "metadata": {},
   "outputs": [
    {
     "name": "stdout",
     "output_type": "stream",
     "text": [
      "\n",
      "Number of males and Females on board\n",
      "================================\n",
      "\n",
      "male      577\n",
      "female    314\n",
      "Name: Gender, dtype: int64\n",
      "\n",
      "\n",
      "There were 263 more males than females on board\n",
      "\n"
     ]
    },
    {
     "data": {
      "image/png": "[encoded data removed]",
      "text/plain": [
       "<matplotlib.figure.Figure at 0x136f107a898>"
      ]
     },
     "metadata": {},
     "output_type": "display_data"
    }
   ],
   "source": [
    "# Number of passengers\n",
    "print('\\nNumber of males and Females on board\\n================================\\n')\n",
    "print(statsi.Gender.value_counts())\n",
    "print('\\n')\n",
    "print('There were 263 more males than females on board\\n')\n",
    "# Pie chart of the survivors and victims in percent\n",
    "fig = plt.figure(facecolor='#f7fbff', edgecolor='#08306b', figsize=(400,200), dpi=120)\n",
    "fig.set_figwidth(9)\n",
    "fig.set_figheight(3)\n",
    "\n",
    "pie_chart = (statsi['Survived'].value_counts())\n",
    "colors = ['#d4ebf7', '#eae8ea']\n",
    "plt.pie(pie_chart, shadow=False, colors=colors, autopct='%1.1f%%', labels = ['males', 'females'],\n",
    "        wedgeprops = { 'linewidth' : 1 , 'edgecolor' : 'lightgrey'})\n",
    "plt.axis('equal')\n",
    "plt.title('\\nPercent of males and females on board\\n=============================')\n",
    "plt.show()"
   ]
  },
  {
   "cell_type": "markdown",
   "metadata": {},
   "source": [
    "### Number and percent of males and females from the survivors"
   ]
  },
  {
   "cell_type": "code",
   "execution_count": 506,
   "metadata": {},
   "outputs": [
    {
     "data": {
      "image/png": "[encoded data removed]",
      "text/plain": [
       "<matplotlib.figure.Figure at 0x136ef6c3470>"
      ]
     },
     "metadata": {},
     "output_type": "display_data"
    },
    {
     "name": "stdout",
     "output_type": "stream",
     "text": [
      "\n",
      "Number of survivors by Gender\n",
      "=============================\n",
      "\n",
      "Survived  1.0  All\n",
      "Gender            \n",
      "female    233  233\n",
      "male      109  109\n",
      "All       342  342\n",
      "\n",
      "\n"
     ]
    }
   ],
   "source": [
    "# Pie chart of percent of males and females on board\n",
    "fig = plt.figure(facecolor='#f7fbff', edgecolor='#08306b', figsize=(400,200), dpi=120)\n",
    "fig.set_figwidth(9)\n",
    "fig.set_figheight(3)\n",
    "\n",
    "sbg = statsi # Create new DF for survivors by gender\n",
    "pie_chart = (sbg['Gender'].value_counts())\n",
    "colors = ['#9ecae1', '#94b582']\n",
    "plt.pie(pie_chart, shadow=False, colors=colors, autopct='%1.1f%%', labels = ['females', 'males'], \n",
    "        wedgeprops = { 'linewidth' : 1 , 'edgecolor' : 'black'})\n",
    "plt.axis('equal') \n",
    "plt.title('\\nPercent of males and females from all survivors (342)\\n==========='\n",
    "          '============================')\n",
    "plt.show() # Number of survivors by Gender\n",
    "\n",
    "print('\\nNumber of survivors by Gender\\n=============================\\n')\n",
    "print(pd.crosstab(statsi.Gender, survivors.Survived, margins=True))\n",
    "print('\\n')\n"
   ]
  },
  {
   "cell_type": "markdown",
   "metadata": {},
   "source": [
    "We can see that more females than males survived. But is it significant difference or a statistical error?\n",
    "Before answering this question with a statistical test, lets take a look at the numbers and percentages of survival of both genders and within each gender:"
   ]
  },
  {
   "cell_type": "markdown",
   "metadata": {},
   "source": [
    "# Male survival"
   ]
  },
  {
   "cell_type": "code",
   "execution_count": 507,
   "metadata": {},
   "outputs": [
    {
     "data": {
      "image/png": "[encoded data removed]",
      "text/plain": [
       "<matplotlib.figure.Figure at 0x136ec601a90>"
      ]
     },
     "metadata": {},
     "output_type": "display_data"
    },
    {
     "name": "stdout",
     "output_type": "stream",
     "text": [
      "\n",
      "Number of Male survivors\n",
      "========================\n",
      "\n",
      "Survived_y_n   No  Yes  All\n",
      "Gender                     \n",
      "male          468  109  577\n",
      "All           468  109  577\n",
      "\n",
      "\n"
     ]
    }
   ],
   "source": [
    "# Pie chart of percent of males survived\n",
    "sbgm = sbg\n",
    "sbgm = sbgm.loc[sbgm['Gender'] == 'male']\n",
    "sbgm_chart = sbgm['Survived_y_n'].value_counts(normalize=True) * 100\n",
    "\n",
    "fig = plt.figure(facecolor='#f7fbff', edgecolor='#08306b', figsize=(400,200), dpi=120)\n",
    "fig.set_figwidth(9)\n",
    "fig.set_figheight(3)\n",
    "\n",
    "colors = ['#fce394', '#f8b735']\n",
    "plt.pie(sbgm_chart, shadow=False, colors=colors, autopct='%1.1f%%', \n",
    "        labels = ['males Died', 'males Survived'], wedgeprops = { 'linewidth' : 1 , 'edgecolor' : 'black'})\n",
    "plt.axis('equal') \n",
    "plt.title('\\nmales survivors (109) from all males who embarked (577)\\n=========================================')\n",
    "plt.show()\n",
    "\n",
    "# Percent of Male survivors\n",
    "print('\\nNumber of Male survivors\\n========================\\n')\n",
    "print(pd.crosstab(sbgm.Gender, sbgm.Survived_y_n, margins=True))\n",
    "print('\\n')"
   ]
  },
  {
   "cell_type": "markdown",
   "metadata": {},
   "source": [
    "# Female survival"
   ]
  },
  {
   "cell_type": "code",
   "execution_count": 508,
   "metadata": {},
   "outputs": [
    {
     "data": {
      "image/png": "[encoded data removed]",
      "text/plain": [
       "<matplotlib.figure.Figure at 0x136f07bd1d0>"
      ]
     },
     "metadata": {},
     "output_type": "display_data"
    },
    {
     "name": "stdout",
     "output_type": "stream",
     "text": [
      "\n",
      "Number of Female survivors\n",
      "========================\n",
      "\n",
      "Survived_y_n  No  Yes  All\n",
      "Gender                    \n",
      "female        81  233  314\n",
      "All           81  233  314\n"
     ]
    }
   ],
   "source": [
    "# Pie chart of percent of females survived\n",
    "sbgf = sbg\n",
    "sbgf = sbgf.loc[sbgf['Gender'] == 'female']\n",
    "sbgf_chart = sbgf['Survived_y_n'].value_counts(normalize=True) * 100\n",
    "\n",
    "fig = plt.figure(facecolor='#f7fbff', edgecolor='#08306b', figsize=(400,200), dpi=120)\n",
    "fig.set_figwidth(9)\n",
    "fig.set_figheight(3)\n",
    "\n",
    "colors = ['#6baed6', '#deebf7']\n",
    "plt.pie(sbgf_chart, shadow=False, colors=colors, autopct='%1.1f%%', \n",
    "        labels = ['Female Survived', 'females Died'], wedgeprops = { 'linewidth' : 1 , 'edgecolor' : 'black'})\n",
    "plt.axis('equal') \n",
    "plt.title('\\nFemale survivors (233) from all females who embarked (314)\\n==============================================')\n",
    "plt.show()\n",
    "\n",
    "# Percent of Male survivors\n",
    "print('\\nNumber of Female survivors\\n========================\\n')\n",
    "print(pd.crosstab(sbgf.Gender, sbgf.Survived_y_n, margins=True))"
   ]
  },
  {
   "cell_type": "markdown",
   "metadata": {},
   "source": [
    "* 75% of the females who embarked on the first and last trip of the Titanic survived, compare to only 19% of the males.&nbsp;<br />\n",
    "This means that females had 4 times better chance to survive on this cruise.<br />\n",
    "<br />\n",
    "When the Titanic left the last harbor, there were 577 males on the ship (out of 891 passengers), almost twice the number of females (314). Yet, 68% of the total survivors were females (233).<br />\n",
    "<br />\n",
    "Now, lets check with a statistical test if the difference between the two genders' survival rate is significantly different and is not due to chance.<br />\n",
    "<br />\n",
    "I will us the chi-Square test here as well:"
   ]
  },
  {
   "cell_type": "code",
   "execution_count": 509,
   "metadata": {},
   "outputs": [
    {
     "name": "stdout",
     "output_type": "stream",
     "text": [
      "\n",
      "Chi-Square Test - Number of survivors by Gender\n",
      "=============================\n",
      "\n",
      "Ho: There is no significant difference between males and females's survival rate.\n",
      "Ha: There is a significant difference between males and females's survival rate\n",
      "The survival rate should be 50% males and 50% females.\n",
      "\n",
      "Contingency table of males and females survival\n",
      "===========================================\n",
      "Survived    0    1  All\n",
      "Gender                 \n",
      "female     81  233  314\n",
      "male      468  109  577\n",
      "All       549  342  891\n",
      "\n",
      "\n",
      "The Chi-Square (Goodness of fit), Probablility, Degrees Of Freedom, and the Expected frequencies\n",
      "==============================================================================\n",
      "(260.71702016732104, 1.1973570627755645e-58, 1, array([[ 193.47474747,  120.52525253],\n",
      "       [ 355.52525253,  221.47474747]]))\n"
     ]
    }
   ],
   "source": [
    "# Chi-Square test to test the goodness of fit between males and females who survived\n",
    "print('\\nChi-Square Test - Number of survivors by Gender\\n=============================\\n\\n'\n",
    "     'Ho: There is no significant difference between males and females\\'s survival rate.\\n'\n",
    "     'Ha: There is a significant difference between males and females\\'s survival rate'\n",
    "      '\\nThe survival rate should be 50% males and 50% females.\\n')\n",
    "\n",
    "# Contingency table of males and females survival\n",
    "print('Contingency table of males and females survival\\n===========================================')\n",
    "print(pd.crosstab(statsi.Gender, statsi.Survived, margins=True))\n",
    "print('\\n')\n",
    "\n",
    "chi_s = pd.crosstab(statsi.Gender, statsi.Survived, margins=False)\n",
    "print('The Chi-Square (Goodness of fit), Probablility, Degrees Of Freedom, and the Expected frequencies\\n'\n",
    "     '==============================================================================')\n",
    "print(chi2_contingency(chi_s))"
   ]
  },
  {
   "cell_type": "markdown",
   "metadata": {},
   "source": [
    "The Chi square result is 260 with 1 degree of freedom.<br />\n",
    "<br />\n",
    "The one-tailed P value is less than 0.0001.<br />\n",
    "The association between males, females, and survival is considered to be extremely statistically significant.<br />\n",
    "In other words, females did not survive in such a great proportion by chance. There had to be a cultural code of behavior that says, females first."
   ]
  },
  {
   "cell_type": "markdown",
   "metadata": {},
   "source": [
    "[Top](#Top)<br />\n",
    "[Gender](#gender)"
   ]
  },
  {
   "cell_type": "markdown",
   "metadata": {},
   "source": [
    "<a id='age'></a>\n",
    "# <center><h1>Survivors by Age</h1></center>\n",
    "[Top](#Top)"
   ]
  },
  {
   "cell_type": "markdown",
   "metadata": {},
   "source": [
    "* Which group age had the best chances of survival?"
   ]
  },
  {
   "cell_type": "code",
   "execution_count": 510,
   "metadata": {},
   "outputs": [
    {
     "data": {
      "image/png": "[encoded data removed]",
      "text/plain": [
       "<matplotlib.figure.Figure at 0x136f0f5f7f0>"
      ]
     },
     "metadata": {},
     "output_type": "display_data"
    }
   ],
   "source": [
    "# Plot histograms of the distribution of passengers compare to the distribution of survivors\n",
    "\n",
    "fig = plt.figure(facecolor='#f7fbff', edgecolor='#08306b', figsize=(400,300), dpi=120)\n",
    "fig.set_figwidth(9)\n",
    "fig.set_figheight(3)\n",
    "\n",
    "plt.hist(statsi['Age'], bins = 40, range = (0, 80), alpha = 0.6, label='All Passengers', color = \"skyblue\")\n",
    "plt.hist(survivors['Age'], bins = 40, range = (0, 80), alpha = 0.5, color = \"y\", label='Only Survivors')\n",
    "\n",
    "plt.xlabel(\"Age\")\n",
    "plt.ylabel(\"Count\")\n",
    "plt.legend()\n",
    "plt.title('\\nAge distribution in years\\n==================')\n",
    "plt.show()"
   ]
  },
  {
   "cell_type": "code",
   "execution_count": 511,
   "metadata": {},
   "outputs": [
    {
     "data": {
      "image/png": "[encoded data removed]",
      "text/plain": [
       "<matplotlib.figure.Figure at 0x136edc46048>"
      ]
     },
     "metadata": {},
     "output_type": "display_data"
    }
   ],
   "source": [
    "# Plot histograms of the normalized distributions for the 2 columns above\n",
    "fig = plt.figure(facecolor='#f7fbff', edgecolor='#08306b', figsize=(400,300), dpi=120)\n",
    "fig.set_figwidth(9)\n",
    "fig.set_figheight(3)\n",
    "\n",
    "plt.hist(statsi['Age'], normed=1, bins = 40, range = (0, 80), alpha = 0.6, label='All Passengers', color = \"skyblue\")\n",
    "plt.hist(survivors['Age'], normed=1, bins = 40, range = (0, 80), alpha = 0.5, color = \"y\", label='Only Survivors')\n",
    "\n",
    "plt.xlabel(\"Age\")\n",
    "plt.ylabel(\"Count\")\n",
    "plt.legend()\n",
    "plt.title('\\nPassengers and survivors'' age distributions normalized\\n')\n",
    "plt.show()"
   ]
  },
  {
   "cell_type": "markdown",
   "metadata": {},
   "source": [
    "* We can see from the above plots that passengers and survivors distributions have more or less the same shape, in both plots. In the 'Age distribution in years' plot above we can also see that there is a wide gap between the number of passengers and the number of survivors. This seems like that there were more people who died than survived in most ages.<br />\n",
    "Let’s try to digg in and see if this is really the case or not using the function (age_range) from the top of this document."
   ]
  },
  {
   "cell_type": "markdown",
   "metadata": {
    "collapsed": true
   },
   "source": [
    "# Survivors by age (plot)"
   ]
  },
  {
   "cell_type": "code",
   "execution_count": 512,
   "metadata": {},
   "outputs": [
    {
     "data": {
      "image/png": "[encoded data removed]",
      "text/plain": [
       "<matplotlib.figure.Figure at 0x136f2429240>"
      ]
     },
     "metadata": {},
     "output_type": "display_data"
    }
   ],
   "source": [
    "from matplotlib import cm # Colormap for the pie chart\n",
    "\n",
    "# Passengers by age group in percent pie chart\n",
    "percent_sur = pd.crosstab(survivors.Ages, survivors.Survived, normalize=True)*100\n",
    "\n",
    "fig = plt.figure(facecolor='#f7fbff', edgecolor='#08306b', figsize=(400,300), dpi=120)\n",
    "fig.set_figwidth(9)\n",
    "fig.set_figheight(3)\n",
    "\n",
    "labels = ['01s', '10s', '20s','30s', '40s','50s', '60s','70s']\n",
    "cs=cm.Set1(np.arange(8)/8.)\n",
    "plt.pie(percent_sur, shadow=False, colors=cs, autopct='%1.1f%%', \n",
    "        labels = labels, wedgeprops = { 'linewidth' : 1 , 'edgecolor' : 'gray'},\n",
    "       explode = (0, 0, 0, 0, 0, 0.1, 0.6, 1.4))\n",
    "plt.axis('equal') \n",
    "plt.title('\\nSurvivors by age group in percent\\n==========================')\n",
    "\n",
    "plt.show()"
   ]
  },
  {
   "cell_type": "markdown",
   "metadata": {},
   "source": [
    "* After dividing the Age variable into gaps of 10 years, we can see that the group ages of the 20's and 30's survival rate is the highest. These two group ages also had the highest number of passengers. The same thing goes to the other age groups in respect to their portion of the entire population.<br />\n",
    "<br />\n",
    "Next, I will break down the numbers of passengers and survivors by age groups and compare the percent of survivors from each group to the total number of passengers in the specific group. In that way, it will be easy to find out the group/s with the highest\\lowest rate of survival."
   ]
  },
  {
   "cell_type": "markdown",
   "metadata": {},
   "source": [
    "# Age groups numbers and percents from the entire population"
   ]
  },
  {
   "cell_type": "code",
   "execution_count": 513,
   "metadata": {},
   "outputs": [
    {
     "name": "stdout",
     "output_type": "stream",
     "text": [
      "\n",
      "Passengers by age group in numbers\n",
      "==================================\n",
      "\n",
      "20    260\n",
      "30    199\n",
      "10    127\n",
      "40     96\n",
      "01     69\n",
      "50     42\n",
      "60     16\n",
      "70      5\n",
      "Name: Ages, dtype: int64\n",
      "\n",
      "Percent of each age group from the entire population\n",
      "====================================================\n",
      "Ages\n",
      "01       8.48\n",
      "10      15.60\n",
      "20      31.94\n",
      "30      24.45\n",
      "40      11.79\n",
      "50       5.16\n",
      "60       1.97\n",
      "70       0.61\n",
      "All    100.00\n",
      "Name: All, dtype: float64\n"
     ]
    }
   ],
   "source": [
    "# Passengers by age group in numbers\n",
    "print('\\nPassengers by age group in numbers\\n==================================\\n')\n",
    "print(statsi.Ages.value_counts())\n",
    "\n",
    "# Passengers by age group in percent\n",
    "print('\\nPercent of each age group from the entire population\\n====================================================')\n",
    "passengers = pd.crosstab(statsi.Ages, statsi.Survived_y_n, normalize=True, margins=True)*100\n",
    "Group_percent = (passengers['All'])\n",
    "print(Group_percent)"
   ]
  },
  {
   "cell_type": "markdown",
   "metadata": {},
   "source": [
    "# Age groups numbers and percent from the survivors only"
   ]
  },
  {
   "cell_type": "code",
   "execution_count": 514,
   "metadata": {},
   "outputs": [
    {
     "name": "stdout",
     "output_type": "stream",
     "text": [
      "\n",
      "Percent of survivors by age group\n",
      "=================================\n",
      "Survived      1\n",
      "Ages           \n",
      "01        12.70\n",
      "10        15.56\n",
      "20        28.57\n",
      "30        25.08\n",
      "40        11.11\n",
      "50         5.40\n",
      "60         1.27\n",
      "70         0.32\n",
      "\n",
      "Number of survivors by age group\n",
      "================================\n",
      "Survived_y_n  Yes\n",
      "Ages             \n",
      "01             40\n",
      "10             49\n",
      "20             90\n",
      "30             79\n",
      "40             35\n",
      "50             17\n",
      "60              4\n",
      "70              1\n"
     ]
    }
   ],
   "source": [
    "# Percent and Number of survivors by age group\n",
    "print('\\nPercent of survivors by age group\\n=================================')\n",
    "percent_sur = pd.crosstab(survivors.Ages, survivors.Survived, normalize=True)*100\n",
    "print(percent_sur)\n",
    "\n",
    "print('\\nNumber of survivors by age group\\n================================')\n",
    "print(pd.crosstab(survivors.Ages, survivors.Survived_y_n))"
   ]
  },
  {
   "cell_type": "markdown",
   "metadata": {},
   "source": [
    "* Looking closer at the data we can see that some age groups were almost completely wiped out, like people older than 70 years old. This group that had 5 members lost 4! The 60s group lost 3/4 of its members. From 16 only 4 survived.\n",
    "Below is another table with the number of survivors from within each group:"
   ]
  },
  {
   "cell_type": "markdown",
   "metadata": {},
   "source": [
    "# Survival within each group age"
   ]
  },
  {
   "cell_type": "code",
   "execution_count": 515,
   "metadata": {},
   "outputs": [
    {
     "name": "stdout",
     "output_type": "stream",
     "text": [
      "\n",
      "Number of survivors from each group age\n",
      "=======================================\n"
     ]
    },
    {
     "data": {
      "text/html": [
       "<style  type=\"text/css\" >\n",
       "    #T_ae1c5336_4ff2_11e7_a59a_00051bd03e08row0_col1 {\n",
       "            background-color:  Yellow;\n",
       "        }    #T_ae1c5336_4ff2_11e7_a59a_00051bd03e08row1_col1 {\n",
       "            background-color:  Yellow;\n",
       "        }    #T_ae1c5336_4ff2_11e7_a59a_00051bd03e08row2_col1 {\n",
       "            background-color:  Yellow;\n",
       "        }    #T_ae1c5336_4ff2_11e7_a59a_00051bd03e08row3_col1 {\n",
       "            background-color:  Yellow;\n",
       "        }    #T_ae1c5336_4ff2_11e7_a59a_00051bd03e08row4_col1 {\n",
       "            background-color:  Yellow;\n",
       "        }    #T_ae1c5336_4ff2_11e7_a59a_00051bd03e08row5_col1 {\n",
       "            background-color:  Yellow;\n",
       "        }    #T_ae1c5336_4ff2_11e7_a59a_00051bd03e08row6_col1 {\n",
       "            background-color:  Yellow;\n",
       "        }    #T_ae1c5336_4ff2_11e7_a59a_00051bd03e08row7_col1 {\n",
       "            background-color:  Yellow;\n",
       "        }    #T_ae1c5336_4ff2_11e7_a59a_00051bd03e08row8_col1 {\n",
       "            background-color:  Yellow;\n",
       "        }</style>  \n",
       "<table id=\"T_ae1c5336_4ff2_11e7_a59a_00051bd03e08\" > \n",
       "<thead>    <tr> \n",
       "        <th class=\"index_name level0\" >Survived</th> \n",
       "        <th class=\"col_heading level0 col0\" >0</th> \n",
       "        <th class=\"col_heading level0 col1\" >1</th> \n",
       "        <th class=\"col_heading level0 col2\" >All</th> \n",
       "    </tr>    <tr> \n",
       "        <th class=\"index_name level0\" >Ages</th> \n",
       "        <th class=\"blank\" ></th> \n",
       "        <th class=\"blank\" ></th> \n",
       "        <th class=\"blank\" ></th> \n",
       "    </tr></thead> \n",
       "<tbody>    <tr> \n",
       "        <th id=\"T_ae1c5336_4ff2_11e7_a59a_00051bd03e08\" class=\"row_heading level0 row0\" >01</th> \n",
       "        <td id=\"T_ae1c5336_4ff2_11e7_a59a_00051bd03e08row0_col0\" class=\"data row0 col0\" >29</td> \n",
       "        <td id=\"T_ae1c5336_4ff2_11e7_a59a_00051bd03e08row0_col1\" class=\"data row0 col1\" >40</td> \n",
       "        <td id=\"T_ae1c5336_4ff2_11e7_a59a_00051bd03e08row0_col2\" class=\"data row0 col2\" >69</td> \n",
       "    </tr>    <tr> \n",
       "        <th id=\"T_ae1c5336_4ff2_11e7_a59a_00051bd03e08\" class=\"row_heading level0 row1\" >10</th> \n",
       "        <td id=\"T_ae1c5336_4ff2_11e7_a59a_00051bd03e08row1_col0\" class=\"data row1 col0\" >78</td> \n",
       "        <td id=\"T_ae1c5336_4ff2_11e7_a59a_00051bd03e08row1_col1\" class=\"data row1 col1\" >49</td> \n",
       "        <td id=\"T_ae1c5336_4ff2_11e7_a59a_00051bd03e08row1_col2\" class=\"data row1 col2\" >127</td> \n",
       "    </tr>    <tr> \n",
       "        <th id=\"T_ae1c5336_4ff2_11e7_a59a_00051bd03e08\" class=\"row_heading level0 row2\" >20</th> \n",
       "        <td id=\"T_ae1c5336_4ff2_11e7_a59a_00051bd03e08row2_col0\" class=\"data row2 col0\" >170</td> \n",
       "        <td id=\"T_ae1c5336_4ff2_11e7_a59a_00051bd03e08row2_col1\" class=\"data row2 col1\" >90</td> \n",
       "        <td id=\"T_ae1c5336_4ff2_11e7_a59a_00051bd03e08row2_col2\" class=\"data row2 col2\" >260</td> \n",
       "    </tr>    <tr> \n",
       "        <th id=\"T_ae1c5336_4ff2_11e7_a59a_00051bd03e08\" class=\"row_heading level0 row3\" >30</th> \n",
       "        <td id=\"T_ae1c5336_4ff2_11e7_a59a_00051bd03e08row3_col0\" class=\"data row3 col0\" >120</td> \n",
       "        <td id=\"T_ae1c5336_4ff2_11e7_a59a_00051bd03e08row3_col1\" class=\"data row3 col1\" >79</td> \n",
       "        <td id=\"T_ae1c5336_4ff2_11e7_a59a_00051bd03e08row3_col2\" class=\"data row3 col2\" >199</td> \n",
       "    </tr>    <tr> \n",
       "        <th id=\"T_ae1c5336_4ff2_11e7_a59a_00051bd03e08\" class=\"row_heading level0 row4\" >40</th> \n",
       "        <td id=\"T_ae1c5336_4ff2_11e7_a59a_00051bd03e08row4_col0\" class=\"data row4 col0\" >61</td> \n",
       "        <td id=\"T_ae1c5336_4ff2_11e7_a59a_00051bd03e08row4_col1\" class=\"data row4 col1\" >35</td> \n",
       "        <td id=\"T_ae1c5336_4ff2_11e7_a59a_00051bd03e08row4_col2\" class=\"data row4 col2\" >96</td> \n",
       "    </tr>    <tr> \n",
       "        <th id=\"T_ae1c5336_4ff2_11e7_a59a_00051bd03e08\" class=\"row_heading level0 row5\" >50</th> \n",
       "        <td id=\"T_ae1c5336_4ff2_11e7_a59a_00051bd03e08row5_col0\" class=\"data row5 col0\" >25</td> \n",
       "        <td id=\"T_ae1c5336_4ff2_11e7_a59a_00051bd03e08row5_col1\" class=\"data row5 col1\" >17</td> \n",
       "        <td id=\"T_ae1c5336_4ff2_11e7_a59a_00051bd03e08row5_col2\" class=\"data row5 col2\" >42</td> \n",
       "    </tr>    <tr> \n",
       "        <th id=\"T_ae1c5336_4ff2_11e7_a59a_00051bd03e08\" class=\"row_heading level0 row6\" >60</th> \n",
       "        <td id=\"T_ae1c5336_4ff2_11e7_a59a_00051bd03e08row6_col0\" class=\"data row6 col0\" >12</td> \n",
       "        <td id=\"T_ae1c5336_4ff2_11e7_a59a_00051bd03e08row6_col1\" class=\"data row6 col1\" >4</td> \n",
       "        <td id=\"T_ae1c5336_4ff2_11e7_a59a_00051bd03e08row6_col2\" class=\"data row6 col2\" >16</td> \n",
       "    </tr>    <tr> \n",
       "        <th id=\"T_ae1c5336_4ff2_11e7_a59a_00051bd03e08\" class=\"row_heading level0 row7\" >70</th> \n",
       "        <td id=\"T_ae1c5336_4ff2_11e7_a59a_00051bd03e08row7_col0\" class=\"data row7 col0\" >4</td> \n",
       "        <td id=\"T_ae1c5336_4ff2_11e7_a59a_00051bd03e08row7_col1\" class=\"data row7 col1\" >1</td> \n",
       "        <td id=\"T_ae1c5336_4ff2_11e7_a59a_00051bd03e08row7_col2\" class=\"data row7 col2\" >5</td> \n",
       "    </tr>    <tr> \n",
       "        <th id=\"T_ae1c5336_4ff2_11e7_a59a_00051bd03e08\" class=\"row_heading level0 row8\" >All</th> \n",
       "        <td id=\"T_ae1c5336_4ff2_11e7_a59a_00051bd03e08row8_col0\" class=\"data row8 col0\" >499</td> \n",
       "        <td id=\"T_ae1c5336_4ff2_11e7_a59a_00051bd03e08row8_col1\" class=\"data row8 col1\" >315</td> \n",
       "        <td id=\"T_ae1c5336_4ff2_11e7_a59a_00051bd03e08row8_col2\" class=\"data row8 col2\" >814</td> \n",
       "    </tr></tbody> \n",
       "</table> "
      ],
      "text/plain": [
       "<pandas.io.formats.style.Styler at 0x136edb94518>"
      ]
     },
     "execution_count": 515,
     "metadata": {},
     "output_type": "execute_result"
    }
   ],
   "source": [
    "# What is the number of survival from within each group age?\n",
    "group_ages_surv = statsi\n",
    "group_ages_surv = group_ages_surv[['Survived', 'Ages', 'Gender']]\n",
    "group_ages_surv = pd.crosstab(group_ages_surv.Ages, group_ages_surv.Survived,  margins=True)\n",
    "print('\\nNumber of survivors from each group age\\n=======================================')\n",
    "\n",
    "def highlight_vals(val, color='Yellow'): # Highlight sells in the table\n",
    "    if val > 0:\n",
    "        return 'background-color: %s' % color\n",
    "    else:\n",
    "        return 'None'\n",
    "\n",
    "group_ages_surv.style.applymap(highlight_vals, subset=[1])"
   ]
  },
  {
   "cell_type": "markdown",
   "metadata": {},
   "source": [
    "* The largest age groups of survivors are the 20s and the 30s. This is merely because they constituted the biggest group in the age distribution of all passengers. But being the group that had the highest number of survivors does not mean that their chances were better than other age groups' members. Below are two ways to demonstrate that. A table with the groups and their survival rate and a bar plot with the same information:"
   ]
  },
  {
   "cell_type": "code",
   "execution_count": 516,
   "metadata": {},
   "outputs": [
    {
     "name": "stdout",
     "output_type": "stream",
     "text": [
      "\n",
      "Percent of survivors from within each group age\n",
      "===============================================\n"
     ]
    },
    {
     "data": {
      "text/html": [
       "<style  type=\"text/css\" >\n",
       "    #T_b40044b4_4ff2_11e7_b2d4_00051bd03e08row0_col3 {\n",
       "            background-color:  Yellow;\n",
       "        }    #T_b40044b4_4ff2_11e7_b2d4_00051bd03e08row1_col3 {\n",
       "            background-color:  Yellow;\n",
       "        }    #T_b40044b4_4ff2_11e7_b2d4_00051bd03e08row2_col3 {\n",
       "            background-color:  Yellow;\n",
       "        }    #T_b40044b4_4ff2_11e7_b2d4_00051bd03e08row3_col3 {\n",
       "            background-color:  Yellow;\n",
       "        }    #T_b40044b4_4ff2_11e7_b2d4_00051bd03e08row4_col3 {\n",
       "            background-color:  Yellow;\n",
       "        }    #T_b40044b4_4ff2_11e7_b2d4_00051bd03e08row5_col3 {\n",
       "            background-color:  Yellow;\n",
       "        }    #T_b40044b4_4ff2_11e7_b2d4_00051bd03e08row6_col3 {\n",
       "            background-color:  Yellow;\n",
       "        }    #T_b40044b4_4ff2_11e7_b2d4_00051bd03e08row7_col3 {\n",
       "            background-color:  Yellow;\n",
       "        }    #T_b40044b4_4ff2_11e7_b2d4_00051bd03e08row8_col3 {\n",
       "            background-color:  Yellow;\n",
       "        }</style>  \n",
       "<table id=\"T_b40044b4_4ff2_11e7_b2d4_00051bd03e08\" > \n",
       "<thead>    <tr> \n",
       "        <th class=\"index_name level0\" >Survived</th> \n",
       "        <th class=\"col_heading level0 col0\" >0</th> \n",
       "        <th class=\"col_heading level0 col1\" >1</th> \n",
       "        <th class=\"col_heading level0 col2\" >All</th> \n",
       "        <th class=\"col_heading level0 col3\" >Percent</th> \n",
       "        <th class=\"col_heading level0 col4\" >Age Group</th> \n",
       "    </tr>    <tr> \n",
       "        <th class=\"index_name level0\" >Ages</th> \n",
       "        <th class=\"blank\" ></th> \n",
       "        <th class=\"blank\" ></th> \n",
       "        <th class=\"blank\" ></th> \n",
       "        <th class=\"blank\" ></th> \n",
       "        <th class=\"blank\" ></th> \n",
       "    </tr></thead> \n",
       "<tbody>    <tr> \n",
       "        <th id=\"T_b40044b4_4ff2_11e7_b2d4_00051bd03e08\" class=\"row_heading level0 row0\" >01</th> \n",
       "        <td id=\"T_b40044b4_4ff2_11e7_b2d4_00051bd03e08row0_col0\" class=\"data row0 col0\" >29</td> \n",
       "        <td id=\"T_b40044b4_4ff2_11e7_b2d4_00051bd03e08row0_col1\" class=\"data row0 col1\" >40</td> \n",
       "        <td id=\"T_b40044b4_4ff2_11e7_b2d4_00051bd03e08row0_col2\" class=\"data row0 col2\" >69</td> \n",
       "        <td id=\"T_b40044b4_4ff2_11e7_b2d4_00051bd03e08row0_col3\" class=\"data row0 col3\" >58</td> \n",
       "        <td id=\"T_b40044b4_4ff2_11e7_b2d4_00051bd03e08row0_col4\" class=\"data row0 col4\" >01</td> \n",
       "    </tr>    <tr> \n",
       "        <th id=\"T_b40044b4_4ff2_11e7_b2d4_00051bd03e08\" class=\"row_heading level0 row1\" >10</th> \n",
       "        <td id=\"T_b40044b4_4ff2_11e7_b2d4_00051bd03e08row1_col0\" class=\"data row1 col0\" >78</td> \n",
       "        <td id=\"T_b40044b4_4ff2_11e7_b2d4_00051bd03e08row1_col1\" class=\"data row1 col1\" >49</td> \n",
       "        <td id=\"T_b40044b4_4ff2_11e7_b2d4_00051bd03e08row1_col2\" class=\"data row1 col2\" >127</td> \n",
       "        <td id=\"T_b40044b4_4ff2_11e7_b2d4_00051bd03e08row1_col3\" class=\"data row1 col3\" >39</td> \n",
       "        <td id=\"T_b40044b4_4ff2_11e7_b2d4_00051bd03e08row1_col4\" class=\"data row1 col4\" >10</td> \n",
       "    </tr>    <tr> \n",
       "        <th id=\"T_b40044b4_4ff2_11e7_b2d4_00051bd03e08\" class=\"row_heading level0 row2\" >20</th> \n",
       "        <td id=\"T_b40044b4_4ff2_11e7_b2d4_00051bd03e08row2_col0\" class=\"data row2 col0\" >170</td> \n",
       "        <td id=\"T_b40044b4_4ff2_11e7_b2d4_00051bd03e08row2_col1\" class=\"data row2 col1\" >90</td> \n",
       "        <td id=\"T_b40044b4_4ff2_11e7_b2d4_00051bd03e08row2_col2\" class=\"data row2 col2\" >260</td> \n",
       "        <td id=\"T_b40044b4_4ff2_11e7_b2d4_00051bd03e08row2_col3\" class=\"data row2 col3\" >35</td> \n",
       "        <td id=\"T_b40044b4_4ff2_11e7_b2d4_00051bd03e08row2_col4\" class=\"data row2 col4\" >20</td> \n",
       "    </tr>    <tr> \n",
       "        <th id=\"T_b40044b4_4ff2_11e7_b2d4_00051bd03e08\" class=\"row_heading level0 row3\" >30</th> \n",
       "        <td id=\"T_b40044b4_4ff2_11e7_b2d4_00051bd03e08row3_col0\" class=\"data row3 col0\" >120</td> \n",
       "        <td id=\"T_b40044b4_4ff2_11e7_b2d4_00051bd03e08row3_col1\" class=\"data row3 col1\" >79</td> \n",
       "        <td id=\"T_b40044b4_4ff2_11e7_b2d4_00051bd03e08row3_col2\" class=\"data row3 col2\" >199</td> \n",
       "        <td id=\"T_b40044b4_4ff2_11e7_b2d4_00051bd03e08row3_col3\" class=\"data row3 col3\" >40</td> \n",
       "        <td id=\"T_b40044b4_4ff2_11e7_b2d4_00051bd03e08row3_col4\" class=\"data row3 col4\" >30</td> \n",
       "    </tr>    <tr> \n",
       "        <th id=\"T_b40044b4_4ff2_11e7_b2d4_00051bd03e08\" class=\"row_heading level0 row4\" >40</th> \n",
       "        <td id=\"T_b40044b4_4ff2_11e7_b2d4_00051bd03e08row4_col0\" class=\"data row4 col0\" >61</td> \n",
       "        <td id=\"T_b40044b4_4ff2_11e7_b2d4_00051bd03e08row4_col1\" class=\"data row4 col1\" >35</td> \n",
       "        <td id=\"T_b40044b4_4ff2_11e7_b2d4_00051bd03e08row4_col2\" class=\"data row4 col2\" >96</td> \n",
       "        <td id=\"T_b40044b4_4ff2_11e7_b2d4_00051bd03e08row4_col3\" class=\"data row4 col3\" >36</td> \n",
       "        <td id=\"T_b40044b4_4ff2_11e7_b2d4_00051bd03e08row4_col4\" class=\"data row4 col4\" >40</td> \n",
       "    </tr>    <tr> \n",
       "        <th id=\"T_b40044b4_4ff2_11e7_b2d4_00051bd03e08\" class=\"row_heading level0 row5\" >50</th> \n",
       "        <td id=\"T_b40044b4_4ff2_11e7_b2d4_00051bd03e08row5_col0\" class=\"data row5 col0\" >25</td> \n",
       "        <td id=\"T_b40044b4_4ff2_11e7_b2d4_00051bd03e08row5_col1\" class=\"data row5 col1\" >17</td> \n",
       "        <td id=\"T_b40044b4_4ff2_11e7_b2d4_00051bd03e08row5_col2\" class=\"data row5 col2\" >42</td> \n",
       "        <td id=\"T_b40044b4_4ff2_11e7_b2d4_00051bd03e08row5_col3\" class=\"data row5 col3\" >40</td> \n",
       "        <td id=\"T_b40044b4_4ff2_11e7_b2d4_00051bd03e08row5_col4\" class=\"data row5 col4\" >50</td> \n",
       "    </tr>    <tr> \n",
       "        <th id=\"T_b40044b4_4ff2_11e7_b2d4_00051bd03e08\" class=\"row_heading level0 row6\" >60</th> \n",
       "        <td id=\"T_b40044b4_4ff2_11e7_b2d4_00051bd03e08row6_col0\" class=\"data row6 col0\" >12</td> \n",
       "        <td id=\"T_b40044b4_4ff2_11e7_b2d4_00051bd03e08row6_col1\" class=\"data row6 col1\" >4</td> \n",
       "        <td id=\"T_b40044b4_4ff2_11e7_b2d4_00051bd03e08row6_col2\" class=\"data row6 col2\" >16</td> \n",
       "        <td id=\"T_b40044b4_4ff2_11e7_b2d4_00051bd03e08row6_col3\" class=\"data row6 col3\" >25</td> \n",
       "        <td id=\"T_b40044b4_4ff2_11e7_b2d4_00051bd03e08row6_col4\" class=\"data row6 col4\" >60</td> \n",
       "    </tr>    <tr> \n",
       "        <th id=\"T_b40044b4_4ff2_11e7_b2d4_00051bd03e08\" class=\"row_heading level0 row7\" >70</th> \n",
       "        <td id=\"T_b40044b4_4ff2_11e7_b2d4_00051bd03e08row7_col0\" class=\"data row7 col0\" >4</td> \n",
       "        <td id=\"T_b40044b4_4ff2_11e7_b2d4_00051bd03e08row7_col1\" class=\"data row7 col1\" >1</td> \n",
       "        <td id=\"T_b40044b4_4ff2_11e7_b2d4_00051bd03e08row7_col2\" class=\"data row7 col2\" >5</td> \n",
       "        <td id=\"T_b40044b4_4ff2_11e7_b2d4_00051bd03e08row7_col3\" class=\"data row7 col3\" >20</td> \n",
       "        <td id=\"T_b40044b4_4ff2_11e7_b2d4_00051bd03e08row7_col4\" class=\"data row7 col4\" >70</td> \n",
       "    </tr>    <tr> \n",
       "        <th id=\"T_b40044b4_4ff2_11e7_b2d4_00051bd03e08\" class=\"row_heading level0 row8\" >All</th> \n",
       "        <td id=\"T_b40044b4_4ff2_11e7_b2d4_00051bd03e08row8_col0\" class=\"data row8 col0\" >499</td> \n",
       "        <td id=\"T_b40044b4_4ff2_11e7_b2d4_00051bd03e08row8_col1\" class=\"data row8 col1\" >315</td> \n",
       "        <td id=\"T_b40044b4_4ff2_11e7_b2d4_00051bd03e08row8_col2\" class=\"data row8 col2\" >814</td> \n",
       "        <td id=\"T_b40044b4_4ff2_11e7_b2d4_00051bd03e08row8_col3\" class=\"data row8 col3\" >39</td> \n",
       "        <td id=\"T_b40044b4_4ff2_11e7_b2d4_00051bd03e08row8_col4\" class=\"data row8 col4\" >All</td> \n",
       "    </tr></tbody> \n",
       "</table> "
      ],
      "text/plain": [
       "<pandas.io.formats.style.Styler at 0x136f0b30668>"
      ]
     },
     "execution_count": 516,
     "metadata": {},
     "output_type": "execute_result"
    }
   ],
   "source": [
    "# What is the percent of survival from within each group age?\n",
    "\n",
    "print('\\nPercent of survivors from within each group age\\n===============================================')\n",
    "\n",
    "def highlight_vals(val, color='Yellow'): # Highlight sells in the table\n",
    "    if val > 0:\n",
    "        return 'background-color: %s' % color\n",
    "    else:\n",
    "        return 'None'\n",
    "group_ages_per = group_ages_surv\n",
    "group_ages_per['Percent'] = group_ages_per[1]*100/group_ages_per['All']\n",
    "group_ages_per['Age Group'] = group_ages_per.index\n",
    "group_ages_per['Percent'].sort_values(ascending=False)\n",
    "group_ages_per.style.applymap(highlight_vals, subset=['Percent'])"
   ]
  },
  {
   "cell_type": "code",
   "execution_count": 517,
   "metadata": {},
   "outputs": [
    {
     "name": "stdout",
     "output_type": "stream",
     "text": [
      "\n",
      "Percent of survivors from within each group age:\n"
     ]
    },
    {
     "data": {
      "text/plain": [
       "<matplotlib.text.Text at 0x136eca3a710>"
      ]
     },
     "execution_count": 517,
     "metadata": {},
     "output_type": "execute_result"
    },
    {
     "data": {
      "image/png": "[encoded data removed]",
      "text/plain": [
       "<matplotlib.figure.Figure at 0x136eafa3ef0>"
      ]
     },
     "metadata": {},
     "output_type": "display_data"
    }
   ],
   "source": [
    "# Percent of survivors from each group age\n",
    "print('\\nPercent of survivors from within each group age:')\n",
    "\n",
    "sns.factorplot(x='Age Group', y='Percent', data=group_ages_per, size=3, aspect=4\n",
    "               , kind='bar')\n",
    "sns.plt.title('Percent of survivors by group age')"
   ]
  },
  {
   "cell_type": "markdown",
   "metadata": {},
   "source": [
    "* From the above bar plot and crosstab table we can see that 58% of children under 10 years old survived and thus make it the age group with the best survival rate.&nbsp;<br />\n",
    "<br />\n",
    "We can also see on the other side of the plot that passengers in their 60s and 70s had less than half survival rate than the rate of children under 10. This answers the cultural code - children first.<br />\n",
    "The rest of the age groups are close to the average survival rate, which was 39%.<br />\n",
    "<br />\n",
    "Now, let’s try to see if there was a difference in gender survival in the 1-10 years old’s children:"
   ]
  },
  {
   "cell_type": "code",
   "execution_count": 518,
   "metadata": {},
   "outputs": [
    {
     "data": {
      "text/html": [
       "<div>\n",
       "<style>\n",
       "    .dataframe thead tr:only-child th {\n",
       "        text-align: right;\n",
       "    }\n",
       "\n",
       "    .dataframe thead th {\n",
       "        text-align: left;\n",
       "    }\n",
       "\n",
       "    .dataframe tbody tr th {\n",
       "        vertical-align: top;\n",
       "    }\n",
       "</style>\n",
       "<table border=\"1\" class=\"dataframe\">\n",
       "  <thead>\n",
       "    <tr style=\"text-align: right;\">\n",
       "      <th>Gender</th>\n",
       "      <th>female</th>\n",
       "      <th>male</th>\n",
       "      <th>All</th>\n",
       "    </tr>\n",
       "    <tr>\n",
       "      <th>Ages</th>\n",
       "      <th></th>\n",
       "      <th></th>\n",
       "      <th></th>\n",
       "    </tr>\n",
       "  </thead>\n",
       "  <tbody>\n",
       "    <tr>\n",
       "      <th>01</th>\n",
       "      <td>20</td>\n",
       "      <td>20</td>\n",
       "      <td>40</td>\n",
       "    </tr>\n",
       "  </tbody>\n",
       "</table>\n",
       "</div>"
      ],
      "text/plain": [
       "Gender  female  male  All\n",
       "Ages                     \n",
       "01          20    20   40"
      ]
     },
     "execution_count": 518,
     "metadata": {},
     "output_type": "execute_result"
    }
   ],
   "source": [
    "group_ages_per_gen = statsi\n",
    "group_ages_per_gen = group_ages_per_gen.loc[group_ages_per_gen['Survived'] == 1]\n",
    "group_ages_per_gen = group_ages_per_gen[['Survived', 'Ages', 'Gender']]\n",
    "group_ages_per_gen = pd.crosstab(group_ages_per_gen.Ages, group_ages_per_gen.Gender,  margins=True)\n",
    "group_ages_per_gen[0:1]"
   ]
  },
  {
   "cell_type": "markdown",
   "metadata": {},
   "source": [
    "* As the table above indicates, both girls and boys 0-10 years old had the same survival rate."
   ]
  },
  {
   "cell_type": "markdown",
   "metadata": {},
   "source": [
    "[Top](#Top)<br />\n",
    "[Age](#age)\n"
   ]
  },
  {
   "cell_type": "markdown",
   "metadata": {},
   "source": [
    "<a id='fare'></a>\n",
    "# <center><h1>Survivors by Fare</h1></center>\n",
    "[Top](#Top)"
   ]
  },
  {
   "cell_type": "markdown",
   "metadata": {},
   "source": [
    "### First, checking the distribution of all the tickets that were sold:"
   ]
  },
  {
   "cell_type": "code",
   "execution_count": 519,
   "metadata": {},
   "outputs": [
    {
     "data": {
      "text/plain": [
       "<matplotlib.axes._subplots.AxesSubplot at 0x136ec743f60>"
      ]
     },
     "execution_count": 519,
     "metadata": {},
     "output_type": "execute_result"
    },
    {
     "data": {
      "image/png": "[encoded data removed]",
      "text/plain": [
       "<matplotlib.figure.Figure at 0x136ec75dc88>"
      ]
     },
     "metadata": {},
     "output_type": "display_data"
    }
   ],
   "source": [
    "fig = plt.figure(facecolor='#f7fbff', edgecolor='#08306b', figsize=(400,200), dpi=120)\n",
    "fig.set_figwidth(9)\n",
    "fig.set_figheight(2)\n",
    "\n",
    "statsi['Fare'].plot(kind='density', legend=True)"
   ]
  },
  {
   "cell_type": "markdown",
   "metadata": {},
   "source": [
    "From the above plot, we see that most of the passengers paid anywhere between 0 and ~$50 for a ticket. Also, we can see bumps in the $200s and $500s ticket prices. Let's take a closer look at those numbers:"
   ]
  },
  {
   "cell_type": "code",
   "execution_count": 520,
   "metadata": {},
   "outputs": [
    {
     "name": "stdout",
     "output_type": "stream",
     "text": [
      "count    891.00\n",
      "mean      31.79\n",
      "std       49.70\n",
      "min        0.00\n",
      "25%        7.00\n",
      "50%       14.00\n",
      "75%       31.00\n",
      "max      512.00\n",
      "Name: Fare, dtype: float64\n"
     ]
    }
   ],
   "source": [
    "# Ticket(Fare) column basic statistics\n",
    "print(statsi['Fare'].describe())"
   ]
  },
  {
   "cell_type": "markdown",
   "metadata": {},
   "source": [
    "It seems that there is a huge difference between the max and the average prices of tickets. The standard deviation is bigger than the mean. There must be outliers, let's check if we can find them with a boxplot:"
   ]
  },
  {
   "cell_type": "markdown",
   "metadata": {},
   "source": [
    "# Outliers who paid more than $149 for their ticket"
   ]
  },
  {
   "cell_type": "code",
   "execution_count": 521,
   "metadata": {},
   "outputs": [
    {
     "data": {
      "image/png": "[encoded data removed]",
      "text/plain": [
       "<matplotlib.figure.Figure at 0x136ee385860>"
      ]
     },
     "metadata": {},
     "output_type": "display_data"
    }
   ],
   "source": [
    "# Boxplot with outliers\n",
    "data = statsi['Fare']\n",
    "\n",
    "fig = plt.figure(facecolor='#f7fbff', edgecolor='#08306b', figsize=(400,200), dpi=120)\n",
    "fig.set_figwidth(9)\n",
    "fig.set_figheight(2)\n",
    "\n",
    "plt.boxplot(data, 0, 'gD', showmeans=True, vert=False)\n",
    "plt.title('Ticket Prices Outliers')\n",
    "plt.show()"
   ]
  },
  {
   "cell_type": "markdown",
   "metadata": {},
   "source": [
    "Most of the x axis above (showing the distribution of the ticket prices) is populated by outliers (in green). \n",
    "Next is a table with only the records of passengers who paid more than $149, which are the outliers."
   ]
  },
  {
   "cell_type": "code",
   "execution_count": 522,
   "metadata": {},
   "outputs": [
    {
     "name": "stdout",
     "output_type": "stream",
     "text": [
      "\n",
      "Outliers - Ticket price and the number of people who purchases in this price\n",
      "============================================================================\n",
      "221    1\n",
      "247    2\n",
      "262    2\n",
      "164    2\n",
      "153    3\n",
      "512    3\n",
      "211    4\n",
      "263    4\n",
      "227    4\n",
      "151    4\n",
      "Name: Fare, dtype: int64\n",
      "\n",
      "Survival rate for the outliers\n",
      "==============================\n",
      "Yes    0.69\n",
      "No     0.31\n",
      "Name: Survived_y_n, dtype: float64\n",
      "\n",
      "Number of Outliers who survived\n",
      "===============================\n",
      "Yes    20\n",
      "No      9\n",
      "Name: Survived_y_n, dtype: int64\n"
     ]
    }
   ],
   "source": [
    "# Who are the outliers?\n",
    "# Keep only the ones that are within +3 standard deviations in the Fare column\n",
    "# Any price higher than $149 (+3 standard deviations) is considered an outlier\n",
    "\n",
    "\n",
    "print('\\nOutliers - Ticket price and the number of people who purchases in this price\\n============================================================================')\n",
    "outliers = statsi # Create a new dataframe only for outliers\n",
    "outliers['Fare'] = outliers['Fare'].astype(int) # Change teh Fare column to integer\n",
    "outliers = outliers[outliers['Fare'] >= outliers['Fare'].std()*3] # Include in the dataframe only passengers who\n",
    "outliers['Fare'].count() # Number of outliers is 29 out of 891 passengers\n",
    "print(outliers['Fare'].value_counts().sort_values())\n",
    "\n",
    "print('\\nSurvival rate for the outliers\\n==============================')\n",
    "print(outliers['Survived_y_n'].value_counts(normalize=True) )\n",
    "\n",
    "print('\\nNumber of Outliers who survived\\n===============================')\n",
    "print(outliers['Survived_y_n'].value_counts() )"
   ]
  },
  {
   "cell_type": "markdown",
   "metadata": {},
   "source": [
    "Breaking down the numbers in the Fare variable, 69 percent of the passengers who paid more than 149 dollars for their ticket survived! In numbers, it is 20 passengers who survived and 9 who did not.<br />\n",
    "<br />\n",
    "Also, the group that stands out most is the 512 dollars one: 3 passengers paid this sum of money, which is 128 times more expensive than the lowest price ticket ($4) and 16 times more than the median price.<br />\n",
    "<br />\n",
    "Did those 3 passengers survive?"
   ]
  },
  {
   "cell_type": "code",
   "execution_count": 523,
   "metadata": {},
   "outputs": [
    {
     "name": "stdout",
     "output_type": "stream",
     "text": [
      "Top 3 most expensive ticket holders survival:\n"
     ]
    },
    {
     "data": {
      "text/html": [
       "<style  type=\"text/css\" >\n",
       "    #T_2ce907ae_4ff3_11e7_a621_00051bd03e08row0_col0 {\n",
       "            background-color:  Yellow;\n",
       "        }    #T_2ce907ae_4ff3_11e7_a621_00051bd03e08row1_col0 {\n",
       "            background-color:  Yellow;\n",
       "        }    #T_2ce907ae_4ff3_11e7_a621_00051bd03e08row2_col0 {\n",
       "            background-color:  Yellow;\n",
       "        }</style>  \n",
       "<table id=\"T_2ce907ae_4ff3_11e7_a621_00051bd03e08\" > \n",
       "<thead>    <tr> \n",
       "        <th class=\"blank level0\" ></th> \n",
       "        <th class=\"col_heading level0 col0\" >Survived</th> \n",
       "        <th class=\"col_heading level0 col1\" >Class</th> \n",
       "        <th class=\"col_heading level0 col2\" >Gender</th> \n",
       "        <th class=\"col_heading level0 col3\" >Age</th> \n",
       "        <th class=\"col_heading level0 col4\" >Fare</th> \n",
       "        <th class=\"col_heading level0 col5\" >Sex</th> \n",
       "        <th class=\"col_heading level0 col6\" >Survived_y_n</th> \n",
       "        <th class=\"col_heading level0 col7\" >Ages</th> \n",
       "    </tr></thead> \n",
       "<tbody>    <tr> \n",
       "        <th id=\"T_2ce907ae_4ff3_11e7_a621_00051bd03e08\" class=\"row_heading level0 row0\" >258</th> \n",
       "        <td id=\"T_2ce907ae_4ff3_11e7_a621_00051bd03e08row0_col0\" class=\"data row0 col0\" >1</td> \n",
       "        <td id=\"T_2ce907ae_4ff3_11e7_a621_00051bd03e08row0_col1\" class=\"data row0 col1\" >1</td> \n",
       "        <td id=\"T_2ce907ae_4ff3_11e7_a621_00051bd03e08row0_col2\" class=\"data row0 col2\" >female</td> \n",
       "        <td id=\"T_2ce907ae_4ff3_11e7_a621_00051bd03e08row0_col3\" class=\"data row0 col3\" >35</td> \n",
       "        <td id=\"T_2ce907ae_4ff3_11e7_a621_00051bd03e08row0_col4\" class=\"data row0 col4\" >512</td> \n",
       "        <td id=\"T_2ce907ae_4ff3_11e7_a621_00051bd03e08row0_col5\" class=\"data row0 col5\" >1</td> \n",
       "        <td id=\"T_2ce907ae_4ff3_11e7_a621_00051bd03e08row0_col6\" class=\"data row0 col6\" >Yes</td> \n",
       "        <td id=\"T_2ce907ae_4ff3_11e7_a621_00051bd03e08row0_col7\" class=\"data row0 col7\" >30</td> \n",
       "    </tr>    <tr> \n",
       "        <th id=\"T_2ce907ae_4ff3_11e7_a621_00051bd03e08\" class=\"row_heading level0 row1\" >679</th> \n",
       "        <td id=\"T_2ce907ae_4ff3_11e7_a621_00051bd03e08row1_col0\" class=\"data row1 col0\" >1</td> \n",
       "        <td id=\"T_2ce907ae_4ff3_11e7_a621_00051bd03e08row1_col1\" class=\"data row1 col1\" >1</td> \n",
       "        <td id=\"T_2ce907ae_4ff3_11e7_a621_00051bd03e08row1_col2\" class=\"data row1 col2\" >male</td> \n",
       "        <td id=\"T_2ce907ae_4ff3_11e7_a621_00051bd03e08row1_col3\" class=\"data row1 col3\" >36</td> \n",
       "        <td id=\"T_2ce907ae_4ff3_11e7_a621_00051bd03e08row1_col4\" class=\"data row1 col4\" >512</td> \n",
       "        <td id=\"T_2ce907ae_4ff3_11e7_a621_00051bd03e08row1_col5\" class=\"data row1 col5\" >0</td> \n",
       "        <td id=\"T_2ce907ae_4ff3_11e7_a621_00051bd03e08row1_col6\" class=\"data row1 col6\" >Yes</td> \n",
       "        <td id=\"T_2ce907ae_4ff3_11e7_a621_00051bd03e08row1_col7\" class=\"data row1 col7\" >30</td> \n",
       "    </tr>    <tr> \n",
       "        <th id=\"T_2ce907ae_4ff3_11e7_a621_00051bd03e08\" class=\"row_heading level0 row2\" >737</th> \n",
       "        <td id=\"T_2ce907ae_4ff3_11e7_a621_00051bd03e08row2_col0\" class=\"data row2 col0\" >1</td> \n",
       "        <td id=\"T_2ce907ae_4ff3_11e7_a621_00051bd03e08row2_col1\" class=\"data row2 col1\" >1</td> \n",
       "        <td id=\"T_2ce907ae_4ff3_11e7_a621_00051bd03e08row2_col2\" class=\"data row2 col2\" >male</td> \n",
       "        <td id=\"T_2ce907ae_4ff3_11e7_a621_00051bd03e08row2_col3\" class=\"data row2 col3\" >35</td> \n",
       "        <td id=\"T_2ce907ae_4ff3_11e7_a621_00051bd03e08row2_col4\" class=\"data row2 col4\" >512</td> \n",
       "        <td id=\"T_2ce907ae_4ff3_11e7_a621_00051bd03e08row2_col5\" class=\"data row2 col5\" >0</td> \n",
       "        <td id=\"T_2ce907ae_4ff3_11e7_a621_00051bd03e08row2_col6\" class=\"data row2 col6\" >Yes</td> \n",
       "        <td id=\"T_2ce907ae_4ff3_11e7_a621_00051bd03e08row2_col7\" class=\"data row2 col7\" >30</td> \n",
       "    </tr></tbody> \n",
       "</table> "
      ],
      "text/plain": [
       "<pandas.io.formats.style.Styler at 0x136ec2bf198>"
      ]
     },
     "execution_count": 523,
     "metadata": {},
     "output_type": "execute_result"
    }
   ],
   "source": [
    "# 3 Top Outliers survivors\n",
    "def highlight_vals(val, color='Yellow'): # Highlight sells in the table\n",
    "    if val == 1:\n",
    "        return 'background-color: %s' % color\n",
    "    else:\n",
    "        return ''\n",
    "\n",
    "# Create and print a new DF with only the passengers who paid $512\n",
    "print('Top 3 most expensive ticket holders survival:')\n",
    "top_outliers = outliers\n",
    "top_outliers = top_outliers[top_outliers['Fare'] == 512]\n",
    "top_outliers.style.applymap(highlight_vals, subset=['Survived'])"
   ]
  },
  {
   "cell_type": "markdown",
   "metadata": {},
   "source": [
    "It seems that all 3 passengers, who were in their 30s, in first class and paid $512, survived. This is 100% survival. Nevertheless, this doesn't mean that there is a dependency between the ticket price and survival since there are only 3 items in this sample.<br />\n",
    "<br />\n",
    "What about the rest of the passengers whose ticket price was more than 3 standard deviations above the average price? did their survival rate remain the same as the 'top-outliers' (100%)?<br />\n",
    "<br />\n",
    "As it shows above under 'Survival rate for the outliers', 69% of the Outliers who paid more than $149 for a ticket survived. This is a higher rate than the rate of survivors in general (38%), and higher than the survival rate of females (65% from all survivors) and even higher than all survivors from the first class (63%) on board."
   ]
  },
  {
   "cell_type": "markdown",
   "metadata": {},
   "source": [
    "# All outliers survivors"
   ]
  },
  {
   "cell_type": "code",
   "execution_count": 524,
   "metadata": {},
   "outputs": [
    {
     "name": "stdout",
     "output_type": "stream",
     "text": [
      "\n",
      "\n",
      "Outliers number of survivors by gender\n",
      "======================================\n",
      "female    17\n",
      "male       3\n",
      "Name: Gender, dtype: int64\n",
      "\n",
      "\n",
      "Outliers percent of survivors by gender\n",
      "=======================================\n",
      "female    0.85\n",
      "male      0.15\n",
      "Name: Gender, dtype: float64\n"
     ]
    }
   ],
   "source": [
    "# Only Outliers survivors\n",
    "outliers_survivors = outliers\n",
    "outliers_survivors = outliers_survivors[outliers_survivors['Survived_y_n'] == 'Yes']\n",
    "\n",
    "# Outliers Gender survival\n",
    "print('\\n')\n",
    "print('Outliers number of survivors by gender\\n======================================')\n",
    "print(outliers_survivors['Gender'].value_counts())\n",
    "\n",
    "# Outliers percent of survivors by gender\n",
    "print('\\n')\n",
    "print('Outliers percent of survivors by gender\\n=======================================')\n",
    "print(outliers_survivors['Gender'].value_counts(normalize=True))"
   ]
  },
  {
   "cell_type": "code",
   "execution_count": 525,
   "metadata": {},
   "outputs": [
    {
     "data": {
      "image/png": "[encoded data removed]",
      "text/plain": [
       "<matplotlib.figure.Figure at 0x136efd99cf8>"
      ]
     },
     "metadata": {},
     "output_type": "display_data"
    }
   ],
   "source": [
    "outlier_fem_sur = outliers_survivors['Gender'].value_counts(normalize=True) * 100\n",
    "\n",
    "# Plot of outliers percent of survivors by gender\n",
    "fig = plt.figure(facecolor='#f7fbff', edgecolor='#08306b', figsize=(400,300), dpi=120)\n",
    "fig.set_figwidth(9)\n",
    "fig.set_figheight(3)\n",
    "\n",
    "colors = ['#c6b6ea', '#c6dbef']\n",
    "plt.pie(outlier_fem_sur, shadow=False, colors=colors, autopct='%1.1f%%',\n",
    "        labels = ['Outliers females Survived', 'Outliers males Survived'], \n",
    "        wedgeprops = { 'linewidth' : 1 , 'edgecolor' : 'black'})\n",
    "plt.axis('equal') \n",
    "plt.title('\\nPercent of outlier survivors by gender\\n=============================')\n",
    "plt.show()"
   ]
  },
  {
   "cell_type": "markdown",
   "metadata": {},
   "source": [
    "85% of all survivors who paid more than $149 for their ticket were females. "
   ]
  },
  {
   "cell_type": "markdown",
   "metadata": {},
   "source": [
    "## Correlation between Fare and Age"
   ]
  },
  {
   "cell_type": "code",
   "execution_count": 526,
   "metadata": {},
   "outputs": [
    {
     "name": "stdout",
     "output_type": "stream",
     "text": [
      "\n",
      "Correlation between Age and Fare\n",
      "================================\n"
     ]
    },
    {
     "data": {
      "text/plain": [
       "(496, 395)"
      ]
     },
     "execution_count": 526,
     "metadata": {},
     "output_type": "execute_result"
    }
   ],
   "source": [
    "# Checking the correlation between the Fare and Age variables (From Udacity class)\n",
    "\n",
    "def correlation(var1, var2):\n",
    "    both_above = (var1 > var1.mean()) & \\\n",
    "                 (var2  > var2.mean())\n",
    "    both_below = (var1 < var1.mean()) & \\\n",
    "                 (var2 < var2.mean())\n",
    "    is_same_direction = both_above | both_below # Both above OR below the mean\n",
    "    num_same_direction = is_same_direction.sum()\n",
    "    \n",
    "    num_different_direction = len(var1) - num_same_direction\n",
    "    print('\\nCorrelation between Age and Fare\\n================================')\n",
    "    return(num_same_direction, num_different_direction)\n",
    "\n",
    "correlation(statsi['Fare'], statsi['Age'])"
   ]
  },
  {
   "cell_type": "markdown",
   "metadata": {},
   "source": [
    "* We can see from the above 2 numbers that there are more pairs sharing the same direction relative to their mean (either below or above the mean) than pairs that have different directions (one above and one below their mean). The difference between the numbers is not big enough to conclude that there is strong correlation between the two variables. Below is a scatter plot that demonstrate the week correlation between how much people paid for a ticket and their age."
   ]
  },
  {
   "cell_type": "code",
   "execution_count": 527,
   "metadata": {},
   "outputs": [
    {
     "data": {
      "text/plain": [
       "<matplotlib.axes._subplots.AxesSubplot at 0x136edc17390>"
      ]
     },
     "execution_count": 527,
     "metadata": {},
     "output_type": "execute_result"
    },
    {
     "data": {
      "image/png": "[encoded data removed]",
      "text/plain": [
       "<matplotlib.figure.Figure at 0x136ec2bf550>"
      ]
     },
     "metadata": {},
     "output_type": "display_data"
    }
   ],
   "source": [
    "# If using the Seaborn library, we can scratch a regression line for this relationship between ticket price and the age:\n",
    "# The Seaborn plot here brings the Regression Line, Confidence Interval of 95%\n",
    "\n",
    "fig = plt.figure(facecolor='#f7fbff', edgecolor='#08306b', figsize=(400,300), dpi=120)\n",
    "fig.set_figwidth(9)\n",
    "fig.set_figheight(2)\n",
    "sns.regplot(x=\"Age\", y=\"Fare\", data=statsi)"
   ]
  },
  {
   "cell_type": "markdown",
   "metadata": {},
   "source": [
    "* This graph shows the regression line almost flat (almost 0), which means that there is no correlation between those 2 variables. The price of the ticket was not dependent on the age of the passenger. Some young passengers in their 20s paid as much as older people in their 70s."
   ]
  },
  {
   "cell_type": "markdown",
   "metadata": {},
   "source": [
    "[Top](#Top)<br />\n",
    "[Fare](#fare)"
   ]
  },
  {
   "cell_type": "markdown",
   "metadata": {},
   "source": [
    "<a id='conclusion'></a>\n",
    "# <center><h1>Summary</h1></center>\n",
    "[Top](#Top)"
   ]
  },
  {
   "cell_type": "markdown",
   "metadata": {
    "collapsed": true
   },
   "source": [
    "Who had the best chances to survive?<br /><br />\n",
    "Taking into consideration the above analysis and given data, we can state that:<br />\n",
    "\n",
    "1. More females survived in numbers and in percentage than males. females survival was almost twice than males survival (65%/35%). Moreover, females who paid more than 149 dollars for a ticket had a  survival rate of 85%.<br /><br />\n",
    "\n",
    "2. From all age groups, 0-10 years old children had the highest percentage of survivors, compare to their number in the population (58%). It was the only age group that had more survivors than losts.<br /><br />\n",
    "\n",
    "3. The price of a ticket did not have much to do with the survival rate, except the outliers, who paid more than $149 per ticket and had 69% of survival.<br /><br />\n",
    "\n",
    "4. Passengers from First Class survived disproportionaly to their percent in the population. They were the only Class group that had more survivors than losts (63%).<br /><br />\n",
    "\n",
    "\n",
    "[Top](#Top)<br />\n",
    "[Summary](#Summary)"
   ]
  },
  {
   "cell_type": "markdown",
   "metadata": {},
   "source": [
    "<a id='sources'></a>\n",
    "# <center><h1>Sources</h1></center>\n",
    "[Top](#Top)"
   ]
  },
  {
   "cell_type": "markdown",
   "metadata": {},
   "source": [
    "Page Name | URL\n",
    "\n",
    "* Udacity Nano degree Pandas Series (and many other Udacity's course materials that are not cited here) https://classroom.udacity.com/nanodegrees/nd002/parts/0021345403/modules/317671873575460/lessons/5435548805/concepts/54301490320923\n",
    "* Visualizing the distribution of a dataset http://seaborn.pydata.org/tutorial/distributions.html\n",
    "\n",
    "* Pandas options and settings http://pandas.pydata.org/pandas-docs/stable/options.html\n",
    "\n",
    "* pandas.DataFrame.round http://pandas.pydata.org/pandas-docs/stable/generated/pandas.DataFrame.round.html\n",
    "\n",
    "* How to make a pandas crosstab with percentAges? http://stackoverflow.com/questions/21247203/how-to-make-a-pandas-crosstab-with-percentAges\n",
    "\n",
    "* Pandas: add crosstab totals http://stackoverflow.com/questions/26932682/pandas-add-crosstab-totals\n",
    "\n",
    "* color example code: named_colors.py http://matplotlib.org/2.0.0b4/examples/color/named_colors.html\n",
    "\n",
    "* Pandas - replacing column values http://stackoverflow.com/questions/31888871/pandas-replacing-column-values\n",
    "\n",
    "* Pandas: Replacing column values in dataframe http://stackoverflow.com/questions/23307301/pandas-replacing-column-values-in-dataframe\n",
    "* How To Convert Data Types in Python 3 https://www.digitalocean.com/community/tutorials/how-to-convert-data-types-in-python-3\n",
    "* Setting the Title, Legend Entries, and Axis Titles in matplotlib https://plot.ly/matplotlib/figure-labels/\n",
    "\n",
    "* count the frequency that a value occurs in a dataframe column http://stackoverflow.com/questions/22391433/count-the-frequency-that-a-value-occurs-in-a-dataframe-column\n",
    "\n",
    "* Working with missing data http://pandas.pydata.org/pandas-docs/stable/missing_data.html\n",
    "\n",
    "* pandas.DataFrame.dropna http://pandas.pydata.org/pandas-docs/stable/generated/pandas.DataFrame.dropna.html\n",
    "\n",
    "* Count of unique value in column pandas http://stackoverflow.com/questions/41665659/count-of-unique-value-in-column-pandas\n",
    "\n",
    "* Create a Column Based on a Conditional in pandas https://chrisalbon.com/python/pandas_create_column_using_conditional.html\n",
    "\n",
    "* Basic Data Plotting with Matplotlib Part 3: Histograms https://bespokeblog.wordpress.com/2011/07/11/basic-data-plotting-with-matplotlib-part-3-histograms/\n",
    "\n",
    "* seaborn.FacetGrid http://seaborn.pydata.org/generated/seaborn.FacetGrid.html\n",
    "\n",
    "* seaborn.factorplot http://seaborn.pydata.org/generated/seaborn.factorplot.html#seaborn.factorplot\n",
    "\n",
    "* pandas.Series.value_counts http://pandas.pydata.org/pandas-docs/stable/generated/pandas.Series.value_counts.html\n",
    "\n",
    "* Plotting multiple different plots in one figure using Seaborn http://stackoverflow.com/questions/38082602/plotting-multiple-different-plots-in-one-figure-using-seaborn\n",
    "\n",
    "* Resizing matplotlib figure with set_fig(width/height) doesn't work http://stackoverflow.com/questions/31841289/resizing-matplotlib-figure-with-set-figwidth-height-doesnt-work\n",
    "\n",
    "* Pandas error - invalid value encountered http://stackoverflow.com/questions/30519487/pandas-error-invalid-value-encountered\n",
    "\n",
    "* How do I use matplotlib autopct? http://stackoverflow.com/questions/6170246/how-do-i-use-matplotlib-autopct\n",
    "\n",
    "* How to normalize index http://stackoverflow.com/questions/21247203/how-to-make-a-pandas-crosstab-with-percentages\n",
    "\n",
    "* Random row selection in Pandas dataframe http://stackoverflow.com/questions/15923826/random-row-selection-in-pandas-dataframe\n",
    "\n",
    "* Matplotlib screenshots https://matplotlib.org/users/screenshots.html\n",
    "* Smooth histogram from data in column in Pandas DataFrame? http://stackoverflow.com/questions/35590727/smooth-histogram-from-data-in-column-in-pandas-dataframe\n",
    "\n",
    "* Find the unique values in a column and then sort them http://stackoverflow.com/questions/32072076/find-the-unique-values-in-a-column-and-then-sort-them\n",
    "\n",
    "* pylab_examples example code: boxplot_demo.py https://matplotlib.org/examples/pylab_examples/boxplot_demo.html\n",
    "\n",
    "* Matplotlib boxplot without outliers https://stackoverflow.com/questions/22028064/matplotlib-boxplot-without-outliers\n",
    "\n",
    "* Pandas HTML Output Conditional Formatting - Highlight cell if value in range https://stackoverflow.com/questions/37638402/pandas-html-output-conditional-formatting-highlight-cell-if-value-in-range\n",
    "\n",
    "* 'Could not interpret input' error with Seaborn when plotting groupbys https://stackoverflow.com/questions/32908315/could-not-interpret-input-error-with-seaborn-when-plotting-groupbys\n",
    "\n",
    "* Udacity x^2 test https://classroom.udacity.com/courses/ud201/lessons/1331738563/concepts/1895400230923\n",
    "\n",
    "* How to Include image or picture in jupyter notebook https://stackoverflow.com/questions/32370281/how-to-include-image-or-picture-in-jupyter-notebook\n",
    "\n",
    "* Better Plotting In Python With Seaborn https://robinsones.github.io/Better-Plotting-in-Python-with-Seaborn/\n",
    "\n",
    "* How to reference a IPython notebook cell in markdown? https://stackoverflow.com/questions/28080066/how-to-reference-a-ipython-notebook-cell-in-markdown\n"
   ]
  },
  {
   "cell_type": "markdown",
   "metadata": {},
   "source": [
    "[Top](#Top)<br />\n",
    "[Sources](#sources)"
   ]
  },
  {
   "cell_type": "markdown",
   "metadata": {},
   "source": [
    "<a id='dataframes'></a>\n",
    "# <center><h1>Dataframes in this document</h1></center>\n",
    "[Top](#Top)"
   ]
  },
  {
   "cell_type": "code",
   "execution_count": 528,
   "metadata": {},
   "outputs": [
    {
     "name": "stdout",
     "output_type": "stream",
     "text": [
      "<class 'pandas.core.frame.DataFrame'>\n"
     ]
    },
    {
     "data": {
      "text/html": [
       "<div>\n",
       "<style>\n",
       "    .dataframe thead tr:only-child th {\n",
       "        text-align: right;\n",
       "    }\n",
       "\n",
       "    .dataframe thead th {\n",
       "        text-align: left;\n",
       "    }\n",
       "\n",
       "    .dataframe tbody tr th {\n",
       "        vertical-align: top;\n",
       "    }\n",
       "</style>\n",
       "<table border=\"1\" class=\"dataframe\">\n",
       "  <thead>\n",
       "    <tr style=\"text-align: right;\">\n",
       "      <th></th>\n",
       "      <th>Survived</th>\n",
       "      <th>Class</th>\n",
       "      <th>Gender</th>\n",
       "      <th>Age</th>\n",
       "      <th>Fare</th>\n",
       "      <th>Sex</th>\n",
       "      <th>Survived_y_n</th>\n",
       "      <th>Ages</th>\n",
       "    </tr>\n",
       "  </thead>\n",
       "  <tbody>\n",
       "    <tr>\n",
       "      <th>0</th>\n",
       "      <td>0</td>\n",
       "      <td>3</td>\n",
       "      <td>male</td>\n",
       "      <td>22.0</td>\n",
       "      <td>7</td>\n",
       "      <td>0</td>\n",
       "      <td>No</td>\n",
       "      <td>20</td>\n",
       "    </tr>\n",
       "    <tr>\n",
       "      <th>1</th>\n",
       "      <td>1</td>\n",
       "      <td>1</td>\n",
       "      <td>female</td>\n",
       "      <td>38.0</td>\n",
       "      <td>71</td>\n",
       "      <td>1</td>\n",
       "      <td>Yes</td>\n",
       "      <td>30</td>\n",
       "    </tr>\n",
       "    <tr>\n",
       "      <th>2</th>\n",
       "      <td>1</td>\n",
       "      <td>3</td>\n",
       "      <td>female</td>\n",
       "      <td>26.0</td>\n",
       "      <td>7</td>\n",
       "      <td>1</td>\n",
       "      <td>Yes</td>\n",
       "      <td>20</td>\n",
       "    </tr>\n",
       "    <tr>\n",
       "      <th>3</th>\n",
       "      <td>1</td>\n",
       "      <td>1</td>\n",
       "      <td>female</td>\n",
       "      <td>35.0</td>\n",
       "      <td>53</td>\n",
       "      <td>1</td>\n",
       "      <td>Yes</td>\n",
       "      <td>30</td>\n",
       "    </tr>\n",
       "    <tr>\n",
       "      <th>4</th>\n",
       "      <td>0</td>\n",
       "      <td>3</td>\n",
       "      <td>male</td>\n",
       "      <td>35.0</td>\n",
       "      <td>8</td>\n",
       "      <td>0</td>\n",
       "      <td>No</td>\n",
       "      <td>30</td>\n",
       "    </tr>\n",
       "  </tbody>\n",
       "</table>\n",
       "</div>"
      ],
      "text/plain": [
       "   Survived  Class  Gender   Age  Fare  Sex Survived_y_n Ages\n",
       "0         0      3    male  22.0     7    0           No   20\n",
       "1         1      1  female  38.0    71    1          Yes   30\n",
       "2         1      3  female  26.0     7    1          Yes   20\n",
       "3         1      1  female  35.0    53    1          Yes   30\n",
       "4         0      3    male  35.0     8    0           No   30"
      ]
     },
     "execution_count": 528,
     "metadata": {},
     "output_type": "execute_result"
    }
   ],
   "source": [
    "# Main Dataframe\n",
    "\n",
    "print(type(statsi))\n",
    "statsi.head()"
   ]
  },
  {
   "cell_type": "code",
   "execution_count": 529,
   "metadata": {},
   "outputs": [
    {
     "name": "stdout",
     "output_type": "stream",
     "text": [
      "<class 'pandas.core.frame.DataFrame'>\n"
     ]
    },
    {
     "data": {
      "text/html": [
       "<div>\n",
       "<style>\n",
       "    .dataframe thead tr:only-child th {\n",
       "        text-align: right;\n",
       "    }\n",
       "\n",
       "    .dataframe thead th {\n",
       "        text-align: left;\n",
       "    }\n",
       "\n",
       "    .dataframe tbody tr th {\n",
       "        vertical-align: top;\n",
       "    }\n",
       "</style>\n",
       "<table border=\"1\" class=\"dataframe\">\n",
       "  <thead>\n",
       "    <tr style=\"text-align: right;\">\n",
       "      <th></th>\n",
       "      <th>Survived</th>\n",
       "      <th>Class</th>\n",
       "      <th>Gender</th>\n",
       "      <th>Age</th>\n",
       "      <th>Fare</th>\n",
       "      <th>Sex</th>\n",
       "      <th>Survived_y_n</th>\n",
       "      <th>Ages</th>\n",
       "    </tr>\n",
       "  </thead>\n",
       "  <tbody>\n",
       "    <tr>\n",
       "      <th>1</th>\n",
       "      <td>1</td>\n",
       "      <td>1</td>\n",
       "      <td>female</td>\n",
       "      <td>38.0</td>\n",
       "      <td>71</td>\n",
       "      <td>1</td>\n",
       "      <td>Yes</td>\n",
       "      <td>30</td>\n",
       "    </tr>\n",
       "    <tr>\n",
       "      <th>2</th>\n",
       "      <td>1</td>\n",
       "      <td>3</td>\n",
       "      <td>female</td>\n",
       "      <td>26.0</td>\n",
       "      <td>7</td>\n",
       "      <td>1</td>\n",
       "      <td>Yes</td>\n",
       "      <td>20</td>\n",
       "    </tr>\n",
       "    <tr>\n",
       "      <th>3</th>\n",
       "      <td>1</td>\n",
       "      <td>1</td>\n",
       "      <td>female</td>\n",
       "      <td>35.0</td>\n",
       "      <td>53</td>\n",
       "      <td>1</td>\n",
       "      <td>Yes</td>\n",
       "      <td>30</td>\n",
       "    </tr>\n",
       "    <tr>\n",
       "      <th>8</th>\n",
       "      <td>1</td>\n",
       "      <td>3</td>\n",
       "      <td>female</td>\n",
       "      <td>27.0</td>\n",
       "      <td>11</td>\n",
       "      <td>1</td>\n",
       "      <td>Yes</td>\n",
       "      <td>20</td>\n",
       "    </tr>\n",
       "    <tr>\n",
       "      <th>9</th>\n",
       "      <td>1</td>\n",
       "      <td>2</td>\n",
       "      <td>female</td>\n",
       "      <td>14.0</td>\n",
       "      <td>30</td>\n",
       "      <td>1</td>\n",
       "      <td>Yes</td>\n",
       "      <td>10</td>\n",
       "    </tr>\n",
       "  </tbody>\n",
       "</table>\n",
       "</div>"
      ],
      "text/plain": [
       "   Survived  Class  Gender   Age  Fare  Sex Survived_y_n Ages\n",
       "1         1      1  female  38.0    71    1          Yes   30\n",
       "2         1      3  female  26.0     7    1          Yes   20\n",
       "3         1      1  female  35.0    53    1          Yes   30\n",
       "8         1      3  female  27.0    11    1          Yes   20\n",
       "9         1      2  female  14.0    30    1          Yes   10"
      ]
     },
     "execution_count": 529,
     "metadata": {},
     "output_type": "execute_result"
    }
   ],
   "source": [
    "# Only Survivors\n",
    "\n",
    "print(type(survivors))\n",
    "survivors.head()"
   ]
  },
  {
   "cell_type": "code",
   "execution_count": 530,
   "metadata": {},
   "outputs": [
    {
     "name": "stdout",
     "output_type": "stream",
     "text": [
      "<class 'pandas.core.frame.DataFrame'>\n"
     ]
    },
    {
     "data": {
      "text/html": [
       "<div>\n",
       "<style>\n",
       "    .dataframe thead tr:only-child th {\n",
       "        text-align: right;\n",
       "    }\n",
       "\n",
       "    .dataframe thead th {\n",
       "        text-align: left;\n",
       "    }\n",
       "\n",
       "    .dataframe tbody tr th {\n",
       "        vertical-align: top;\n",
       "    }\n",
       "</style>\n",
       "<table border=\"1\" class=\"dataframe\">\n",
       "  <thead>\n",
       "    <tr style=\"text-align: right;\">\n",
       "      <th></th>\n",
       "      <th>Survived</th>\n",
       "      <th>Class</th>\n",
       "      <th>Gender</th>\n",
       "      <th>Age</th>\n",
       "      <th>Fare</th>\n",
       "      <th>Sex</th>\n",
       "      <th>Survived_y_n</th>\n",
       "      <th>Ages</th>\n",
       "    </tr>\n",
       "  </thead>\n",
       "  <tbody>\n",
       "    <tr>\n",
       "      <th>0</th>\n",
       "      <td>0</td>\n",
       "      <td>3</td>\n",
       "      <td>male</td>\n",
       "      <td>22.0</td>\n",
       "      <td>7</td>\n",
       "      <td>0</td>\n",
       "      <td>No</td>\n",
       "      <td>20</td>\n",
       "    </tr>\n",
       "    <tr>\n",
       "      <th>1</th>\n",
       "      <td>1</td>\n",
       "      <td>1</td>\n",
       "      <td>female</td>\n",
       "      <td>38.0</td>\n",
       "      <td>71</td>\n",
       "      <td>1</td>\n",
       "      <td>Yes</td>\n",
       "      <td>30</td>\n",
       "    </tr>\n",
       "    <tr>\n",
       "      <th>2</th>\n",
       "      <td>1</td>\n",
       "      <td>3</td>\n",
       "      <td>female</td>\n",
       "      <td>26.0</td>\n",
       "      <td>7</td>\n",
       "      <td>1</td>\n",
       "      <td>Yes</td>\n",
       "      <td>20</td>\n",
       "    </tr>\n",
       "    <tr>\n",
       "      <th>3</th>\n",
       "      <td>1</td>\n",
       "      <td>1</td>\n",
       "      <td>female</td>\n",
       "      <td>35.0</td>\n",
       "      <td>53</td>\n",
       "      <td>1</td>\n",
       "      <td>Yes</td>\n",
       "      <td>30</td>\n",
       "    </tr>\n",
       "    <tr>\n",
       "      <th>4</th>\n",
       "      <td>0</td>\n",
       "      <td>3</td>\n",
       "      <td>male</td>\n",
       "      <td>35.0</td>\n",
       "      <td>8</td>\n",
       "      <td>0</td>\n",
       "      <td>No</td>\n",
       "      <td>30</td>\n",
       "    </tr>\n",
       "  </tbody>\n",
       "</table>\n",
       "</div>"
      ],
      "text/plain": [
       "   Survived  Class  Gender   Age  Fare  Sex Survived_y_n Ages\n",
       "0         0      3    male  22.0     7    0           No   20\n",
       "1         1      1  female  38.0    71    1          Yes   30\n",
       "2         1      3  female  26.0     7    1          Yes   20\n",
       "3         1      1  female  35.0    53    1          Yes   30\n",
       "4         0      3    male  35.0     8    0           No   30"
      ]
     },
     "execution_count": 530,
     "metadata": {},
     "output_type": "execute_result"
    }
   ],
   "source": [
    "# Survivors by gender\n",
    "\n",
    "print(type(sbg))\n",
    "sbg.head()"
   ]
  },
  {
   "cell_type": "code",
   "execution_count": 531,
   "metadata": {},
   "outputs": [
    {
     "name": "stdout",
     "output_type": "stream",
     "text": [
      "<class 'pandas.core.frame.DataFrame'>\n"
     ]
    },
    {
     "data": {
      "text/html": [
       "<div>\n",
       "<style>\n",
       "    .dataframe thead tr:only-child th {\n",
       "        text-align: right;\n",
       "    }\n",
       "\n",
       "    .dataframe thead th {\n",
       "        text-align: left;\n",
       "    }\n",
       "\n",
       "    .dataframe tbody tr th {\n",
       "        vertical-align: top;\n",
       "    }\n",
       "</style>\n",
       "<table border=\"1\" class=\"dataframe\">\n",
       "  <thead>\n",
       "    <tr style=\"text-align: right;\">\n",
       "      <th></th>\n",
       "      <th>Survived</th>\n",
       "      <th>Class</th>\n",
       "      <th>Gender</th>\n",
       "      <th>Age</th>\n",
       "      <th>Fare</th>\n",
       "      <th>Sex</th>\n",
       "      <th>Survived_y_n</th>\n",
       "      <th>Ages</th>\n",
       "    </tr>\n",
       "  </thead>\n",
       "  <tbody>\n",
       "    <tr>\n",
       "      <th>0</th>\n",
       "      <td>0</td>\n",
       "      <td>3</td>\n",
       "      <td>male</td>\n",
       "      <td>22.0</td>\n",
       "      <td>7</td>\n",
       "      <td>0</td>\n",
       "      <td>No</td>\n",
       "      <td>20</td>\n",
       "    </tr>\n",
       "    <tr>\n",
       "      <th>4</th>\n",
       "      <td>0</td>\n",
       "      <td>3</td>\n",
       "      <td>male</td>\n",
       "      <td>35.0</td>\n",
       "      <td>8</td>\n",
       "      <td>0</td>\n",
       "      <td>No</td>\n",
       "      <td>30</td>\n",
       "    </tr>\n",
       "    <tr>\n",
       "      <th>5</th>\n",
       "      <td>0</td>\n",
       "      <td>3</td>\n",
       "      <td>male</td>\n",
       "      <td>44.5</td>\n",
       "      <td>8</td>\n",
       "      <td>0</td>\n",
       "      <td>No</td>\n",
       "      <td>40</td>\n",
       "    </tr>\n",
       "    <tr>\n",
       "      <th>6</th>\n",
       "      <td>0</td>\n",
       "      <td>1</td>\n",
       "      <td>male</td>\n",
       "      <td>54.0</td>\n",
       "      <td>51</td>\n",
       "      <td>0</td>\n",
       "      <td>No</td>\n",
       "      <td>50</td>\n",
       "    </tr>\n",
       "    <tr>\n",
       "      <th>7</th>\n",
       "      <td>0</td>\n",
       "      <td>3</td>\n",
       "      <td>male</td>\n",
       "      <td>2.0</td>\n",
       "      <td>21</td>\n",
       "      <td>0</td>\n",
       "      <td>No</td>\n",
       "      <td>01</td>\n",
       "    </tr>\n",
       "  </tbody>\n",
       "</table>\n",
       "</div>"
      ],
      "text/plain": [
       "   Survived  Class Gender   Age  Fare  Sex Survived_y_n Ages\n",
       "0         0      3   male  22.0     7    0           No   20\n",
       "4         0      3   male  35.0     8    0           No   30\n",
       "5         0      3   male  44.5     8    0           No   40\n",
       "6         0      1   male  54.0    51    0           No   50\n",
       "7         0      3   male   2.0    21    0           No   01"
      ]
     },
     "execution_count": 531,
     "metadata": {},
     "output_type": "execute_result"
    }
   ],
   "source": [
    "# Male survivors\n",
    "\n",
    "print(type(sbgm))\n",
    "sbgm.head()"
   ]
  },
  {
   "cell_type": "code",
   "execution_count": 532,
   "metadata": {},
   "outputs": [
    {
     "name": "stdout",
     "output_type": "stream",
     "text": [
      "<class 'pandas.core.frame.DataFrame'>\n"
     ]
    },
    {
     "data": {
      "text/html": [
       "<div>\n",
       "<style>\n",
       "    .dataframe thead tr:only-child th {\n",
       "        text-align: right;\n",
       "    }\n",
       "\n",
       "    .dataframe thead th {\n",
       "        text-align: left;\n",
       "    }\n",
       "\n",
       "    .dataframe tbody tr th {\n",
       "        vertical-align: top;\n",
       "    }\n",
       "</style>\n",
       "<table border=\"1\" class=\"dataframe\">\n",
       "  <thead>\n",
       "    <tr style=\"text-align: right;\">\n",
       "      <th></th>\n",
       "      <th>Survived</th>\n",
       "      <th>Class</th>\n",
       "      <th>Gender</th>\n",
       "      <th>Age</th>\n",
       "      <th>Fare</th>\n",
       "      <th>Sex</th>\n",
       "      <th>Survived_y_n</th>\n",
       "      <th>Ages</th>\n",
       "    </tr>\n",
       "  </thead>\n",
       "  <tbody>\n",
       "    <tr>\n",
       "      <th>1</th>\n",
       "      <td>1</td>\n",
       "      <td>1</td>\n",
       "      <td>female</td>\n",
       "      <td>38.0</td>\n",
       "      <td>71</td>\n",
       "      <td>1</td>\n",
       "      <td>Yes</td>\n",
       "      <td>30</td>\n",
       "    </tr>\n",
       "    <tr>\n",
       "      <th>2</th>\n",
       "      <td>1</td>\n",
       "      <td>3</td>\n",
       "      <td>female</td>\n",
       "      <td>26.0</td>\n",
       "      <td>7</td>\n",
       "      <td>1</td>\n",
       "      <td>Yes</td>\n",
       "      <td>20</td>\n",
       "    </tr>\n",
       "    <tr>\n",
       "      <th>3</th>\n",
       "      <td>1</td>\n",
       "      <td>1</td>\n",
       "      <td>female</td>\n",
       "      <td>35.0</td>\n",
       "      <td>53</td>\n",
       "      <td>1</td>\n",
       "      <td>Yes</td>\n",
       "      <td>30</td>\n",
       "    </tr>\n",
       "    <tr>\n",
       "      <th>8</th>\n",
       "      <td>1</td>\n",
       "      <td>3</td>\n",
       "      <td>female</td>\n",
       "      <td>27.0</td>\n",
       "      <td>11</td>\n",
       "      <td>1</td>\n",
       "      <td>Yes</td>\n",
       "      <td>20</td>\n",
       "    </tr>\n",
       "    <tr>\n",
       "      <th>9</th>\n",
       "      <td>1</td>\n",
       "      <td>2</td>\n",
       "      <td>female</td>\n",
       "      <td>14.0</td>\n",
       "      <td>30</td>\n",
       "      <td>1</td>\n",
       "      <td>Yes</td>\n",
       "      <td>10</td>\n",
       "    </tr>\n",
       "  </tbody>\n",
       "</table>\n",
       "</div>"
      ],
      "text/plain": [
       "   Survived  Class  Gender   Age  Fare  Sex Survived_y_n Ages\n",
       "1         1      1  female  38.0    71    1          Yes   30\n",
       "2         1      3  female  26.0     7    1          Yes   20\n",
       "3         1      1  female  35.0    53    1          Yes   30\n",
       "8         1      3  female  27.0    11    1          Yes   20\n",
       "9         1      2  female  14.0    30    1          Yes   10"
      ]
     },
     "execution_count": 532,
     "metadata": {},
     "output_type": "execute_result"
    }
   ],
   "source": [
    "# Female survivors\n",
    "\n",
    "print(type(sbgf))\n",
    "sbgf.head()"
   ]
  },
  {
   "cell_type": "code",
   "execution_count": 533,
   "metadata": {},
   "outputs": [
    {
     "name": "stdout",
     "output_type": "stream",
     "text": [
      "<class 'pandas.core.frame.DataFrame'>\n"
     ]
    },
    {
     "data": {
      "text/html": [
       "<div>\n",
       "<style>\n",
       "    .dataframe thead tr:only-child th {\n",
       "        text-align: right;\n",
       "    }\n",
       "\n",
       "    .dataframe thead th {\n",
       "        text-align: left;\n",
       "    }\n",
       "\n",
       "    .dataframe tbody tr th {\n",
       "        vertical-align: top;\n",
       "    }\n",
       "</style>\n",
       "<table border=\"1\" class=\"dataframe\">\n",
       "  <thead>\n",
       "    <tr style=\"text-align: right;\">\n",
       "      <th></th>\n",
       "      <th>Survived</th>\n",
       "      <th>Class</th>\n",
       "      <th>Gender</th>\n",
       "      <th>Age</th>\n",
       "      <th>Fare</th>\n",
       "      <th>Sex</th>\n",
       "      <th>Survived_y_n</th>\n",
       "      <th>Ages</th>\n",
       "    </tr>\n",
       "  </thead>\n",
       "  <tbody>\n",
       "    <tr>\n",
       "      <th>27</th>\n",
       "      <td>0</td>\n",
       "      <td>1</td>\n",
       "      <td>male</td>\n",
       "      <td>19.0</td>\n",
       "      <td>263</td>\n",
       "      <td>0</td>\n",
       "      <td>No</td>\n",
       "      <td>10</td>\n",
       "    </tr>\n",
       "    <tr>\n",
       "      <th>88</th>\n",
       "      <td>1</td>\n",
       "      <td>1</td>\n",
       "      <td>female</td>\n",
       "      <td>23.0</td>\n",
       "      <td>263</td>\n",
       "      <td>1</td>\n",
       "      <td>Yes</td>\n",
       "      <td>20</td>\n",
       "    </tr>\n",
       "    <tr>\n",
       "      <th>118</th>\n",
       "      <td>0</td>\n",
       "      <td>1</td>\n",
       "      <td>male</td>\n",
       "      <td>24.0</td>\n",
       "      <td>247</td>\n",
       "      <td>0</td>\n",
       "      <td>No</td>\n",
       "      <td>20</td>\n",
       "    </tr>\n",
       "    <tr>\n",
       "      <th>258</th>\n",
       "      <td>1</td>\n",
       "      <td>1</td>\n",
       "      <td>female</td>\n",
       "      <td>35.0</td>\n",
       "      <td>512</td>\n",
       "      <td>1</td>\n",
       "      <td>Yes</td>\n",
       "      <td>30</td>\n",
       "    </tr>\n",
       "    <tr>\n",
       "      <th>268</th>\n",
       "      <td>1</td>\n",
       "      <td>1</td>\n",
       "      <td>female</td>\n",
       "      <td>58.0</td>\n",
       "      <td>153</td>\n",
       "      <td>1</td>\n",
       "      <td>Yes</td>\n",
       "      <td>50</td>\n",
       "    </tr>\n",
       "  </tbody>\n",
       "</table>\n",
       "</div>"
      ],
      "text/plain": [
       "     Survived  Class  Gender   Age  Fare  Sex Survived_y_n Ages\n",
       "27          0      1    male  19.0   263    0           No   10\n",
       "88          1      1  female  23.0   263    1          Yes   20\n",
       "118         0      1    male  24.0   247    0           No   20\n",
       "258         1      1  female  35.0   512    1          Yes   30\n",
       "268         1      1  female  58.0   153    1          Yes   50"
      ]
     },
     "execution_count": 533,
     "metadata": {},
     "output_type": "execute_result"
    }
   ],
   "source": [
    "# Outliers\n",
    "\n",
    "print(type(outliers))\n",
    "outliers.head()"
   ]
  },
  {
   "cell_type": "code",
   "execution_count": 534,
   "metadata": {},
   "outputs": [
    {
     "name": "stdout",
     "output_type": "stream",
     "text": [
      "<class 'pandas.core.frame.DataFrame'>\n"
     ]
    },
    {
     "data": {
      "text/html": [
       "<div>\n",
       "<style>\n",
       "    .dataframe thead tr:only-child th {\n",
       "        text-align: right;\n",
       "    }\n",
       "\n",
       "    .dataframe thead th {\n",
       "        text-align: left;\n",
       "    }\n",
       "\n",
       "    .dataframe tbody tr th {\n",
       "        vertical-align: top;\n",
       "    }\n",
       "</style>\n",
       "<table border=\"1\" class=\"dataframe\">\n",
       "  <thead>\n",
       "    <tr style=\"text-align: right;\">\n",
       "      <th></th>\n",
       "      <th>Survived</th>\n",
       "      <th>Class</th>\n",
       "      <th>Gender</th>\n",
       "      <th>Age</th>\n",
       "      <th>Fare</th>\n",
       "      <th>Sex</th>\n",
       "      <th>Survived_y_n</th>\n",
       "      <th>Ages</th>\n",
       "    </tr>\n",
       "  </thead>\n",
       "  <tbody>\n",
       "    <tr>\n",
       "      <th>258</th>\n",
       "      <td>1</td>\n",
       "      <td>1</td>\n",
       "      <td>female</td>\n",
       "      <td>35.0</td>\n",
       "      <td>512</td>\n",
       "      <td>1</td>\n",
       "      <td>Yes</td>\n",
       "      <td>30</td>\n",
       "    </tr>\n",
       "    <tr>\n",
       "      <th>679</th>\n",
       "      <td>1</td>\n",
       "      <td>1</td>\n",
       "      <td>male</td>\n",
       "      <td>36.0</td>\n",
       "      <td>512</td>\n",
       "      <td>0</td>\n",
       "      <td>Yes</td>\n",
       "      <td>30</td>\n",
       "    </tr>\n",
       "    <tr>\n",
       "      <th>737</th>\n",
       "      <td>1</td>\n",
       "      <td>1</td>\n",
       "      <td>male</td>\n",
       "      <td>35.0</td>\n",
       "      <td>512</td>\n",
       "      <td>0</td>\n",
       "      <td>Yes</td>\n",
       "      <td>30</td>\n",
       "    </tr>\n",
       "  </tbody>\n",
       "</table>\n",
       "</div>"
      ],
      "text/plain": [
       "     Survived  Class  Gender   Age  Fare  Sex Survived_y_n Ages\n",
       "258         1      1  female  35.0   512    1          Yes   30\n",
       "679         1      1    male  36.0   512    0          Yes   30\n",
       "737         1      1    male  35.0   512    0          Yes   30"
      ]
     },
     "execution_count": 534,
     "metadata": {},
     "output_type": "execute_result"
    }
   ],
   "source": [
    "# Top Outliers\n",
    "\n",
    "print(type(top_outliers))\n",
    "top_outliers.head()"
   ]
  },
  {
   "cell_type": "code",
   "execution_count": 535,
   "metadata": {
    "scrolled": false
   },
   "outputs": [
    {
     "name": "stdout",
     "output_type": "stream",
     "text": [
      "<class 'pandas.core.frame.DataFrame'>\n"
     ]
    },
    {
     "data": {
      "text/html": [
       "<div>\n",
       "<style>\n",
       "    .dataframe thead tr:only-child th {\n",
       "        text-align: right;\n",
       "    }\n",
       "\n",
       "    .dataframe thead th {\n",
       "        text-align: left;\n",
       "    }\n",
       "\n",
       "    .dataframe tbody tr th {\n",
       "        vertical-align: top;\n",
       "    }\n",
       "</style>\n",
       "<table border=\"1\" class=\"dataframe\">\n",
       "  <thead>\n",
       "    <tr style=\"text-align: right;\">\n",
       "      <th></th>\n",
       "      <th>Survived</th>\n",
       "      <th>Class</th>\n",
       "      <th>Gender</th>\n",
       "      <th>Age</th>\n",
       "      <th>Fare</th>\n",
       "      <th>Sex</th>\n",
       "      <th>Survived_y_n</th>\n",
       "      <th>Ages</th>\n",
       "    </tr>\n",
       "  </thead>\n",
       "  <tbody>\n",
       "    <tr>\n",
       "      <th>88</th>\n",
       "      <td>1</td>\n",
       "      <td>1</td>\n",
       "      <td>female</td>\n",
       "      <td>23.00</td>\n",
       "      <td>263</td>\n",
       "      <td>1</td>\n",
       "      <td>Yes</td>\n",
       "      <td>20</td>\n",
       "    </tr>\n",
       "    <tr>\n",
       "      <th>258</th>\n",
       "      <td>1</td>\n",
       "      <td>1</td>\n",
       "      <td>female</td>\n",
       "      <td>35.00</td>\n",
       "      <td>512</td>\n",
       "      <td>1</td>\n",
       "      <td>Yes</td>\n",
       "      <td>30</td>\n",
       "    </tr>\n",
       "    <tr>\n",
       "      <th>268</th>\n",
       "      <td>1</td>\n",
       "      <td>1</td>\n",
       "      <td>female</td>\n",
       "      <td>58.00</td>\n",
       "      <td>153</td>\n",
       "      <td>1</td>\n",
       "      <td>Yes</td>\n",
       "      <td>50</td>\n",
       "    </tr>\n",
       "    <tr>\n",
       "      <th>299</th>\n",
       "      <td>1</td>\n",
       "      <td>1</td>\n",
       "      <td>female</td>\n",
       "      <td>50.00</td>\n",
       "      <td>247</td>\n",
       "      <td>1</td>\n",
       "      <td>Yes</td>\n",
       "      <td>None</td>\n",
       "    </tr>\n",
       "    <tr>\n",
       "      <th>305</th>\n",
       "      <td>1</td>\n",
       "      <td>1</td>\n",
       "      <td>male</td>\n",
       "      <td>0.92</td>\n",
       "      <td>151</td>\n",
       "      <td>0</td>\n",
       "      <td>Yes</td>\n",
       "      <td>01</td>\n",
       "    </tr>\n",
       "  </tbody>\n",
       "</table>\n",
       "</div>"
      ],
      "text/plain": [
       "     Survived  Class  Gender    Age  Fare  Sex Survived_y_n  Ages\n",
       "88          1      1  female  23.00   263    1          Yes    20\n",
       "258         1      1  female  35.00   512    1          Yes    30\n",
       "268         1      1  female  58.00   153    1          Yes    50\n",
       "299         1      1  female  50.00   247    1          Yes  None\n",
       "305         1      1    male   0.92   151    0          Yes    01"
      ]
     },
     "execution_count": 535,
     "metadata": {},
     "output_type": "execute_result"
    }
   ],
   "source": [
    "# Outliers Survivors\n",
    "\n",
    "print(type(outliers_survivors))\n",
    "outliers_survivors.head()"
   ]
  },
  {
   "cell_type": "code",
   "execution_count": 536,
   "metadata": {},
   "outputs": [
    {
     "name": "stdout",
     "output_type": "stream",
     "text": [
      "<class 'pandas.core.frame.DataFrame'>\n"
     ]
    },
    {
     "data": {
      "text/html": [
       "<div>\n",
       "<style>\n",
       "    .dataframe thead tr:only-child th {\n",
       "        text-align: right;\n",
       "    }\n",
       "\n",
       "    .dataframe thead th {\n",
       "        text-align: left;\n",
       "    }\n",
       "\n",
       "    .dataframe tbody tr th {\n",
       "        vertical-align: top;\n",
       "    }\n",
       "</style>\n",
       "<table border=\"1\" class=\"dataframe\">\n",
       "  <thead>\n",
       "    <tr style=\"text-align: right;\">\n",
       "      <th>Survived</th>\n",
       "      <th>0</th>\n",
       "      <th>1</th>\n",
       "      <th>All</th>\n",
       "      <th>Percent</th>\n",
       "      <th>Age Group</th>\n",
       "    </tr>\n",
       "    <tr>\n",
       "      <th>Ages</th>\n",
       "      <th></th>\n",
       "      <th></th>\n",
       "      <th></th>\n",
       "      <th></th>\n",
       "      <th></th>\n",
       "    </tr>\n",
       "  </thead>\n",
       "  <tbody>\n",
       "    <tr>\n",
       "      <th>01</th>\n",
       "      <td>29</td>\n",
       "      <td>40</td>\n",
       "      <td>69</td>\n",
       "      <td>57.97</td>\n",
       "      <td>01</td>\n",
       "    </tr>\n",
       "    <tr>\n",
       "      <th>10</th>\n",
       "      <td>78</td>\n",
       "      <td>49</td>\n",
       "      <td>127</td>\n",
       "      <td>38.58</td>\n",
       "      <td>10</td>\n",
       "    </tr>\n",
       "    <tr>\n",
       "      <th>20</th>\n",
       "      <td>170</td>\n",
       "      <td>90</td>\n",
       "      <td>260</td>\n",
       "      <td>34.62</td>\n",
       "      <td>20</td>\n",
       "    </tr>\n",
       "    <tr>\n",
       "      <th>30</th>\n",
       "      <td>120</td>\n",
       "      <td>79</td>\n",
       "      <td>199</td>\n",
       "      <td>39.70</td>\n",
       "      <td>30</td>\n",
       "    </tr>\n",
       "    <tr>\n",
       "      <th>40</th>\n",
       "      <td>61</td>\n",
       "      <td>35</td>\n",
       "      <td>96</td>\n",
       "      <td>36.46</td>\n",
       "      <td>40</td>\n",
       "    </tr>\n",
       "    <tr>\n",
       "      <th>50</th>\n",
       "      <td>25</td>\n",
       "      <td>17</td>\n",
       "      <td>42</td>\n",
       "      <td>40.48</td>\n",
       "      <td>50</td>\n",
       "    </tr>\n",
       "    <tr>\n",
       "      <th>60</th>\n",
       "      <td>12</td>\n",
       "      <td>4</td>\n",
       "      <td>16</td>\n",
       "      <td>25.00</td>\n",
       "      <td>60</td>\n",
       "    </tr>\n",
       "    <tr>\n",
       "      <th>70</th>\n",
       "      <td>4</td>\n",
       "      <td>1</td>\n",
       "      <td>5</td>\n",
       "      <td>20.00</td>\n",
       "      <td>70</td>\n",
       "    </tr>\n",
       "    <tr>\n",
       "      <th>All</th>\n",
       "      <td>499</td>\n",
       "      <td>315</td>\n",
       "      <td>814</td>\n",
       "      <td>38.70</td>\n",
       "      <td>All</td>\n",
       "    </tr>\n",
       "  </tbody>\n",
       "</table>\n",
       "</div>"
      ],
      "text/plain": [
       "Survived    0    1  All  Percent Age Group\n",
       "Ages                                      \n",
       "01         29   40   69    57.97        01\n",
       "10         78   49  127    38.58        10\n",
       "20        170   90  260    34.62        20\n",
       "30        120   79  199    39.70        30\n",
       "40         61   35   96    36.46        40\n",
       "50         25   17   42    40.48        50\n",
       "60         12    4   16    25.00        60\n",
       "70          4    1    5    20.00        70\n",
       "All       499  315  814    38.70       All"
      ]
     },
     "execution_count": 536,
     "metadata": {},
     "output_type": "execute_result"
    }
   ],
   "source": [
    "# Group Ages Survivors\n",
    "\n",
    "print(type(group_ages_surv))\n",
    "group_ages_surv"
   ]
  },
  {
   "cell_type": "code",
   "execution_count": 537,
   "metadata": {},
   "outputs": [
    {
     "name": "stdout",
     "output_type": "stream",
     "text": [
      "<class 'pandas.core.frame.DataFrame'>\n"
     ]
    },
    {
     "data": {
      "text/html": [
       "<div>\n",
       "<style>\n",
       "    .dataframe thead tr:only-child th {\n",
       "        text-align: right;\n",
       "    }\n",
       "\n",
       "    .dataframe thead th {\n",
       "        text-align: left;\n",
       "    }\n",
       "\n",
       "    .dataframe tbody tr th {\n",
       "        vertical-align: top;\n",
       "    }\n",
       "</style>\n",
       "<table border=\"1\" class=\"dataframe\">\n",
       "  <thead>\n",
       "    <tr style=\"text-align: right;\">\n",
       "      <th>Survived</th>\n",
       "      <th>0</th>\n",
       "      <th>1</th>\n",
       "      <th>All</th>\n",
       "      <th>Percent</th>\n",
       "      <th>Age Group</th>\n",
       "    </tr>\n",
       "    <tr>\n",
       "      <th>Ages</th>\n",
       "      <th></th>\n",
       "      <th></th>\n",
       "      <th></th>\n",
       "      <th></th>\n",
       "      <th></th>\n",
       "    </tr>\n",
       "  </thead>\n",
       "  <tbody>\n",
       "    <tr>\n",
       "      <th>01</th>\n",
       "      <td>29</td>\n",
       "      <td>40</td>\n",
       "      <td>69</td>\n",
       "      <td>57.97</td>\n",
       "      <td>01</td>\n",
       "    </tr>\n",
       "    <tr>\n",
       "      <th>10</th>\n",
       "      <td>78</td>\n",
       "      <td>49</td>\n",
       "      <td>127</td>\n",
       "      <td>38.58</td>\n",
       "      <td>10</td>\n",
       "    </tr>\n",
       "    <tr>\n",
       "      <th>20</th>\n",
       "      <td>170</td>\n",
       "      <td>90</td>\n",
       "      <td>260</td>\n",
       "      <td>34.62</td>\n",
       "      <td>20</td>\n",
       "    </tr>\n",
       "    <tr>\n",
       "      <th>30</th>\n",
       "      <td>120</td>\n",
       "      <td>79</td>\n",
       "      <td>199</td>\n",
       "      <td>39.70</td>\n",
       "      <td>30</td>\n",
       "    </tr>\n",
       "    <tr>\n",
       "      <th>40</th>\n",
       "      <td>61</td>\n",
       "      <td>35</td>\n",
       "      <td>96</td>\n",
       "      <td>36.46</td>\n",
       "      <td>40</td>\n",
       "    </tr>\n",
       "    <tr>\n",
       "      <th>50</th>\n",
       "      <td>25</td>\n",
       "      <td>17</td>\n",
       "      <td>42</td>\n",
       "      <td>40.48</td>\n",
       "      <td>50</td>\n",
       "    </tr>\n",
       "    <tr>\n",
       "      <th>60</th>\n",
       "      <td>12</td>\n",
       "      <td>4</td>\n",
       "      <td>16</td>\n",
       "      <td>25.00</td>\n",
       "      <td>60</td>\n",
       "    </tr>\n",
       "    <tr>\n",
       "      <th>70</th>\n",
       "      <td>4</td>\n",
       "      <td>1</td>\n",
       "      <td>5</td>\n",
       "      <td>20.00</td>\n",
       "      <td>70</td>\n",
       "    </tr>\n",
       "    <tr>\n",
       "      <th>All</th>\n",
       "      <td>499</td>\n",
       "      <td>315</td>\n",
       "      <td>814</td>\n",
       "      <td>38.70</td>\n",
       "      <td>All</td>\n",
       "    </tr>\n",
       "  </tbody>\n",
       "</table>\n",
       "</div>"
      ],
      "text/plain": [
       "Survived    0    1  All  Percent Age Group\n",
       "Ages                                      \n",
       "01         29   40   69    57.97        01\n",
       "10         78   49  127    38.58        10\n",
       "20        170   90  260    34.62        20\n",
       "30        120   79  199    39.70        30\n",
       "40         61   35   96    36.46        40\n",
       "50         25   17   42    40.48        50\n",
       "60         12    4   16    25.00        60\n",
       "70          4    1    5    20.00        70\n",
       "All       499  315  814    38.70       All"
      ]
     },
     "execution_count": 537,
     "metadata": {},
     "output_type": "execute_result"
    }
   ],
   "source": [
    "# Group Ages Percent Survival\n",
    "print(type(group_ages_per))\n",
    "group_ages_per"
   ]
  },
  {
   "cell_type": "code",
   "execution_count": 538,
   "metadata": {},
   "outputs": [
    {
     "name": "stdout",
     "output_type": "stream",
     "text": [
      "<class 'pandas.core.frame.DataFrame'>\n"
     ]
    },
    {
     "data": {
      "text/html": [
       "<div>\n",
       "<style>\n",
       "    .dataframe thead tr:only-child th {\n",
       "        text-align: right;\n",
       "    }\n",
       "\n",
       "    .dataframe thead th {\n",
       "        text-align: left;\n",
       "    }\n",
       "\n",
       "    .dataframe tbody tr th {\n",
       "        vertical-align: top;\n",
       "    }\n",
       "</style>\n",
       "<table border=\"1\" class=\"dataframe\">\n",
       "  <thead>\n",
       "    <tr style=\"text-align: right;\">\n",
       "      <th>Gender</th>\n",
       "      <th>female</th>\n",
       "      <th>male</th>\n",
       "      <th>All</th>\n",
       "    </tr>\n",
       "    <tr>\n",
       "      <th>Ages</th>\n",
       "      <th></th>\n",
       "      <th></th>\n",
       "      <th></th>\n",
       "    </tr>\n",
       "  </thead>\n",
       "  <tbody>\n",
       "    <tr>\n",
       "      <th>01</th>\n",
       "      <td>20</td>\n",
       "      <td>20</td>\n",
       "      <td>40</td>\n",
       "    </tr>\n",
       "    <tr>\n",
       "      <th>10</th>\n",
       "      <td>39</td>\n",
       "      <td>10</td>\n",
       "      <td>49</td>\n",
       "    </tr>\n",
       "    <tr>\n",
       "      <th>20</th>\n",
       "      <td>61</td>\n",
       "      <td>29</td>\n",
       "      <td>90</td>\n",
       "    </tr>\n",
       "    <tr>\n",
       "      <th>30</th>\n",
       "      <td>53</td>\n",
       "      <td>26</td>\n",
       "      <td>79</td>\n",
       "    </tr>\n",
       "    <tr>\n",
       "      <th>40</th>\n",
       "      <td>23</td>\n",
       "      <td>12</td>\n",
       "      <td>35</td>\n",
       "    </tr>\n",
       "    <tr>\n",
       "      <th>50</th>\n",
       "      <td>14</td>\n",
       "      <td>3</td>\n",
       "      <td>17</td>\n",
       "    </tr>\n",
       "    <tr>\n",
       "      <th>60</th>\n",
       "      <td>3</td>\n",
       "      <td>1</td>\n",
       "      <td>4</td>\n",
       "    </tr>\n",
       "    <tr>\n",
       "      <th>70</th>\n",
       "      <td>0</td>\n",
       "      <td>1</td>\n",
       "      <td>1</td>\n",
       "    </tr>\n",
       "    <tr>\n",
       "      <th>All</th>\n",
       "      <td>213</td>\n",
       "      <td>102</td>\n",
       "      <td>315</td>\n",
       "    </tr>\n",
       "  </tbody>\n",
       "</table>\n",
       "</div>"
      ],
      "text/plain": [
       "Gender  female  male  All\n",
       "Ages                     \n",
       "01          20    20   40\n",
       "10          39    10   49\n",
       "20          61    29   90\n",
       "30          53    26   79\n",
       "40          23    12   35\n",
       "50          14     3   17\n",
       "60           3     1    4\n",
       "70           0     1    1\n",
       "All        213   102  315"
      ]
     },
     "execution_count": 538,
     "metadata": {},
     "output_type": "execute_result"
    }
   ],
   "source": [
    "# Survival of males and females by decades\n",
    "\n",
    "print(type(group_ages_per_gen))\n",
    "group_ages_per_gen"
   ]
  },
  {
   "cell_type": "markdown",
   "metadata": {},
   "source": [
    "Navigate back to: <br />\n",
    "10. [Dataframes](#dataframes)<br />\n",
    "9.  [Sources](#sources)<br />\n",
    "8.  [Summary](#Summary)<br />\n",
    "7.  [Fare](#fare)<br />\n",
    "6.  [Age](#age)<br />\n",
    "5.  [Gender](#gender)<br />\n",
    "4.  [Class](#class)<br />\n",
    "3.  [Analyzing the data](#analyzing)<br />\n",
    "2.  [Discovering the data](#discovering)<br />\n",
    "1.  [Top](#Top)"
   ]
  }
 ],
 "metadata": {
  "anaconda-cloud": {},
  "kernelspec": {
   "display_name": "Python 3",
   "language": "python",
   "name": "python3"
  },
  "language_info": {
   "codemirror_mode": {
    "name": "ipython",
    "version": 3
   },
   "file_extension": ".py",
   "mimetype": "text/x-python",
   "name": "python",
   "nbconvert_exporter": "python",
   "pygments_lexer": "ipython3",
   "version": "3.6.1"
  },
  "nbpresent": {
   "slides": {
    "03ccec71-1d28-4858-a9be-ae027b8dac4f": {
     "id": "03ccec71-1d28-4858-a9be-ae027b8dac4f",
     "prev": "94f12ebf-08f7-4afc-bfa5-9cebca7d791d",
     "regions": {
      "f1c53316-dd8b-40f9-a587-e2441da060b6": {
       "attrs": {
        "height": 0.8,
        "width": 0.8,
        "x": 0.1,
        "y": 0.1
       },
       "content": {
        "cell": "c9ec7438-6481-422c-97e8-1dcc47eb64b6",
        "part": "whole"
       },
       "id": "f1c53316-dd8b-40f9-a587-e2441da060b6"
      }
     }
    },
    "0b8ff15a-5404-4257-bcd0-b9402b3f3851": {
     "id": "0b8ff15a-5404-4257-bcd0-b9402b3f3851",
     "prev": "0d5838c6-e28d-4074-b211-9589672992ce",
     "regions": {
      "801d5a99-77e9-4307-8454-2cef19aa9c02": {
       "attrs": {
        "height": 0.8,
        "width": 0.8,
        "x": 0.1,
        "y": 0.1
       },
       "content": {
        "cell": "06af802b-9d2d-43cd-b2df-d66e6c5f7dbc",
        "part": "whole"
       },
       "id": "801d5a99-77e9-4307-8454-2cef19aa9c02"
      }
     }
    },
    "0d5838c6-e28d-4074-b211-9589672992ce": {
     "id": "0d5838c6-e28d-4074-b211-9589672992ce",
     "prev": "39466480-fdb3-4493-af33-b889376a55ac",
     "regions": {
      "03842e9d-75f4-443a-854a-a00e83e3642c": {
       "attrs": {
        "height": 0.8,
        "width": 0.8,
        "x": 0.1,
        "y": 0.1
       },
       "content": {
        "cell": "72e41fc1-7a4f-4f64-bf48-d491e326ced8",
        "part": "whole"
       },
       "id": "03842e9d-75f4-443a-854a-a00e83e3642c"
      }
     }
    },
    "128e974d-5753-4d89-890e-2db12747d06f": {
     "id": "128e974d-5753-4d89-890e-2db12747d06f",
     "prev": "9de565d2-8971-4504-9f00-683d7664314b",
     "regions": {
      "1e7c5172-41be-431a-9f54-3b0bf3ed254c": {
       "attrs": {
        "height": 0.8,
        "width": 0.8,
        "x": 0.1,
        "y": 0.1
       },
       "content": {
        "cell": "729391c5-aa16-4aaf-a86b-94ab6bad69dc",
        "part": "whole"
       },
       "id": "1e7c5172-41be-431a-9f54-3b0bf3ed254c"
      }
     }
    },
    "1a52af52-5a4f-4d6f-8b34-deb3064d5ef2": {
     "id": "1a52af52-5a4f-4d6f-8b34-deb3064d5ef2",
     "prev": "bf0c8857-67bd-4b6b-ad76-cdbfaf690e47",
     "regions": {
      "bf73fae0-6748-43d3-814b-f76df510c74d": {
       "attrs": {
        "height": 0.8,
        "width": 0.8,
        "x": 0.1,
        "y": 0.1
       },
       "content": {
        "cell": "fafd7eec-fff2-4fa6-b4ef-16ddbbc4f579",
        "part": "whole"
       },
       "id": "bf73fae0-6748-43d3-814b-f76df510c74d"
      }
     }
    },
    "39466480-fdb3-4493-af33-b889376a55ac": {
     "id": "39466480-fdb3-4493-af33-b889376a55ac",
     "prev": "cc2e486f-bb46-446c-be25-76c3d1cf8996",
     "regions": {
      "0ea41ae9-cab4-4921-8468-eb896af97d37": {
       "attrs": {
        "height": 0.8,
        "width": 0.8,
        "x": 0.1,
        "y": 0.1
       },
       "content": {
        "cell": "264af912-080f-45d9-824e-40b8e0af8a00",
        "part": "whole"
       },
       "id": "0ea41ae9-cab4-4921-8468-eb896af97d37"
      }
     }
    },
    "47445453-b4e8-4d4e-92af-e56cc4e8df4b": {
     "id": "47445453-b4e8-4d4e-92af-e56cc4e8df4b",
     "prev": null,
     "regions": {
      "2a0d8316-b6ac-42cb-874a-6d3aa785759f": {
       "attrs": {
        "height": 0.8,
        "width": 0.8,
        "x": 0.1,
        "y": 0.1
       },
       "content": {
        "cell": "447b25db-9aa3-481b-866d-5e477d5c211e",
        "part": "whole"
       },
       "id": "2a0d8316-b6ac-42cb-874a-6d3aa785759f"
      }
     }
    },
    "4d4aa874-db31-4ca9-baa8-b4dfc75f69b1": {
     "id": "4d4aa874-db31-4ca9-baa8-b4dfc75f69b1",
     "prev": "9a3fb2c6-0567-4475-8d70-c151573c37d2",
     "regions": {
      "070d4169-2dcd-4190-b66a-e6a105d2f8f8": {
       "attrs": {
        "height": 0.8,
        "width": 0.8,
        "x": 0.1,
        "y": 0.1
       },
       "content": {
        "cell": "560a1211-ca3d-42bc-9b0d-70f39cd8798b",
        "part": "whole"
       },
       "id": "070d4169-2dcd-4190-b66a-e6a105d2f8f8"
      }
     }
    },
    "53351839-f81b-4ad4-92cc-9045d1202b23": {
     "id": "53351839-f81b-4ad4-92cc-9045d1202b23",
     "prev": "888f0a0c-6228-430e-9316-dd7297e3e9f2",
     "regions": {
      "2b483aa2-5e6f-4855-8f18-ec160f3bc033": {
       "attrs": {
        "height": 0.8,
        "width": 0.8,
        "x": 0.1,
        "y": 0.1
       },
       "content": {
        "cell": "13bf581f-bbeb-43a2-b506-c5bfb031dc40",
        "part": "whole"
       },
       "id": "2b483aa2-5e6f-4855-8f18-ec160f3bc033"
      }
     }
    },
    "6053444e-b1cf-41bc-9fac-1cae01fcc91e": {
     "id": "6053444e-b1cf-41bc-9fac-1cae01fcc91e",
     "prev": "03ccec71-1d28-4858-a9be-ae027b8dac4f",
     "regions": {
      "d67fe5b4-7375-4e86-9a03-e6697355127e": {
       "attrs": {
        "height": 0.8,
        "width": 0.8,
        "x": 0.1,
        "y": 0.1
       },
       "content": {
        "cell": "7aac1f55-481d-4053-b136-2f88319df73a",
        "part": "whole"
       },
       "id": "d67fe5b4-7375-4e86-9a03-e6697355127e"
      }
     }
    },
    "6070fc9c-ddde-413a-b69d-a67fd65f4749": {
     "id": "6070fc9c-ddde-413a-b69d-a67fd65f4749",
     "prev": "ecffa22a-6367-4730-a8bb-683d2ea02958",
     "regions": {
      "c3eedf95-bd0e-420f-ac7f-6eaa70c866c3": {
       "attrs": {
        "height": 0.8,
        "width": 0.8,
        "x": 0.1,
        "y": 0.1
       },
       "content": {
        "cell": "75515f65-cbfc-4f2a-b8c4-346f45fc3f3b",
        "part": "whole"
       },
       "id": "c3eedf95-bd0e-420f-ac7f-6eaa70c866c3"
      }
     }
    },
    "7f119ff3-66d6-43fa-a9cd-9a14f959c4c5": {
     "id": "7f119ff3-66d6-43fa-a9cd-9a14f959c4c5",
     "prev": "95f75b04-3ac6-4378-87ee-fe3c2d0fe016",
     "regions": {
      "7d0cbfe8-5133-4356-8337-6cbf622343e7": {
       "attrs": {
        "height": 0.8,
        "width": 0.8,
        "x": 0.1,
        "y": 0.1
       },
       "content": {
        "cell": "f3b9c19c-33c4-42ca-9264-45285ab09af9",
        "part": "whole"
       },
       "id": "7d0cbfe8-5133-4356-8337-6cbf622343e7"
      }
     }
    },
    "85d05be4-e28d-4b5a-8a7c-4453326ca647": {
     "id": "85d05be4-e28d-4b5a-8a7c-4453326ca647",
     "prev": "1a52af52-5a4f-4d6f-8b34-deb3064d5ef2",
     "regions": {
      "6aa825d1-0cd7-4334-a962-fc6eb4d6a98d": {
       "attrs": {
        "height": 0.8,
        "width": 0.8,
        "x": 0.1,
        "y": 0.1
       },
       "content": {
        "cell": "4afc53e2-98d1-48ee-83ef-dd8a181f4abb",
        "part": "whole"
       },
       "id": "6aa825d1-0cd7-4334-a962-fc6eb4d6a98d"
      }
     }
    },
    "888f0a0c-6228-430e-9316-dd7297e3e9f2": {
     "id": "888f0a0c-6228-430e-9316-dd7297e3e9f2",
     "prev": "e43f3f0f-26dd-4aaa-bf20-b85ff19ef9d0",
     "regions": {
      "8dd04a45-1c54-4462-85ab-228f44ac128a": {
       "attrs": {
        "height": 0.8,
        "width": 0.8,
        "x": 0.1,
        "y": 0.1
       },
       "content": {
        "cell": "82697018-173c-4e80-90d5-bab9a3280608",
        "part": "whole"
       },
       "id": "8dd04a45-1c54-4462-85ab-228f44ac128a"
      }
     }
    },
    "94f12ebf-08f7-4afc-bfa5-9cebca7d791d": {
     "id": "94f12ebf-08f7-4afc-bfa5-9cebca7d791d",
     "prev": "128e974d-5753-4d89-890e-2db12747d06f",
     "regions": {
      "842bd61f-54d7-4c71-93e4-acb6a20075a8": {
       "attrs": {
        "height": 0.8,
        "width": 0.8,
        "x": 0.1,
        "y": 0.1
       },
       "content": {
        "cell": "fd709b27-dd7a-4318-8fbc-7d1fd58c2cd5",
        "part": "whole"
       },
       "id": "842bd61f-54d7-4c71-93e4-acb6a20075a8"
      }
     }
    },
    "95f75b04-3ac6-4378-87ee-fe3c2d0fe016": {
     "id": "95f75b04-3ac6-4378-87ee-fe3c2d0fe016",
     "prev": "47445453-b4e8-4d4e-92af-e56cc4e8df4b",
     "regions": {
      "aec0eed0-86d0-452f-b160-b0f488c18d63": {
       "attrs": {
        "height": 0.8,
        "width": 0.8,
        "x": 0.1,
        "y": 0.1
       },
       "content": {
        "cell": "052a1c21-7298-429a-a84e-e1f9d84c8801",
        "part": "whole"
       },
       "id": "aec0eed0-86d0-452f-b160-b0f488c18d63"
      }
     }
    },
    "9a3fb2c6-0567-4475-8d70-c151573c37d2": {
     "id": "9a3fb2c6-0567-4475-8d70-c151573c37d2",
     "prev": "6053444e-b1cf-41bc-9fac-1cae01fcc91e",
     "regions": {
      "8a1b74ed-fb3e-44a5-8f7e-af881015c244": {
       "attrs": {
        "height": 0.8,
        "width": 0.8,
        "x": 0.1,
        "y": 0.1
       },
       "content": {
        "cell": "6b64a705-f6db-49dd-838a-c2f654b4fdaa",
        "part": "whole"
       },
       "id": "8a1b74ed-fb3e-44a5-8f7e-af881015c244"
      }
     }
    },
    "9de565d2-8971-4504-9f00-683d7664314b": {
     "id": "9de565d2-8971-4504-9f00-683d7664314b",
     "prev": "6070fc9c-ddde-413a-b69d-a67fd65f4749",
     "regions": {
      "ddfff504-0daa-4c6a-ac60-65b8d992ab63": {
       "attrs": {
        "height": 0.8,
        "width": 0.8,
        "x": 0.1,
        "y": 0.1
       },
       "content": {
        "cell": "ea934744-6aeb-44e3-8438-413581924b20",
        "part": "whole"
       },
       "id": "ddfff504-0daa-4c6a-ac60-65b8d992ab63"
      }
     }
    },
    "bf0c8857-67bd-4b6b-ad76-cdbfaf690e47": {
     "id": "bf0c8857-67bd-4b6b-ad76-cdbfaf690e47",
     "prev": "4d4aa874-db31-4ca9-baa8-b4dfc75f69b1",
     "regions": {}
    },
    "c167fcf1-effb-47f5-9ce0-55df05f86467": {
     "id": "c167fcf1-effb-47f5-9ce0-55df05f86467",
     "prev": "d73e6985-ad52-445e-8f31-04644867e529",
     "regions": {
      "38779be3-b12e-4628-b1d5-a13b22a8fb06": {
       "attrs": {
        "height": 0.8,
        "width": 0.8,
        "x": 0.1,
        "y": 0.1
       },
       "content": {
        "cell": "37454562-f3db-45be-8f77-3e48b983573a",
        "part": "whole"
       },
       "id": "38779be3-b12e-4628-b1d5-a13b22a8fb06"
      }
     }
    },
    "cc2e486f-bb46-446c-be25-76c3d1cf8996": {
     "id": "cc2e486f-bb46-446c-be25-76c3d1cf8996",
     "prev": "fc6a8a18-c319-493c-9a4c-b902a67966b0",
     "regions": {
      "6588c25a-30a9-4318-8fca-3fd79e1bc849": {
       "attrs": {
        "height": 0.8,
        "width": 0.8,
        "x": 0.1,
        "y": 0.1
       },
       "content": {
        "cell": "3f2bcf69-d644-4263-a9d8-0765b8689497",
        "part": "whole"
       },
       "id": "6588c25a-30a9-4318-8fca-3fd79e1bc849"
      }
     }
    },
    "d73e6985-ad52-445e-8f31-04644867e529": {
     "id": "d73e6985-ad52-445e-8f31-04644867e529",
     "prev": "53351839-f81b-4ad4-92cc-9045d1202b23",
     "regions": {
      "4f4e4161-4e9f-4473-848f-1290cfe7ce9a": {
       "attrs": {
        "height": 0.8,
        "width": 0.8,
        "x": 0.1,
        "y": 0.1
       },
       "content": {
        "cell": "ec16dbd5-c394-44d4-b875-2fdc614d922d",
        "part": "whole"
       },
       "id": "4f4e4161-4e9f-4473-848f-1290cfe7ce9a"
      }
     }
    },
    "e43f3f0f-26dd-4aaa-bf20-b85ff19ef9d0": {
     "id": "e43f3f0f-26dd-4aaa-bf20-b85ff19ef9d0",
     "prev": "85d05be4-e28d-4b5a-8a7c-4453326ca647",
     "regions": {
      "6504d79f-6204-4627-9c60-5f808c7a618b": {
       "attrs": {
        "height": 0.8,
        "width": 0.8,
        "x": 0.1,
        "y": 0.1
       },
       "content": {
        "cell": "9bec345d-fec0-4898-aac3-8457f71384f0",
        "part": "whole"
       },
       "id": "6504d79f-6204-4627-9c60-5f808c7a618b"
      }
     }
    },
    "eaba39f1-4818-4499-8e27-26d496d05fcf": {
     "id": "eaba39f1-4818-4499-8e27-26d496d05fcf",
     "prev": "0b8ff15a-5404-4257-bcd0-b9402b3f3851",
     "regions": {
      "21cfdc14-aa95-41cc-9d1f-b9178992dc5f": {
       "attrs": {
        "height": 0.8,
        "width": 0.8,
        "x": 0.1,
        "y": 0.1
       },
       "content": {
        "cell": "f2ae057a-1f94-4124-949b-2818cc4689f3",
        "part": "whole"
       },
       "id": "21cfdc14-aa95-41cc-9d1f-b9178992dc5f"
      }
     }
    },
    "ecffa22a-6367-4730-a8bb-683d2ea02958": {
     "id": "ecffa22a-6367-4730-a8bb-683d2ea02958",
     "prev": "eaba39f1-4818-4499-8e27-26d496d05fcf",
     "regions": {
      "a2a9ba8e-71e7-4db8-91c2-d4d541d57d71": {
       "attrs": {
        "height": 0.8,
        "width": 0.8,
        "x": 0.1,
        "y": 0.1
       },
       "content": {
        "cell": "2533927d-bd48-4344-ab74-750902b87340",
        "part": "whole"
       },
       "id": "a2a9ba8e-71e7-4db8-91c2-d4d541d57d71"
      }
     }
    },
    "fc6a8a18-c319-493c-9a4c-b902a67966b0": {
     "id": "fc6a8a18-c319-493c-9a4c-b902a67966b0",
     "prev": "7f119ff3-66d6-43fa-a9cd-9a14f959c4c5",
     "regions": {
      "62f3df2e-2447-4edd-8137-e3d1e55e16b9": {
       "attrs": {
        "height": 0.8,
        "width": 0.8,
        "x": 0.1,
        "y": 0.1
       },
       "content": {
        "cell": "154cb629-692d-4b0d-a085-c2803dc66742",
        "part": "whole"
       },
       "id": "62f3df2e-2447-4edd-8137-e3d1e55e16b9"
      }
     }
    }
   },
   "themes": {
    "default": "72b14c71-74c8-4031-8572-2d381df49686",
    "theme": {
     "72b14c71-74c8-4031-8572-2d381df49686": {
      "backgrounds": {
       "dc7afa04-bf90-40b1-82a5-726e3cff5267": {
        "background-color": "31af15d2-7e15-44c5-ab5e-e04b16a89eff",
        "id": "dc7afa04-bf90-40b1-82a5-726e3cff5267"
       }
      },
      "id": "72b14c71-74c8-4031-8572-2d381df49686",
      "palette": {
       "19cc588f-0593-49c9-9f4b-e4d7cc113b1c": {
        "id": "19cc588f-0593-49c9-9f4b-e4d7cc113b1c",
        "rgb": [
         252,
         252,
         252
        ]
       },
       "31af15d2-7e15-44c5-ab5e-e04b16a89eff": {
        "id": "31af15d2-7e15-44c5-ab5e-e04b16a89eff",
        "rgb": [
         68,
         68,
         68
        ]
       },
       "50f92c45-a630-455b-aec3-788680ec7410": {
        "id": "50f92c45-a630-455b-aec3-788680ec7410",
        "rgb": [
         197,
         226,
         245
        ]
       },
       "c5cc3653-2ee1-402a-aba2-7caae1da4f6c": {
        "id": "c5cc3653-2ee1-402a-aba2-7caae1da4f6c",
        "rgb": [
         43,
         126,
         184
        ]
       },
       "efa7f048-9acb-414c-8b04-a26811511a21": {
        "id": "efa7f048-9acb-414c-8b04-a26811511a21",
        "rgb": [
         25.118061674008803,
         73.60176211453744,
         107.4819383259912
        ]
       }
      },
      "rules": {
       "a": {
        "color": "19cc588f-0593-49c9-9f4b-e4d7cc113b1c"
       },
       "blockquote": {
        "color": "50f92c45-a630-455b-aec3-788680ec7410",
        "font-size": 3
       },
       "code": {
        "font-family": "Anonymous Pro"
       },
       "h1": {
        "color": "19cc588f-0593-49c9-9f4b-e4d7cc113b1c",
        "font-family": "Merriweather",
        "font-size": 8
       },
       "h2": {
        "color": "19cc588f-0593-49c9-9f4b-e4d7cc113b1c",
        "font-family": "Merriweather",
        "font-size": 6
       },
       "h3": {
        "color": "50f92c45-a630-455b-aec3-788680ec7410",
        "font-family": "Lato",
        "font-size": 5.5
       },
       "h4": {
        "color": "c5cc3653-2ee1-402a-aba2-7caae1da4f6c",
        "font-family": "Lato",
        "font-size": 5
       },
       "h5": {
        "font-family": "Lato"
       },
       "h6": {
        "font-family": "Lato"
       },
       "h7": {
        "font-family": "Lato"
       },
       "li": {
        "color": "50f92c45-a630-455b-aec3-788680ec7410",
        "font-size": 3.25
       },
       "pre": {
        "font-family": "Anonymous Pro",
        "font-size": 4
       }
      },
      "text-base": {
       "color": "19cc588f-0593-49c9-9f4b-e4d7cc113b1c",
       "font-family": "Lato",
       "font-size": 4
      }
     },
     "c5f689d0-7db7-4223-a08d-9b1a1bbe65aa": {
      "backgrounds": {
       "dc7afa04-bf90-40b1-82a5-726e3cff5267": {
        "background-color": "31af15d2-7e15-44c5-ab5e-e04b16a89eff",
        "id": "dc7afa04-bf90-40b1-82a5-726e3cff5267"
       }
      },
      "id": "c5f689d0-7db7-4223-a08d-9b1a1bbe65aa",
      "palette": {
       "19cc588f-0593-49c9-9f4b-e4d7cc113b1c": {
        "id": "19cc588f-0593-49c9-9f4b-e4d7cc113b1c",
        "rgb": [
         252,
         252,
         252
        ]
       },
       "31af15d2-7e15-44c5-ab5e-e04b16a89eff": {
        "id": "31af15d2-7e15-44c5-ab5e-e04b16a89eff",
        "rgb": [
         68,
         68,
         68
        ]
       },
       "50f92c45-a630-455b-aec3-788680ec7410": {
        "id": "50f92c45-a630-455b-aec3-788680ec7410",
        "rgb": [
         197,
         226,
         245
        ]
       },
       "c5cc3653-2ee1-402a-aba2-7caae1da4f6c": {
        "id": "c5cc3653-2ee1-402a-aba2-7caae1da4f6c",
        "rgb": [
         43,
         126,
         184
        ]
       },
       "efa7f048-9acb-414c-8b04-a26811511a21": {
        "id": "efa7f048-9acb-414c-8b04-a26811511a21",
        "rgb": [
         25.118061674008803,
         73.60176211453744,
         107.4819383259912
        ]
       }
      },
      "rules": {
       "a": {
        "color": "19cc588f-0593-49c9-9f4b-e4d7cc113b1c"
       },
       "blockquote": {
        "color": "50f92c45-a630-455b-aec3-788680ec7410",
        "font-size": 3
       },
       "code": {
        "font-family": "Anonymous Pro"
       },
       "h1": {
        "color": "19cc588f-0593-49c9-9f4b-e4d7cc113b1c",
        "font-family": "Merriweather",
        "font-size": 8
       },
       "h2": {
        "color": "19cc588f-0593-49c9-9f4b-e4d7cc113b1c",
        "font-family": "Merriweather",
        "font-size": 6
       },
       "h3": {
        "color": "50f92c45-a630-455b-aec3-788680ec7410",
        "font-family": "Lato",
        "font-size": 5.5
       },
       "h4": {
        "color": "c5cc3653-2ee1-402a-aba2-7caae1da4f6c",
        "font-family": "Lato",
        "font-size": 5
       },
       "h5": {
        "font-family": "Lato"
       },
       "h6": {
        "font-family": "Lato"
       },
       "h7": {
        "font-family": "Lato"
       },
       "li": {
        "color": "50f92c45-a630-455b-aec3-788680ec7410",
        "font-size": 3.25
       },
       "pre": {
        "font-family": "Anonymous Pro",
        "font-size": 4
       }
      },
      "text-base": {
       "color": "19cc588f-0593-49c9-9f4b-e4d7cc113b1c",
       "font-family": "Lato",
       "font-size": 4
      }
     }
    }
   }
  }
 },
 "nbformat": 4,
 "nbformat_minor": 2
}
