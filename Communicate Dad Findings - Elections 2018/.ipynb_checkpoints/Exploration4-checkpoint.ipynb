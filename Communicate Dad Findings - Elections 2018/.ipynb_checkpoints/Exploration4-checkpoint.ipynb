{
 "cells": [
  {
   "cell_type": "markdown",
   "metadata": {},
   "source": [
    "# <center>2018 Elections - Progresive Victories in the Democratic primaries</center>\n",
    "### <center>Udacity Data Analysis Nano-Degree / by Aviad Giat</center>\n",
    "# <center><span style=\"color:#aa5b02\">Multi-Variate Exploration</span></center>"
   ]
  },
  {
   "cell_type": "markdown",
   "metadata": {},
   "source": [
    "### Table of Contents\n",
    "[Progressive Won and State](#Progressive-Won-and-State) <br> [Endorsements Won and Progressive](#Endorsements-Won-and-Progressive) <br> [Endorsements Primary Percent and Progressive](#Endorsements-Primary-Percent-and-Progressive) <br> [Endorsements Won Progressive and Race](#Endorsements-Won-Progressive-and-Race) <br> [Progressives success rate](#Progressives-success-rate)"
   ]
  },
  {
   "cell_type": "markdown",
   "metadata": {},
   "source": [
    "### Import libraries"
   ]
  },
  {
   "cell_type": "code",
   "execution_count": 9,
   "metadata": {},
   "outputs": [
    {
     "data": {
      "text/html": [
       "        <script type=\"text/javascript\">\n",
       "        window.PlotlyConfig = {MathJaxConfig: 'local'};\n",
       "        if (window.MathJax) {MathJax.Hub.Config({SVG: {font: \"STIX-Web\"}});}\n",
       "        if (typeof require !== 'undefined') {\n",
       "        require.undef(\"plotly\");\n",
       "        requirejs.config({\n",
       "            paths: {\n",
       "                'plotly': ['https://cdn.plot.ly/plotly-latest.min']\n",
       "            }\n",
       "        });\n",
       "        require(['plotly'], function(Plotly) {\n",
       "            window._Plotly = Plotly;\n",
       "        });\n",
       "        }\n",
       "        </script>\n",
       "        "
      ]
     },
     "metadata": {},
     "output_type": "display_data"
    }
   ],
   "source": [
    "# import all packages and set plots to be embedded inline\n",
    "import numpy as np\n",
    "import pandas as pd\n",
    "import matplotlib.pyplot as plt\n",
    "import seaborn as sb\n",
    "from IPython.display import display_html\n",
    "## plotly libraries\n",
    "from plotly import __version__\n",
    "from plotly.offline import download_plotlyjs, init_notebook_mode, plot, iplot\n",
    "import plotly.graph_objs as go\n",
    "import plotly \n",
    "plotly.tools.set_credentials_file(username='AviG', api_key='6XMlVYzt98Zt9xJbuEtc')\n",
    "init_notebook_mode(connected=True)"
   ]
  },
  {
   "cell_type": "code",
   "execution_count": 10,
   "metadata": {},
   "outputs": [
    {
     "data": {
      "text/html": [
       "<style>.output_wrapper, .output {height:auto !important; max-height:10000px;\n",
       "                                }.output_scroll {box-shadow:none !important; webkit-box-shadow:none !important;}</style>\n"
      ],
      "text/plain": [
       "<IPython.core.display.HTML object>"
      ]
     },
     "metadata": {},
     "output_type": "display_data"
    }
   ],
   "source": [
    "%%html\n",
    "<style>.output_wrapper, .output {height:auto !important; max-height:10000px;\n",
    "                                }.output_scroll {box-shadow:none !important; webkit-box-shadow:none !important;}</style>"
   ]
  },
  {
   "cell_type": "markdown",
   "metadata": {},
   "source": [
    "### Upload the data from Exploration1 file"
   ]
  },
  {
   "cell_type": "code",
   "execution_count": 11,
   "metadata": {
    "scrolled": true
   },
   "outputs": [
    {
     "data": {
      "text/html": [
       "<div>\n",
       "<style scoped>\n",
       "    .dataframe tbody tr th:only-of-type {\n",
       "        vertical-align: middle;\n",
       "    }\n",
       "\n",
       "    .dataframe tbody tr th {\n",
       "        vertical-align: top;\n",
       "    }\n",
       "\n",
       "    .dataframe thead th {\n",
       "        text-align: right;\n",
       "    }\n",
       "</style>\n",
       "<table border=\"1\" class=\"dataframe\">\n",
       "  <thead>\n",
       "    <tr style=\"text-align: right;\">\n",
       "      <th></th>\n",
       "      <th>Candidate</th>\n",
       "      <th>State</th>\n",
       "      <th>Office Type</th>\n",
       "      <th>Date</th>\n",
       "      <th>Partisan Lean</th>\n",
       "      <th>Primary %</th>\n",
       "      <th>Won</th>\n",
       "      <th>Race</th>\n",
       "      <th>Veteran?</th>\n",
       "      <th>LGBTQ?</th>\n",
       "      <th>Elected Official?</th>\n",
       "      <th>Self-Funder?</th>\n",
       "      <th>Endorsements</th>\n",
       "      <th>value</th>\n",
       "      <th>Progressive</th>\n",
       "    </tr>\n",
       "  </thead>\n",
       "  <tbody>\n",
       "    <tr>\n",
       "      <th>0</th>\n",
       "      <td>A.J. Balukoff</td>\n",
       "      <td>ID</td>\n",
       "      <td>Governor</td>\n",
       "      <td>5/15/18</td>\n",
       "      <td>-34.3</td>\n",
       "      <td>40.1</td>\n",
       "      <td>No</td>\n",
       "      <td>White</td>\n",
       "      <td>No</td>\n",
       "      <td>No</td>\n",
       "      <td>No</td>\n",
       "      <td>Yes</td>\n",
       "      <td>No</td>\n",
       "      <td>No</td>\n",
       "      <td>No</td>\n",
       "    </tr>\n",
       "    <tr>\n",
       "      <th>1</th>\n",
       "      <td>Aaron Godfrey</td>\n",
       "      <td>OH</td>\n",
       "      <td>Representative</td>\n",
       "      <td>5/8/18</td>\n",
       "      <td>-17.0</td>\n",
       "      <td>7.9</td>\n",
       "      <td>No</td>\n",
       "      <td>NaN</td>\n",
       "      <td>No</td>\n",
       "      <td>No</td>\n",
       "      <td>No</td>\n",
       "      <td>No</td>\n",
       "      <td>Our Revolution Endorsed?</td>\n",
       "      <td>Yes</td>\n",
       "      <td>Yes</td>\n",
       "    </tr>\n",
       "  </tbody>\n",
       "</table>\n",
       "</div>"
      ],
      "text/plain": [
       "       Candidate State     Office Type     Date  Partisan Lean  Primary % Won  \\\n",
       "0  A.J. Balukoff    ID        Governor  5/15/18          -34.3       40.1  No   \n",
       "1  Aaron Godfrey    OH  Representative   5/8/18          -17.0        7.9  No   \n",
       "\n",
       "    Race Veteran? LGBTQ? Elected Official? Self-Funder?  \\\n",
       "0  White       No     No                No          Yes   \n",
       "1    NaN       No     No                No           No   \n",
       "\n",
       "               Endorsements value Progressive  \n",
       "0                        No    No          No  \n",
       "1  Our Revolution Endorsed?   Yes         Yes  "
      ]
     },
     "execution_count": 11,
     "metadata": {},
     "output_type": "execute_result"
    }
   ],
   "source": [
    "dem = pd.read_csv('dem.csv')\n",
    "dem.head(2)"
   ]
  },
  {
   "cell_type": "markdown",
   "metadata": {},
   "source": [
    "Back to [top](#Multi-Variate-Exploration)"
   ]
  },
  {
   "cell_type": "markdown",
   "metadata": {},
   "source": [
    "# <font color='84A3C1'>Progressive Won and State</font>\n",
    "#### How many Progressive candidates won in each state?"
   ]
  },
  {
   "cell_type": "code",
   "execution_count": 12,
   "metadata": {},
   "outputs": [],
   "source": [
    "# Progressive winnings in states\n",
    "def highlight_max(s):\n",
    "    '''\n",
    "    highlight the maximum in a Series yellow.\n",
    "    '''\n",
    "    is_max = s == s.max()\n",
    "    return ['background-color: yellow' if v else '' for v in is_max]\n",
    "\n",
    "def color_negative_red(val):\n",
    "    \"\"\"\n",
    "    Takes a scalar and returns a string with\n",
    "    the css property `'color: red'` for negative\n",
    "    strings, black otherwise.\n",
    "    \"\"\"\n",
    "    color = 'red' if val > 0 else 'black'\n",
    "    return 'color: %s' % color"
   ]
  },
  {
   "cell_type": "code",
   "execution_count": 22,
   "metadata": {},
   "outputs": [],
   "source": [
    "us_state_abbrev = {\n",
    "    'Alabama': 'AL',    'Alaska': 'AK',    'Arizona': 'AZ',    'Arkansas': 'AR',    'California': 'CA',    'Colorado': 'CO',    'Connecticut': 'CT',    'Delaware': 'DE',    'Florida': 'FL',    'Georgia': 'GA',    'Hawaii': 'HI',    'Idaho': 'ID',    'Illinois': 'IL',    'Indiana': 'IN',    'Iowa': 'IA',    'Kansas': 'KS',    'Kentucky': 'KY',    'Louisiana': 'LA',    'Maine': 'ME',    'Maryland': 'MD',    'Massachusetts': 'MA',    'Michigan': 'MI',    'Minnesota': 'MN',    'Mississippi': 'MS',\n",
    "    'Missouri': 'MO',    'Montana': 'MT',    'Nebraska': 'NE',    'Nevada': 'NV',    'New Hampshire': 'NH',    'New Jersey': 'NJ',    'New Mexico': 'NM',    'New York': 'NY',    'North Carolina': 'NC',    'North Dakota': 'ND',    'Ohio': 'OH',    'Oklahoma': 'OK',    'Oregon': 'OR',    'Pennsylvania': 'PA',    'Rhode Island': 'RI',    'South Carolina': 'SC',    'South Dakota': 'SD',    'Tennessee': 'TN',    'Texas': 'TX',    'Utah': 'UT',    'Vermont': 'VT',    'Virginia': 'VA',    'Washington': 'WA',    'West Virginia': 'WV',    'Wisconsin': 'WI',    'Wyoming': 'WY',}"
   ]
  },
  {
   "cell_type": "code",
   "execution_count": 31,
   "metadata": {},
   "outputs": [
    {
     "ename": "KeyError",
     "evalue": "'{Progressive}'",
     "output_type": "error",
     "traceback": [
      "\u001b[1;31m---------------------------------------------------------------------------\u001b[0m",
      "\u001b[1;31mKeyError\u001b[0m                                  Traceback (most recent call last)",
      "\u001b[1;32m<ipython-input-31-ca44b7387713>\u001b[0m in \u001b[0;36m<module>\u001b[1;34m\u001b[0m\n\u001b[0;32m     53\u001b[0m \u001b[0mstate_pro_win\u001b[0m \u001b[1;33m=\u001b[0m \u001b[0mstate_pro_win\u001b[0m\u001b[1;33m.\u001b[0m\u001b[0mgroupby\u001b[0m\u001b[1;33m(\u001b[0m\u001b[1;34m'State'\u001b[0m\u001b[1;33m)\u001b[0m\u001b[1;33m[\u001b[0m\u001b[1;34m'Progressive'\u001b[0m\u001b[1;33m]\u001b[0m\u001b[1;33m.\u001b[0m\u001b[0mcount\u001b[0m\u001b[1;33m(\u001b[0m\u001b[1;33m)\u001b[0m\u001b[1;33m.\u001b[0m\u001b[0mreset_index\u001b[0m\u001b[1;33m(\u001b[0m\u001b[1;33m)\u001b[0m\u001b[1;33m\u001b[0m\u001b[1;33m\u001b[0m\u001b[0m\n\u001b[0;32m     54\u001b[0m \u001b[0mstate_pro_win\u001b[0m \u001b[1;33m=\u001b[0m \u001b[0mpd\u001b[0m\u001b[1;33m.\u001b[0m\u001b[0mmerge\u001b[0m\u001b[1;33m(\u001b[0m\u001b[0mstate_pro_win\u001b[0m\u001b[1;33m,\u001b[0m \u001b[0mstates_reps\u001b[0m\u001b[1;33m,\u001b[0m \u001b[0mhow\u001b[0m\u001b[1;33m=\u001b[0m\u001b[1;34m'outer'\u001b[0m\u001b[1;33m,\u001b[0m \u001b[0mon\u001b[0m\u001b[1;33m=\u001b[0m\u001b[1;33m[\u001b[0m\u001b[1;34m'State'\u001b[0m\u001b[1;33m]\u001b[0m\u001b[1;33m)\u001b[0m\u001b[1;33m\u001b[0m\u001b[1;33m\u001b[0m\u001b[0m\n\u001b[1;32m---> 55\u001b[1;33m \u001b[0mstate_pro_win\u001b[0m \u001b[1;33m=\u001b[0m \u001b[0mstate_pro_win\u001b[0m\u001b[1;33m.\u001b[0m\u001b[0msort_values\u001b[0m\u001b[1;33m(\u001b[0m\u001b[1;34m'{Progressive}'\u001b[0m\u001b[1;33m,\u001b[0m \u001b[0mascending\u001b[0m\u001b[1;33m=\u001b[0m\u001b[1;32mFalse\u001b[0m\u001b[1;33m)\u001b[0m\u001b[1;33m\u001b[0m\u001b[1;33m\u001b[0m\u001b[0m\n\u001b[0m\u001b[0;32m     56\u001b[0m \u001b[0mstate_pro_win\u001b[0m\u001b[1;33m.\u001b[0m\u001b[0mrename\u001b[0m\u001b[1;33m(\u001b[0m\u001b[0mcolumns\u001b[0m\u001b[1;33m=\u001b[0m\u001b[1;33m{\u001b[0m\u001b[1;34m'Progressive'\u001b[0m\u001b[1;33m:\u001b[0m \u001b[1;34m'Progressives'\u001b[0m\u001b[1;33m}\u001b[0m\u001b[1;33m,\u001b[0m \u001b[0minplace\u001b[0m\u001b[1;33m=\u001b[0m\u001b[1;32mTrue\u001b[0m\u001b[1;33m)\u001b[0m\u001b[1;33m\u001b[0m\u001b[1;33m\u001b[0m\u001b[0m\n\u001b[0;32m     57\u001b[0m \u001b[1;32mdel\u001b[0m \u001b[0mstate_pro_win\u001b[0m\u001b[1;33m[\u001b[0m\u001b[1;34m'Officials'\u001b[0m\u001b[1;33m]\u001b[0m\u001b[1;33m\u001b[0m\u001b[1;33m\u001b[0m\u001b[0m\n",
      "\u001b[1;32m~\\Anaconda3\\lib\\site-packages\\pandas\\core\\frame.py\u001b[0m in \u001b[0;36msort_values\u001b[1;34m(self, by, axis, ascending, inplace, kind, na_position)\u001b[0m\n\u001b[0;32m   4717\u001b[0m \u001b[1;33m\u001b[0m\u001b[0m\n\u001b[0;32m   4718\u001b[0m             \u001b[0mby\u001b[0m \u001b[1;33m=\u001b[0m \u001b[0mby\u001b[0m\u001b[1;33m[\u001b[0m\u001b[1;36m0\u001b[0m\u001b[1;33m]\u001b[0m\u001b[1;33m\u001b[0m\u001b[1;33m\u001b[0m\u001b[0m\n\u001b[1;32m-> 4719\u001b[1;33m             \u001b[0mk\u001b[0m \u001b[1;33m=\u001b[0m \u001b[0mself\u001b[0m\u001b[1;33m.\u001b[0m\u001b[0m_get_label_or_level_values\u001b[0m\u001b[1;33m(\u001b[0m\u001b[0mby\u001b[0m\u001b[1;33m,\u001b[0m \u001b[0maxis\u001b[0m\u001b[1;33m=\u001b[0m\u001b[0maxis\u001b[0m\u001b[1;33m)\u001b[0m\u001b[1;33m\u001b[0m\u001b[1;33m\u001b[0m\u001b[0m\n\u001b[0m\u001b[0;32m   4720\u001b[0m \u001b[1;33m\u001b[0m\u001b[0m\n\u001b[0;32m   4721\u001b[0m             \u001b[1;32mif\u001b[0m \u001b[0misinstance\u001b[0m\u001b[1;33m(\u001b[0m\u001b[0mascending\u001b[0m\u001b[1;33m,\u001b[0m \u001b[1;33m(\u001b[0m\u001b[0mtuple\u001b[0m\u001b[1;33m,\u001b[0m \u001b[0mlist\u001b[0m\u001b[1;33m)\u001b[0m\u001b[1;33m)\u001b[0m\u001b[1;33m:\u001b[0m\u001b[1;33m\u001b[0m\u001b[1;33m\u001b[0m\u001b[0m\n",
      "\u001b[1;32m~\\Anaconda3\\lib\\site-packages\\pandas\\core\\generic.py\u001b[0m in \u001b[0;36m_get_label_or_level_values\u001b[1;34m(self, key, axis)\u001b[0m\n\u001b[0;32m   1704\u001b[0m             \u001b[0mvalues\u001b[0m \u001b[1;33m=\u001b[0m \u001b[0mself\u001b[0m\u001b[1;33m.\u001b[0m\u001b[0maxes\u001b[0m\u001b[1;33m[\u001b[0m\u001b[0maxis\u001b[0m\u001b[1;33m]\u001b[0m\u001b[1;33m.\u001b[0m\u001b[0mget_level_values\u001b[0m\u001b[1;33m(\u001b[0m\u001b[0mkey\u001b[0m\u001b[1;33m)\u001b[0m\u001b[1;33m.\u001b[0m\u001b[0m_values\u001b[0m\u001b[1;33m\u001b[0m\u001b[1;33m\u001b[0m\u001b[0m\n\u001b[0;32m   1705\u001b[0m         \u001b[1;32melse\u001b[0m\u001b[1;33m:\u001b[0m\u001b[1;33m\u001b[0m\u001b[1;33m\u001b[0m\u001b[0m\n\u001b[1;32m-> 1706\u001b[1;33m             \u001b[1;32mraise\u001b[0m \u001b[0mKeyError\u001b[0m\u001b[1;33m(\u001b[0m\u001b[0mkey\u001b[0m\u001b[1;33m)\u001b[0m\u001b[1;33m\u001b[0m\u001b[1;33m\u001b[0m\u001b[0m\n\u001b[0m\u001b[0;32m   1707\u001b[0m \u001b[1;33m\u001b[0m\u001b[0m\n\u001b[0;32m   1708\u001b[0m         \u001b[1;31m# Check for duplicates\u001b[0m\u001b[1;33m\u001b[0m\u001b[1;33m\u001b[0m\u001b[1;33m\u001b[0m\u001b[0m\n",
      "\u001b[1;31mKeyError\u001b[0m: '{Progressive}'"
     ]
    }
   ],
   "source": [
    "# Dataframe 0 - State number of Officials\n",
    "states_reps = pd.read_csv('states_reps.csv')\n",
    "states_reps['State'].replace(to_replace=dict(us_state_abbrev), inplace=True)\n",
    "states_reps = states_reps.sort_values('State', ascending=True)\n",
    "\n",
    "# Adding 2 senators and 1 governor to each state's Officials column\n",
    "states_reps['Officials'] = states_reps['Officials']  + 3\n",
    "states_reps.reset_index(drop=True, inplace=True)\n",
    "\n",
    "\n",
    "# Dataframe 1 - Unique candidates in states\n",
    "state_can_uniq = dem.drop_duplicates(['Candidate'], keep='first')\n",
    "state_can_uniq = state_can_uniq.groupby('State')['Candidate'].count()\n",
    "state_can_uniq = pd.merge(state_can_uniq, states_reps, how='outer', on=['State'])\n",
    "state_can_uniq = state_can_uniq.sort_values('Candidate', ascending=False)\n",
    "del state_can_uniq['Officials']\n",
    "state_can_uniq.fillna(0, inplace=True)\n",
    "state_can_uniq.reset_index(drop=True, inplace=True)\n",
    "state_can_uniq.rename(columns={'Candidate': 'Candidates'}, inplace=True)\n",
    "state_can_uniq = state_can_uniq[state_can_uniq['Candidates'] != 0].reset_index(drop=True)\n",
    "\n",
    "\n",
    "# Dataframe 2 - All winnings\n",
    "state_all_win = dem.loc[(dem['Won'] == 'Yes')]\n",
    "state_all_win = state_all_win.drop_duplicates(['Candidate'], keep='first')\n",
    "state_all_win = state_all_win.groupby('State')['Candidate'].count()\n",
    "state_all_win = pd.merge(state_all_win, states_reps, how='outer', on=['State'])\n",
    "state_all_win = state_all_win.sort_values('Candidate', ascending=False)\n",
    "del state_all_win['Officials']\n",
    "state_all_win.fillna(0, inplace=True)\n",
    "state_all_win.reset_index(drop=True, inplace=True)\n",
    "state_all_win.rename(columns={'Candidate': 'Candidates'}, inplace=True)\n",
    "state_all_win = state_all_win[state_all_win['Candidates'] != 0].reset_index(drop=True)\n",
    "\n",
    "\n",
    "# Dataframe 3 - Progressives by state\n",
    "state_pro = dem.loc[dem['Progressive'] == 'Yes']\n",
    "state_pro = state_pro.drop_duplicates(['Candidate'], keep='first')\n",
    "state_pro = state_pro.groupby('State')['Candidate'].count().reset_index()\n",
    "state_pro = pd.merge(state_pro, states_reps, how='outer', on=['State'])\n",
    "state_pro = state_pro.sort_values('Candidate', ascending=False)\n",
    "del state_pro['Officials']\n",
    "state_pro.fillna(0, inplace=True)\n",
    "state_pro.reset_index(drop=True, inplace=True)\n",
    "state_pro.rename(columns={'Candidate': 'Progressives'}, inplace=True)\n",
    "state_pro = state_pro[state_pro['Progressives'] != 0].reset_index(drop=True)\n",
    "\n",
    "\n",
    "\n",
    "# Dataframe 4 - Progressives by state who won\n",
    "state_pro_win = dem.loc[(dem['Won'] == 'Yes') & (dem['Progressive'] == 'Yes')]\n",
    "state_pro_win = state_pro_win.fillna(0)\n",
    "state_pro_win = state_pro_win.groupby('State')['Progressive'].count().reset_index()\n",
    "state_pro_win = pd.merge(state_pro_win, states_reps, how='outer', on=['State'])\n",
    "state_pro_win = state_pro_win.sort_values('{Progressive}', ascending=False)\n",
    "state_pro_win.rename(columns={'Progressive': 'Progressives'}, inplace=True)\n",
    "del state_pro_win['Officials']\n",
    "state_pro_win.fillna(0, inplace=True)\n",
    "state_pro_win.reset_index(drop=True, inplace=True)\n",
    "state_pro_win = state_pro_win[state_pro_win['Progressives'] != 0].reset_index(drop=True)\n",
    "\n",
    "\n",
    "# Give stying to different dataframes\n",
    "df1_styler = (state_can_uniq\n",
    "              .style.set_table_attributes(\"style='display:inline'\").set_caption('All candidates')\n",
    "              .set_properties(subset=['State', 'Candidates'], **{'width': '90px', 'background-color': '#84A3C1','text-align': 'center'})\n",
    "              .set_table_styles([{'selector': 'tr:hover', 'props': [('background-color', 'yellow')],\n",
    "                                 'text-align': 'center'}]))\n",
    "\n",
    "df2_styler = (state_all_win\n",
    "              .style.set_table_attributes(\"style='display:inline'\").set_caption('All wins')\n",
    "              .set_properties(subset=['State', 'Candidates'], **{'width': '90px', 'background-color': '#96bacc','text-align': 'center'})\n",
    "              .set_table_styles([{'selector': 'tr:hover', 'props': [('background-color', 'yellow')],\n",
    "                                 'text-align': 'center'}]))\n",
    "\n",
    "df3_styler = (state_pro\n",
    "              .style.set_table_attributes(\"style='display:inline'\").set_caption('Progressive candidates')\n",
    "              .set_properties(subset=['State', 'Progressives'], **{'width': '90px', 'background-color': '#c0d9e5','text-align': 'center'})\n",
    "             .set_table_styles([{'selector': 'tr:hover', 'props': [('background-color', 'yellow')],\n",
    "                                 'text-align': 'center'}]))\n",
    "\n",
    "df4_styler = (state_pro_win\n",
    "              .style.set_table_attributes(\"style='display:inline'\")\n",
    "              .set_caption('Progressive wins')\n",
    "              .applymap(color_negative_red, subset=['Progressives'])\n",
    "              .apply(highlight_max, subset=['Progressives'])\n",
    "              .set_table_styles([{'selector': 'tr:hover', 'props': [('background-color', 'yellow')]}])\n",
    "              .set_properties(subset=['State', 'Progressives'], **{'width': '90px', 'background-color': '#daeaf2','text-align': 'center'}))\n",
    "\n",
    "# Display the tables\n",
    "display_html(df1_styler._repr_html_()+df2_styler._repr_html_()+df3_styler._repr_html_()+df4_styler._repr_html_(), raw=True) #, "
   ]
  },
  {
   "cell_type": "markdown",
   "metadata": {},
   "source": [
    "In the tables above we can see on the far left the number of available seats for each state (for the elections themselves, rather than the primaries); second table from the left we have the total number of uniue Democratic candidates; the third table brings all the Progressive candidates; and the last table shows us the number of Progressive winnings in each state.<br>\n",
    "Here is a summary of the states with Progressive wins, in a table, plot and a map:"
   ]
  },
  {
   "cell_type": "markdown",
   "metadata": {},
   "source": [
    "### Winning Progressives on the map by state"
   ]
  },
  {
   "cell_type": "code",
   "execution_count": 15,
   "metadata": {
    "scrolled": false
   },
   "outputs": [
    {
     "ename": "NameError",
     "evalue": "name 'state_pro_win' is not defined",
     "output_type": "error",
     "traceback": [
      "\u001b[1;31m---------------------------------------------------------------------------\u001b[0m",
      "\u001b[1;31mNameError\u001b[0m                                 Traceback (most recent call last)",
      "\u001b[1;32m<ipython-input-15-5c7174b721b6>\u001b[0m in \u001b[0;36m<module>\u001b[1;34m\u001b[0m\n\u001b[0;32m     12\u001b[0m         \u001b[0mcolorscale\u001b[0m \u001b[1;33m=\u001b[0m \u001b[0mscl\u001b[0m\u001b[1;33m,\u001b[0m\u001b[1;33m\u001b[0m\u001b[1;33m\u001b[0m\u001b[0m\n\u001b[0;32m     13\u001b[0m         \u001b[0mautocolorscale\u001b[0m \u001b[1;33m=\u001b[0m \u001b[1;32mFalse\u001b[0m\u001b[1;33m,\u001b[0m\u001b[1;33m\u001b[0m\u001b[1;33m\u001b[0m\u001b[0m\n\u001b[1;32m---> 14\u001b[1;33m         \u001b[0mlocations\u001b[0m \u001b[1;33m=\u001b[0m \u001b[0mstate_pro_win\u001b[0m\u001b[1;33m[\u001b[0m\u001b[1;34m'State'\u001b[0m\u001b[1;33m]\u001b[0m\u001b[1;33m,\u001b[0m\u001b[1;33m\u001b[0m\u001b[1;33m\u001b[0m\u001b[0m\n\u001b[0m\u001b[0;32m     15\u001b[0m         \u001b[0mz\u001b[0m \u001b[1;33m=\u001b[0m \u001b[0mstate_pro_win\u001b[0m\u001b[1;33m[\u001b[0m\u001b[1;34m'Progressives'\u001b[0m\u001b[1;33m]\u001b[0m\u001b[1;33m.\u001b[0m\u001b[0mastype\u001b[0m\u001b[1;33m(\u001b[0m\u001b[0mfloat\u001b[0m\u001b[1;33m)\u001b[0m\u001b[1;33m,\u001b[0m\u001b[1;33m\u001b[0m\u001b[1;33m\u001b[0m\u001b[0m\n\u001b[0;32m     16\u001b[0m         \u001b[0mlocationmode\u001b[0m \u001b[1;33m=\u001b[0m \u001b[1;34m'USA-states'\u001b[0m\u001b[1;33m,\u001b[0m\u001b[1;33m\u001b[0m\u001b[1;33m\u001b[0m\u001b[0m\n",
      "\u001b[1;31mNameError\u001b[0m: name 'state_pro_win' is not defined"
     ]
    }
   ],
   "source": [
    "# Map of All states with their candidates\n",
    "\n",
    "from IPython.display import IFrame\n",
    "\n",
    "import plotly.plotly as py\n",
    "import plotly.graph_objs as go\n",
    "from plotly.offline import download_plotlyjs, init_notebook_mode, plot, iplot\n",
    "scl = [[0.0, 'rgb(242,240,247)'],[0.2, 'rgb(218,218,235)'],[0.4, 'rgb(188,189,220)'],\\\n",
    "            [0.6, 'rgb(158,154,200)'],[0.8, 'rgb(117,107,177)'],[1.0, 'rgb(84,39,143)']]\n",
    "# Data object\n",
    "data = [go.Choropleth(        \n",
    "        colorscale = scl,\n",
    "        autocolorscale = False,\n",
    "        locations = state_pro_win['State'],\n",
    "        z = state_pro_win['Progressives'].astype(float),\n",
    "        locationmode = 'USA-states',\n",
    "        text = state_pro_win['State'],\n",
    "        marker = dict(\n",
    "            line = dict(\n",
    "                color = '#000000',\n",
    "                width = 1)),\n",
    "        colorbar = dict(\n",
    "            title = \"States and Progressive wins\")\n",
    "        )]\n",
    "layout = go.Layout(title = 'Map with Progressive candidates who won by state', yaxis = dict(title = 'Count'), \n",
    "                   xaxis = dict(title = 'State'),\n",
    "                  geo = dict(scope = 'usa', projection = dict(type = 'albers usa'), showlakes = True, lakecolor = 'rgb(66, 165, 245)'))\n",
    "fig = dict(data=data, layout=layout)\n",
    "py.iplot(fig)"
   ]
  },
  {
   "cell_type": "markdown",
   "metadata": {},
   "source": [
    "Texas was definitely the biggest winning state for Progressive in the 2018 Democratic primaries. Progressives won the primaries in 17 states. Texas lead with 11 candidates, followed by California and New York with 4 winnings and Michigan with 3 winnings.<br>\n",
    "Were those winnings meaningful, compare to the rest of the candidates population? What about compare to the number of Progressive candidates?"
   ]
  },
  {
   "cell_type": "markdown",
   "metadata": {},
   "source": [
    "### Progressives success rate"
   ]
  },
  {
   "cell_type": "code",
   "execution_count": 16,
   "metadata": {},
   "outputs": [
    {
     "ename": "NameError",
     "evalue": "name 'state_can_uniq' is not defined",
     "output_type": "error",
     "traceback": [
      "\u001b[1;31m---------------------------------------------------------------------------\u001b[0m",
      "\u001b[1;31mNameError\u001b[0m                                 Traceback (most recent call last)",
      "\u001b[1;32m<ipython-input-16-1187c978444f>\u001b[0m in \u001b[0;36m<module>\u001b[1;34m\u001b[0m\n\u001b[0;32m      1\u001b[0m \u001b[1;31m# Merge th above 4 dataframes to find the percent of Progressives from all the candidates and from the winners in the primaries.\u001b[0m\u001b[1;33m\u001b[0m\u001b[1;33m\u001b[0m\u001b[1;33m\u001b[0m\u001b[0m\n\u001b[1;32m----> 2\u001b[1;33m \u001b[0mper_success\u001b[0m \u001b[1;33m=\u001b[0m \u001b[0mstate_can_uniq\u001b[0m\u001b[1;33m.\u001b[0m\u001b[0mmerge\u001b[0m\u001b[1;33m(\u001b[0m\u001b[0mstate_pro\u001b[0m\u001b[1;33m,\u001b[0m \u001b[0mon\u001b[0m\u001b[1;33m=\u001b[0m\u001b[1;34m'State'\u001b[0m\u001b[1;33m)\u001b[0m\u001b[1;33m.\u001b[0m\u001b[0mmerge\u001b[0m\u001b[1;33m(\u001b[0m\u001b[0mstate_all_win\u001b[0m\u001b[1;33m,\u001b[0m \u001b[0mon\u001b[0m\u001b[1;33m=\u001b[0m\u001b[1;34m'State'\u001b[0m\u001b[1;33m)\u001b[0m\u001b[1;33m.\u001b[0m\u001b[0mmerge\u001b[0m\u001b[1;33m(\u001b[0m\u001b[0mstate_pro_win\u001b[0m\u001b[1;33m,\u001b[0m \u001b[0mon\u001b[0m\u001b[1;33m=\u001b[0m\u001b[1;34m'State'\u001b[0m\u001b[1;33m)\u001b[0m\u001b[1;33m\u001b[0m\u001b[1;33m\u001b[0m\u001b[0m\n\u001b[0m\u001b[0;32m      3\u001b[0m \u001b[1;32mdel\u001b[0m \u001b[0mper_success\u001b[0m\u001b[1;33m[\u001b[0m\u001b[1;34m'State'\u001b[0m\u001b[1;33m]\u001b[0m\u001b[1;33m\u001b[0m\u001b[1;33m\u001b[0m\u001b[0m\n\u001b[0;32m      4\u001b[0m \u001b[1;32mimport\u001b[0m \u001b[0mnumpy\u001b[0m \u001b[1;32mas\u001b[0m \u001b[0mnp\u001b[0m\u001b[1;33m\u001b[0m\u001b[1;33m\u001b[0m\u001b[0m\n\u001b[0;32m      5\u001b[0m \u001b[1;32mdef\u001b[0m \u001b[0msumColumn\u001b[0m\u001b[1;33m(\u001b[0m\u001b[0mmatrix\u001b[0m\u001b[1;33m)\u001b[0m\u001b[1;33m:\u001b[0m\u001b[1;33m\u001b[0m\u001b[1;33m\u001b[0m\u001b[0m\n",
      "\u001b[1;31mNameError\u001b[0m: name 'state_can_uniq' is not defined"
     ]
    }
   ],
   "source": [
    "# Merge th above 4 dataframes to find the percent of Progressives from all the candidates and from the winners in the primaries.\n",
    "per_success = state_can_uniq.merge(state_pro, on='State').merge(state_all_win, on='State').merge(state_pro_win, on='State')\n",
    "del per_success['State']\n",
    "import numpy as np\n",
    "def sumColumn(matrix):\n",
    "    return np.sum(matrix, axis=0)  # axis=1 says \"get the sum along the columns\"\n",
    "per_success = per_success.apply(sumColumn)\n",
    "\n",
    "# Change the Pandas Series to a new dataframe\n",
    "per_success = per_success.to_frame().reset_index().T\n",
    "\n",
    "# Remove extra index row\n",
    "per_success = per_success.iloc[1:]\n",
    "\n",
    "# Set columns names\n",
    "per_success.rename(columns={0:'All Candidates',1:'Progressive Candidates',2: 'All Wins', 3:'Progressive Wins'}, inplace=True) # should match the list order in S1\n",
    "per_success.reset_index(drop=True,inplace=True) # reset the funky index\n",
    "per_success['% from Population'] = per_success['Progressive Candidates']/per_success['All Candidates']*100\n",
    "per_success['% success from Population'] = per_success['Progressive Wins']/per_success['All Candidates']*100\n",
    "per_success['% success from Progressives'] = per_success['Progressive Wins']/per_success['Progressive Candidates']*100\n",
    "\n",
    "print(\"Success rate for Progressives\")\n",
    "per_success"
   ]
  },
  {
   "cell_type": "markdown",
   "metadata": {},
   "source": [
    "We can see that Progressive candidates comprised 12.5% of the total candidates population. This is 105 out of 839.<br>\n",
    "Progressives won in 46 different primaries from 264 combats that ended with winnings, which is 5.5% success rate.<br>\n",
    "From the Progressives population of 105, 44% succeeded with their primaries."
   ]
  },
  {
   "cell_type": "markdown",
   "metadata": {
    "scrolled": false
   },
   "source": [
    "Back to [top](#Multi-Variate-Exploration)"
   ]
  },
  {
   "cell_type": "markdown",
   "metadata": {},
   "source": [
    "# <font color='#85ad0c'>Endorsements Primary Percent and Progressive</font>\n",
    "How did the Progessive pacs do, as one, compare to their main opponent in the Democratic Party, the Party Establishment, repesented here as \"Party Support\"?"
   ]
  },
  {
   "cell_type": "code",
   "execution_count": 17,
   "metadata": {},
   "outputs": [
    {
     "ename": "NameError",
     "evalue": "name 'dem1' is not defined",
     "output_type": "error",
     "traceback": [
      "\u001b[1;31m---------------------------------------------------------------------------\u001b[0m",
      "\u001b[1;31mNameError\u001b[0m                                 Traceback (most recent call last)",
      "\u001b[1;32m<ipython-input-17-f674b6607b9f>\u001b[0m in \u001b[0;36m<module>\u001b[1;34m\u001b[0m\n\u001b[0;32m      1\u001b[0m \u001b[1;31m# Progressive Endorsements Support\u001b[0m\u001b[1;33m\u001b[0m\u001b[1;33m\u001b[0m\u001b[1;33m\u001b[0m\u001b[0m\n\u001b[0;32m      2\u001b[0m progressive_support = dem[(dem['Endorsements'] == 'Justice Dems Endorsed?') | (\n\u001b[1;32m----> 3\u001b[1;33m     dem1['Endorsements'] == 'PCCC Endorsed?') | (dem1['Endorsements'] == 'Our Revolution Endorsed?')]\n\u001b[0m\u001b[0;32m      4\u001b[0m \u001b[1;33m\u001b[0m\u001b[0m\n\u001b[0;32m      5\u001b[0m \u001b[1;31m# Drop NAs from the Primary Percent column\u001b[0m\u001b[1;33m\u001b[0m\u001b[1;33m\u001b[0m\u001b[1;33m\u001b[0m\u001b[0m\n",
      "\u001b[1;31mNameError\u001b[0m: name 'dem1' is not defined"
     ]
    }
   ],
   "source": [
    "# Progressive Endorsements Support\n",
    "progressive_support = dem[(dem['Endorsements'] == 'Justice Dems Endorsed?') | (\n",
    "    dem1['Endorsements'] == 'PCCC Endorsed?') | (dem1['Endorsements'] == 'Our Revolution Endorsed?')]\n",
    "\n",
    "# Drop NAs from the Primary Percent column\n",
    "progressive_support = progressive_support.dropna(subset=['Primary %'])\n",
    "\n",
    "# Put the Progressive pacs together\n",
    "progressive_support.loc[:, 'Endorsements'] = 'Progressive Support?'\n",
    "\n",
    "# Drop duplicates from the Candidate column\n",
    "progressive_support = progressive_support.drop_duplicates(['Candidate'], keep = 'last')\n",
    "\n",
    "\n",
    "\n",
    "# Party Endorsements Support\n",
    "party_support = dem1[(dem1['Endorsements'] == 'Party Support?')]\n",
    "\n",
    "# Drop duplicates from the Candidate column\n",
    "progressive_support = progressive_support.drop_duplicates(['Candidate'], keep = 'last')\n",
    "\n",
    "# Drop NAs from the Primary Percent column\n",
    "party_support = party_support.dropna(subset=['Primary %'])\n",
    "\n",
    "\n",
    "\n",
    "# All Endorsements Support\n",
    "all_support = dem1.dropna(subset=['Primary %'])\n",
    "all_support = all_support[(all_support['Endorsements'] != 'Party Support?') &\n",
    "                          (all_support['Endorsements'] != 'Party Support?') &\n",
    "                          (all_support['Endorsements'] != 'Justice Dems Endorsed?') &\n",
    "                          (all_support['Endorsements'] != 'PCCC Endorsed?') &\n",
    "                          (all_support['Endorsements'] != 'Party Support?') &\n",
    "                          (all_support['Endorsements'] != 'Our Revolution Endorsed?')]\n",
    "\n",
    "# Add a demi column to plot the entire column with 'Yes'\n",
    "all_support.loc[:,'Endorsed'] = 'Yes' \n",
    "\n",
    "# Drop duplicates from the Candidate column\n",
    "progressive_support = progressive_support.drop_duplicates(['Candidate'], keep = 'last')\n",
    "\n",
    "# Drop NAs from the Primary Percent column\n",
    "party_support = party_support.dropna(subset=['Primary %'])\n",
    "\n",
    "\n",
    "\n",
    "# Plot\n",
    "fig = plt.figure(figsize=(18,10))\n",
    "fig.suptitle('Percent support by Endorsements', fontsize=20)\n",
    "\n",
    "# progressive_support\n",
    "plt.subplot(131)\n",
    "sb.boxplot(x='Progressive', y = 'Primary %', data = progressive_support, showmeans=True, color=\"#636843\",\n",
    "          meanprops={\"marker\":\"d\",\"markerfacecolor\":\"white\", \"markeredgecolor\":\"red\", \n",
    "                     \"markersize\":\"20\"}).set(xlabel='Progressives Endorsed', ylabel='Percent Support')\n",
    "plt.title('Progressive Pacs', fontsize=20)\n",
    "\n",
    "# party_support\n",
    "plt.subplot(132)\n",
    "sb.boxplot(x='Endorsements', y = 'Primary %', data = party_support, showmeans=True, color=\"#9baa46\",\n",
    "          meanprops={\"marker\":\"d\",\"markerfacecolor\":\"white\", \"markeredgecolor\":\"red\", \n",
    "                     \"markersize\":\"20\"}).set(\n",
    "    xlabel='Party Endorsed', \n",
    "    ylabel='Percent Support'\n",
    ")\n",
    "plt.title('Party Establishment', fontsize=20)\n",
    "\n",
    "# all_support\n",
    "plt.subplot(133)\n",
    "sb.boxplot(x='Endorsed', y = 'Primary %', data = all_support, showmeans=True, color=\"#cae822\",\n",
    "          meanprops={\"marker\":\"d\",\"markerfacecolor\":\"white\", \"markeredgecolor\":\"red\", \n",
    "                     \"markersize\":\"20\"}).set(\n",
    "    xlabel='All Endorsements', \n",
    "    ylabel='Percent Support'\n",
    ")\n",
    "plt.title('All Pacs', fontsize=20)\n",
    "\n",
    "plt.show()\n",
    "\n"
   ]
  },
  {
   "cell_type": "code",
   "execution_count": 18,
   "metadata": {},
   "outputs": [
    {
     "ename": "NameError",
     "evalue": "name 'progressive_support' is not defined",
     "output_type": "error",
     "traceback": [
      "\u001b[1;31m---------------------------------------------------------------------------\u001b[0m",
      "\u001b[1;31mNameError\u001b[0m                                 Traceback (most recent call last)",
      "\u001b[1;32m<ipython-input-18-e96914c33687>\u001b[0m in \u001b[0;36m<module>\u001b[1;34m\u001b[0m\n\u001b[0;32m      1\u001b[0m \u001b[1;31m# Create 3 tables with the above data in numbers\u001b[0m\u001b[1;33m\u001b[0m\u001b[1;33m\u001b[0m\u001b[1;33m\u001b[0m\u001b[0m\n\u001b[0;32m      2\u001b[0m \u001b[1;31m# Group by Endorsements and find the statistics for the Primary % column\u001b[0m\u001b[1;33m\u001b[0m\u001b[1;33m\u001b[0m\u001b[1;33m\u001b[0m\u001b[0m\n\u001b[1;32m----> 3\u001b[1;33m \u001b[0mpro_per\u001b[0m \u001b[1;33m=\u001b[0m \u001b[0mround\u001b[0m\u001b[1;33m(\u001b[0m\u001b[0mprogressive_support\u001b[0m\u001b[1;33m.\u001b[0m\u001b[0mgroupby\u001b[0m\u001b[1;33m(\u001b[0m\u001b[1;34m'Endorsements'\u001b[0m\u001b[1;33m)\u001b[0m\u001b[1;33m[\u001b[0m\u001b[1;34m'Primary %'\u001b[0m\u001b[1;33m]\u001b[0m\u001b[1;33m.\u001b[0m\u001b[0mdescribe\u001b[0m\u001b[1;33m(\u001b[0m\u001b[1;33m)\u001b[0m\u001b[1;33m,\u001b[0m \u001b[1;36m2\u001b[0m\u001b[1;33m)\u001b[0m\u001b[1;33m.\u001b[0m\u001b[0mreset_index\u001b[0m\u001b[1;33m(\u001b[0m\u001b[1;33m)\u001b[0m\u001b[1;33m\u001b[0m\u001b[1;33m\u001b[0m\u001b[0m\n\u001b[0m\u001b[0;32m      4\u001b[0m \u001b[0mpar_per\u001b[0m \u001b[1;33m=\u001b[0m \u001b[0mround\u001b[0m\u001b[1;33m(\u001b[0m\u001b[0mparty_support\u001b[0m\u001b[1;33m.\u001b[0m\u001b[0mgroupby\u001b[0m\u001b[1;33m(\u001b[0m\u001b[1;34m'Endorsements'\u001b[0m\u001b[1;33m)\u001b[0m\u001b[1;33m[\u001b[0m\u001b[1;34m'Primary %'\u001b[0m\u001b[1;33m]\u001b[0m\u001b[1;33m.\u001b[0m\u001b[0mdescribe\u001b[0m\u001b[1;33m(\u001b[0m\u001b[1;33m)\u001b[0m\u001b[1;33m,\u001b[0m \u001b[1;36m2\u001b[0m\u001b[1;33m)\u001b[0m\u001b[1;33m.\u001b[0m\u001b[0mreset_index\u001b[0m\u001b[1;33m(\u001b[0m\u001b[1;33m)\u001b[0m\u001b[1;33m\u001b[0m\u001b[1;33m\u001b[0m\u001b[0m\n\u001b[0;32m      5\u001b[0m \u001b[0mall_per\u001b[0m \u001b[1;33m=\u001b[0m \u001b[0mround\u001b[0m\u001b[1;33m(\u001b[0m\u001b[0mall_support\u001b[0m\u001b[1;33m.\u001b[0m\u001b[0mgroupby\u001b[0m\u001b[1;33m(\u001b[0m\u001b[1;34m'Endorsed'\u001b[0m\u001b[1;33m)\u001b[0m\u001b[1;33m[\u001b[0m\u001b[1;34m'Primary %'\u001b[0m\u001b[1;33m]\u001b[0m\u001b[1;33m.\u001b[0m\u001b[0mdescribe\u001b[0m\u001b[1;33m(\u001b[0m\u001b[1;33m)\u001b[0m\u001b[1;33m,\u001b[0m \u001b[1;36m2\u001b[0m\u001b[1;33m)\u001b[0m\u001b[1;33m.\u001b[0m\u001b[0mreset_index\u001b[0m\u001b[1;33m(\u001b[0m\u001b[1;33m)\u001b[0m\u001b[1;33m\u001b[0m\u001b[1;33m\u001b[0m\u001b[0m\n",
      "\u001b[1;31mNameError\u001b[0m: name 'progressive_support' is not defined"
     ]
    }
   ],
   "source": [
    "# Create 3 tables with the above data in numbers\n",
    "# Group by Endorsements and find the statistics for the Primary % column\n",
    "pro_per = round(progressive_support.groupby('Endorsements')['Primary %'].describe(), 2).reset_index()\n",
    "par_per = round(party_support.groupby('Endorsements')['Primary %'].describe(), 2).reset_index()\n",
    "all_per = round(all_support.groupby('Endorsed')['Primary %'].describe(), 2).reset_index()\n",
    "# all_per = all_per.drop_duplicates(['Candidate'], keep='first')\n",
    "\n",
    "df1_styler = (pro_per\n",
    "              .style.set_table_attributes(\"style='display:inline'\").set_caption('Progressive Pacs')\n",
    "              .set_properties(subset=['Endorsements', 'count', 'mean', 'min', 'std', '25%', '50%', '75%', 'max'],\n",
    "                              **{'width': '90px', 'color': '#ffffff', 'background-color': '#636843','text-align': 'center'})\n",
    "              .set_table_styles([{'selector': 'tr:hover', 'props': [('background-color', 'yellow')],\n",
    "                                 'text-align': 'center'}]))\n",
    "df2_styler = (par_per\n",
    "              .style.set_table_attributes(\"style='display:inline'\").set_caption('Party Establishment')\n",
    "              .set_properties(subset=['Endorsements', 'count', 'mean', 'min', 'std', '25%', '50%', '75%', 'max'],\n",
    "                              **{'width': '90px', 'color': '#ffffff', 'background-color': '#9baa46','text-align': 'center'})\n",
    "              .set_table_styles([{'selector': 'tr:hover', 'props': [('background-color', 'yellow')],\n",
    "                                 'text-align': 'center'}]))\n",
    "df3_styler = (all_per\n",
    "              .style.set_table_attributes(\"style='display:inline'\").set_caption('All Pacs')\n",
    "              .set_properties(subset=['Endorsed', 'count', 'mean', 'min', 'std', '25%', '50%', '75%', 'max'],\n",
    "                              **{'width': '90px', 'background-color': '#cae822','text-align': 'center'})\n",
    "              .set_table_styles([{'selector': 'tr:hover', 'props': [('background-color', 'yellow')],\n",
    "                                 'text-align': 'center'}]))\n",
    "\n",
    "display(df1_styler, df2_styler, df3_styler)"
   ]
  },
  {
   "cell_type": "markdown",
   "metadata": {},
   "source": [
    "Comparing the distribution of the percent support candidates received between the Party Support and the Progressive pacs, we can see that the Party performed better than the Progressive pacs. The average for the party, with 68%, is twice as high as the Progressive one, with 35% support."
   ]
  },
  {
   "cell_type": "markdown",
   "metadata": {},
   "source": [
    "Back to [top](#Multi-Variate-Exploration)"
   ]
  },
  {
   "cell_type": "markdown",
   "metadata": {},
   "source": [
    "# <font color='#85ad0c'>Endorsements Won Progressive and Race</font>\n",
    "How did it look like when adding the Race variable?"
   ]
  },
  {
   "cell_type": "code",
   "execution_count": 19,
   "metadata": {},
   "outputs": [
    {
     "ename": "NameError",
     "evalue": "name 'progressive_support' is not defined",
     "output_type": "error",
     "traceback": [
      "\u001b[1;31m---------------------------------------------------------------------------\u001b[0m",
      "\u001b[1;31mNameError\u001b[0m                                 Traceback (most recent call last)",
      "\u001b[1;32m<ipython-input-19-6e0a28bb62fc>\u001b[0m in \u001b[0;36m<module>\u001b[1;34m\u001b[0m\n\u001b[0;32m      4\u001b[0m \u001b[1;31m# progressive_support\u001b[0m\u001b[1;33m\u001b[0m\u001b[1;33m\u001b[0m\u001b[1;33m\u001b[0m\u001b[0m\n\u001b[0;32m      5\u001b[0m \u001b[0mplt\u001b[0m\u001b[1;33m.\u001b[0m\u001b[0msubplot\u001b[0m\u001b[1;33m(\u001b[0m\u001b[1;36m131\u001b[0m\u001b[1;33m)\u001b[0m\u001b[1;33m\u001b[0m\u001b[1;33m\u001b[0m\u001b[0m\n\u001b[1;32m----> 6\u001b[1;33m sb.boxplot(x='Progressive', y = 'Primary %', data = progressive_support, showmeans=True, color=\"#636843\", hue='Race',\n\u001b[0m\u001b[0;32m      7\u001b[0m           meanprops={\"marker\":\"d\",\"markerfacecolor\":\"white\", \"markeredgecolor\":\"blue\"}).set(xlabel='Progressives Endorsed', ylabel='Percent Support')\n\u001b[0;32m      8\u001b[0m \u001b[0mplt\u001b[0m\u001b[1;33m.\u001b[0m\u001b[0mtitle\u001b[0m\u001b[1;33m(\u001b[0m\u001b[1;34m'Progressives Endorsements'\u001b[0m\u001b[1;33m)\u001b[0m\u001b[1;33m\u001b[0m\u001b[1;33m\u001b[0m\u001b[0m\n",
      "\u001b[1;31mNameError\u001b[0m: name 'progressive_support' is not defined"
     ]
    },
    {
     "data": {
      "image/png": "[encoded data removed]",
      "text/plain": [
       "<Figure size 1296x720 with 1 Axes>"
      ]
     },
     "metadata": {
      "needs_background": "light"
     },
     "output_type": "display_data"
    }
   ],
   "source": [
    "# Plot\n",
    "plt.figure(figsize=(18,10))\n",
    "\n",
    "# progressive_support\n",
    "plt.subplot(131)\n",
    "sb.boxplot(x='Progressive', y = 'Primary %', data = progressive_support, showmeans=True, color=\"#636843\", hue='Race',\n",
    "          meanprops={\"marker\":\"d\",\"markerfacecolor\":\"white\", \"markeredgecolor\":\"blue\"}).set(xlabel='Progressives Endorsed', ylabel='Percent Support')\n",
    "plt.title('Progressives Endorsements')\n",
    "\n",
    "# party_support\n",
    "plt.subplot(132)\n",
    "sb.boxplot(x='Endorsements', y = 'Primary %', data = party_support, showmeans=True, color=\"#9baa46\", hue='Race',\n",
    "          meanprops={\"marker\":\"d\",\"markerfacecolor\":\"white\", \"markeredgecolor\":\"blue\"}).set(\n",
    "    xlabel='Party Endorsed', \n",
    "    ylabel='Percent Support'\n",
    ")\n",
    "plt.title('Party Endorsements')\n",
    "\n",
    "# all_support\n",
    "plt.subplot(133)\n",
    "sb.boxplot(x='Endorsed', y = 'Primary %', data = all_support, showmeans=True, color=\"#cae822\", hue='Race',\n",
    "          meanprops={\"marker\":\"d\",\"markerfacecolor\":\"white\", \"markeredgecolor\":\"blue\"}).set(\n",
    "    xlabel='All Endorsements', \n",
    "    ylabel='Percent Support'\n",
    ")\n",
    "plt.title('All Endorsements')\n",
    "\n",
    "plt.show()"
   ]
  },
  {
   "cell_type": "markdown",
   "metadata": {},
   "source": [
    "Back to [top](#Multi-Variate-Exploration)"
   ]
  },
  {
   "cell_type": "markdown",
   "metadata": {},
   "source": [
    "We can see above that the Party Support pac not only had more white candidates, but also had a much higher average and performnce in general than non-Whites in the party.\n",
    "Whites also lead the vote percent in the Progressive pacs."
   ]
  },
  {
   "cell_type": "markdown",
   "metadata": {},
   "source": [
    "### Challenges\n",
    "One of the challanging things I had to deal with in this project was to assign the Progressive title to Progressive candidates, who also had non-Progressive endorsers. It could have been much easier if each candidate was either a Progressive or not. I solved it by creating a list of all the progressive candidates and then assigning the Yes value to each one of the candidates on the list into a new column, called \"Progressive Candidate?\".<br>\n",
    "Another challenge was finding that I had missing data throughout the wrangling and the exploration phases. Each time that I found some data missing, I had to go and look for that data, clean it and merge it with the main dataframe I obtained from Five Thirty Eight.<br>\n",
    "Exploring the data by uni-bi and multi variants was pretty confusing in the beginning since I decided go through various variables and had a lot of data to explore, which made the exploration file too long. I solved it by separating the wrangling part from the exploration part and separating the exploration file into 3 different files, following the uni-bi and multi variant parts. This ended up with more files, but much better readability and orientation."
   ]
  },
  {
   "cell_type": "markdown",
   "metadata": {},
   "source": [
    "### Future Explorations\n",
    "I would add to this analysis, if I had the time, the amount of contributions each candidate received, to try and find if there is correlation between that and the success rate of pacs and individual candidates from the Progressive flank and the Establishment of the Democratic party.<br>\n",
    "Another idea for future exploration is to compare this analysis with the Republican primaries and how they did with the different variables found on the Democratic dataset, like the distribution of Race. Or, the winnings of the Republican Progressive pacs. Haha, the last one will probably result as a joke! I wonder if there really are Progressives that run for office through the Republican party.<br>\n",
    "Lastly, I would have liked to put my hands on the general elections of 2018's data and expend this project to learn how the Progressive movement did against the Republicans and how many seats they took in the Senate, Congress and the House of Representatives."
   ]
  },
  {
   "cell_type": "markdown",
   "metadata": {},
   "source": [
    "Back to [Exploration3](Exploration3.ipynb) | Back to [top](#Multi-Variate-Exploration)"
   ]
  }
 ],
 "metadata": {
  "kernelspec": {
   "display_name": "Python 3",
   "language": "python",
   "name": "python3"
  },
  "language_info": {
   "codemirror_mode": {
    "name": "ipython",
    "version": 3
   },
   "file_extension": ".py",
   "mimetype": "text/x-python",
   "name": "python",
   "nbconvert_exporter": "python",
   "pygments_lexer": "ipython3",
   "version": "3.7.3"
  }
 },
 "nbformat": 4,
 "nbformat_minor": 2
}
