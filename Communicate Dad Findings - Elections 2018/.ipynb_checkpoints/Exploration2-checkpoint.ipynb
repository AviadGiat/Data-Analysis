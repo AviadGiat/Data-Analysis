{
 "cells": [
  {
   "cell_type": "markdown",
   "metadata": {},
   "source": [
    "# <center>2018 Elections - Progresive Victories in the Democratic primaries</center>\n",
    "### <center>Udacity Data Analysis Nano-Degree / by Aviad Giat</center>\n",
    "# <center><span style=\"color:#789F3C\">Uni-Variate Exploration</span></center>"
   ]
  },
  {
   "cell_type": "markdown",
   "metadata": {},
   "source": [
    "### Table of Contents\n",
    "[Endorsements](#Endorsements) <br> [Progressive](#Progressive) <br> [Candidate](#Candidate) <br> [Primary Percent](#Percent) <br> [State](#State) <br> [Won](#Won)  <br> [Race](#Race)"
   ]
  },
  {
   "cell_type": "markdown",
   "metadata": {},
   "source": [
    "### Import libraries"
   ]
  },
  {
   "cell_type": "code",
   "execution_count": 1,
   "metadata": {},
   "outputs": [
    {
     "name": "stderr",
     "output_type": "stream",
     "text": [
      "C:\\Users\\Aviad\\Anaconda3\\lib\\site-packages\\IPython\\html.py:14: ShimWarning: The `IPython.html` package has been deprecated since IPython 4.0. You should import from `notebook` instead. `IPython.html.widgets` has moved to `ipywidgets`.\n",
      "  \"`IPython.html.widgets` has moved to `ipywidgets`.\", ShimWarning)\n"
     ]
    },
    {
     "data": {
      "text/html": [
       "        <script type=\"text/javascript\">\n",
       "        window.PlotlyConfig = {MathJaxConfig: 'local'};\n",
       "        if (window.MathJax) {MathJax.Hub.Config({SVG: {font: \"STIX-Web\"}});}\n",
       "        if (typeof require !== 'undefined') {\n",
       "        require.undef(\"plotly\");\n",
       "        requirejs.config({\n",
       "            paths: {\n",
       "                'plotly': ['https://cdn.plot.ly/plotly-latest.min']\n",
       "            }\n",
       "        });\n",
       "        require(['plotly'], function(Plotly) {\n",
       "            window._Plotly = Plotly;\n",
       "        });\n",
       "        }\n",
       "        </script>\n",
       "        "
      ]
     },
     "metadata": {},
     "output_type": "display_data"
    }
   ],
   "source": [
    "# import all packages and set plots to be embedded inline\n",
    "import numpy as np\n",
    "import pandas as pd\n",
    "import matplotlib.pyplot as plt\n",
    "import seaborn as sb\n",
    "from IPython.display import display_html\n",
    "from IPython.html import widgets\n",
    "## plotly libraries\n",
    "from plotly import __version__\n",
    "from plotly.offline import download_plotlyjs, init_notebook_mode, plot, iplot\n",
    "import plotly.graph_objs as go\n",
    "import plotly \n",
    "plotly.tools.set_credentials_file(username='AviG', api_key='6XMlVYzt98Zt9xJbuEtc')\n",
    "init_notebook_mode(connected=True)"
   ]
  },
  {
   "cell_type": "markdown",
   "metadata": {},
   "source": [
    "### Change some HTML properties for the entire notebook"
   ]
  },
  {
   "cell_type": "code",
   "execution_count": 2,
   "metadata": {},
   "outputs": [
    {
     "data": {
      "text/html": [
       "<style>.output_wrapper, .output {height:auto !important; max-height:10000px;\n",
       "                                }.output_scroll {box-shadow:none !important; webkit-box-shadow:none !important;}</style>\n"
      ],
      "text/plain": [
       "<IPython.core.display.HTML object>"
      ]
     },
     "metadata": {},
     "output_type": "display_data"
    }
   ],
   "source": [
    "%%html\n",
    "<style>.output_wrapper, .output {height:auto !important; max-height:10000px;\n",
    "                                }.output_scroll {box-shadow:none !important; webkit-box-shadow:none !important;}</style>"
   ]
  },
  {
   "cell_type": "markdown",
   "metadata": {},
   "source": [
    "### Import the \"munged\" dataframe from the \"Exploration1\" file"
   ]
  },
  {
   "cell_type": "code",
   "execution_count": 3,
   "metadata": {},
   "outputs": [],
   "source": [
    "dem = pd.read_csv('dem.csv')"
   ]
  },
  {
   "cell_type": "markdown",
   "metadata": {},
   "source": [
    "Back to [top](#Uni-Variate-Exploration)"
   ]
  },
  {
   "cell_type": "markdown",
   "metadata": {},
   "source": [
    "# <font color='85ad0c'>Endorsements<font>\n",
    "Which were the endorsing pacs in the 2018 elections, as summarized by <a href=\"https://fivethirtyeight.com/features/the-establishment-is-beating-the-progressive-wing-in-democratic-primaries-so-far/\">Five Thirty-Eight</a>?"
   ]
  },
  {
   "cell_type": "code",
   "execution_count": 4,
   "metadata": {
    "scrolled": true
   },
   "outputs": [
    {
     "name": "stdout",
     "output_type": "stream",
     "text": [
      "\u001b[32m\u001b[1mPacs and Endorsers for 2018 Democratic parimaries\u001b[0m\n"
     ]
    },
    {
     "data": {
      "text/html": [
       "<style  type=\"text/css\" >\n",
       "    #T_a24382c8_7888_11e9_8a25_e09d31cd9d6brow0_col0 {\n",
       "            background:  #cae0a8;\n",
       "        }    #T_a24382c8_7888_11e9_8a25_e09d31cd9d6brow0_col1 {\n",
       "            background:  #cae0a8;\n",
       "        }    #T_a24382c8_7888_11e9_8a25_e09d31cd9d6brow0_col2 {\n",
       "            background:  #cae0a8;\n",
       "        }    #T_a24382c8_7888_11e9_8a25_e09d31cd9d6brow1_col0 {\n",
       "            background:  #cae0a8;\n",
       "        }    #T_a24382c8_7888_11e9_8a25_e09d31cd9d6brow1_col1 {\n",
       "            background:  #cae0a8;\n",
       "        }    #T_a24382c8_7888_11e9_8a25_e09d31cd9d6brow1_col2 {\n",
       "            background:  #cae0a8;\n",
       "        }    #T_a24382c8_7888_11e9_8a25_e09d31cd9d6brow2_col0 {\n",
       "            background:  #cae0a8;\n",
       "        }    #T_a24382c8_7888_11e9_8a25_e09d31cd9d6brow2_col1 {\n",
       "            background:  #cae0a8;\n",
       "        }    #T_a24382c8_7888_11e9_8a25_e09d31cd9d6brow2_col2 {\n",
       "            background:  #cae0a8;\n",
       "        }    #T_a24382c8_7888_11e9_8a25_e09d31cd9d6brow3_col0 {\n",
       "            background:  #ffffff;\n",
       "        }    #T_a24382c8_7888_11e9_8a25_e09d31cd9d6brow3_col1 {\n",
       "            background:  #ffffff;\n",
       "        }    #T_a24382c8_7888_11e9_8a25_e09d31cd9d6brow3_col2 {\n",
       "            background:  #ffffff;\n",
       "        }    #T_a24382c8_7888_11e9_8a25_e09d31cd9d6brow4_col0 {\n",
       "            background:  #ffffff;\n",
       "        }    #T_a24382c8_7888_11e9_8a25_e09d31cd9d6brow4_col1 {\n",
       "            background:  #ffffff;\n",
       "        }    #T_a24382c8_7888_11e9_8a25_e09d31cd9d6brow4_col2 {\n",
       "            background:  #ffffff;\n",
       "        }    #T_a24382c8_7888_11e9_8a25_e09d31cd9d6brow5_col0 {\n",
       "            background:  #ffffff;\n",
       "        }    #T_a24382c8_7888_11e9_8a25_e09d31cd9d6brow5_col1 {\n",
       "            background:  #ffffff;\n",
       "        }    #T_a24382c8_7888_11e9_8a25_e09d31cd9d6brow5_col2 {\n",
       "            background:  #ffffff;\n",
       "        }    #T_a24382c8_7888_11e9_8a25_e09d31cd9d6brow6_col0 {\n",
       "            background:  #ffffff;\n",
       "        }    #T_a24382c8_7888_11e9_8a25_e09d31cd9d6brow6_col1 {\n",
       "            background:  #ffffff;\n",
       "        }    #T_a24382c8_7888_11e9_8a25_e09d31cd9d6brow6_col2 {\n",
       "            background:  #ffffff;\n",
       "        }    #T_a24382c8_7888_11e9_8a25_e09d31cd9d6brow7_col0 {\n",
       "            background:  #ffffff;\n",
       "        }    #T_a24382c8_7888_11e9_8a25_e09d31cd9d6brow7_col1 {\n",
       "            background:  #ffffff;\n",
       "        }    #T_a24382c8_7888_11e9_8a25_e09d31cd9d6brow7_col2 {\n",
       "            background:  #ffffff;\n",
       "        }    #T_a24382c8_7888_11e9_8a25_e09d31cd9d6brow8_col0 {\n",
       "            background:  #ffffff;\n",
       "        }    #T_a24382c8_7888_11e9_8a25_e09d31cd9d6brow8_col1 {\n",
       "            background:  #ffffff;\n",
       "        }    #T_a24382c8_7888_11e9_8a25_e09d31cd9d6brow8_col2 {\n",
       "            background:  #ffffff;\n",
       "        }    #T_a24382c8_7888_11e9_8a25_e09d31cd9d6brow9_col0 {\n",
       "            background:  #ffffff;\n",
       "        }    #T_a24382c8_7888_11e9_8a25_e09d31cd9d6brow9_col1 {\n",
       "            background:  #ffffff;\n",
       "        }    #T_a24382c8_7888_11e9_8a25_e09d31cd9d6brow9_col2 {\n",
       "            background:  #ffffff;\n",
       "        }    #T_a24382c8_7888_11e9_8a25_e09d31cd9d6brow10_col0 {\n",
       "            background:  #ffffff;\n",
       "        }    #T_a24382c8_7888_11e9_8a25_e09d31cd9d6brow10_col1 {\n",
       "            background:  #ffffff;\n",
       "        }    #T_a24382c8_7888_11e9_8a25_e09d31cd9d6brow10_col2 {\n",
       "            background:  #ffffff;\n",
       "        }</style><table id=\"T_a24382c8_7888_11e9_8a25_e09d31cd9d6b\" ><thead>    <tr>        <th class=\"blank level0\" ></th>        <th class=\"col_heading level0 col0\" >Pac / Endorser</th>        <th class=\"col_heading level0 col1\" >Link</th>        <th class=\"col_heading level0 col2\" >Progressive?</th>    </tr></thead><tbody>\n",
       "                <tr>\n",
       "                        <th id=\"T_a24382c8_7888_11e9_8a25_e09d31cd9d6blevel0_row0\" class=\"row_heading level0 row0\" >0</th>\n",
       "                        <td id=\"T_a24382c8_7888_11e9_8a25_e09d31cd9d6brow0_col0\" class=\"data row0 col0\" >Justice Democrats</td>\n",
       "                        <td id=\"T_a24382c8_7888_11e9_8a25_e09d31cd9d6brow0_col1\" class=\"data row0 col1\" >https://www.justicedemocrats.com</td>\n",
       "                        <td id=\"T_a24382c8_7888_11e9_8a25_e09d31cd9d6brow0_col2\" class=\"data row0 col2\" >Yes</td>\n",
       "            </tr>\n",
       "            <tr>\n",
       "                        <th id=\"T_a24382c8_7888_11e9_8a25_e09d31cd9d6blevel0_row1\" class=\"row_heading level0 row1\" >1</th>\n",
       "                        <td id=\"T_a24382c8_7888_11e9_8a25_e09d31cd9d6brow1_col0\" class=\"data row1 col0\" >Our Revolution</td>\n",
       "                        <td id=\"T_a24382c8_7888_11e9_8a25_e09d31cd9d6brow1_col1\" class=\"data row1 col1\" >https://ourrevolution.com/about</td>\n",
       "                        <td id=\"T_a24382c8_7888_11e9_8a25_e09d31cd9d6brow1_col2\" class=\"data row1 col2\" >Yes</td>\n",
       "            </tr>\n",
       "            <tr>\n",
       "                        <th id=\"T_a24382c8_7888_11e9_8a25_e09d31cd9d6blevel0_row2\" class=\"row_heading level0 row2\" >2</th>\n",
       "                        <td id=\"T_a24382c8_7888_11e9_8a25_e09d31cd9d6brow2_col0\" class=\"data row2 col0\" >PCCC</td>\n",
       "                        <td id=\"T_a24382c8_7888_11e9_8a25_e09d31cd9d6brow2_col1\" class=\"data row2 col1\" >http://boldprogressives.org/about</td>\n",
       "                        <td id=\"T_a24382c8_7888_11e9_8a25_e09d31cd9d6brow2_col2\" class=\"data row2 col2\" >Yes</td>\n",
       "            </tr>\n",
       "            <tr>\n",
       "                        <th id=\"T_a24382c8_7888_11e9_8a25_e09d31cd9d6blevel0_row3\" class=\"row_heading level0 row3\" >3</th>\n",
       "                        <td id=\"T_a24382c8_7888_11e9_8a25_e09d31cd9d6brow3_col0\" class=\"data row3 col0\" >Indevisible</td>\n",
       "                        <td id=\"T_a24382c8_7888_11e9_8a25_e09d31cd9d6brow3_col1\" class=\"data row3 col1\" >https://www.indivisible.org</td>\n",
       "                        <td id=\"T_a24382c8_7888_11e9_8a25_e09d31cd9d6brow3_col2\" class=\"data row3 col2\" >No</td>\n",
       "            </tr>\n",
       "            <tr>\n",
       "                        <th id=\"T_a24382c8_7888_11e9_8a25_e09d31cd9d6blevel0_row4\" class=\"row_heading level0 row4\" >4</th>\n",
       "                        <td id=\"T_a24382c8_7888_11e9_8a25_e09d31cd9d6brow4_col0\" class=\"data row4 col0\" >Working Families</td>\n",
       "                        <td id=\"T_a24382c8_7888_11e9_8a25_e09d31cd9d6brow4_col1\" class=\"data row4 col1\" >http://workingfamilies.org/about-us</td>\n",
       "                        <td id=\"T_a24382c8_7888_11e9_8a25_e09d31cd9d6brow4_col2\" class=\"data row4 col2\" >No</td>\n",
       "            </tr>\n",
       "            <tr>\n",
       "                        <th id=\"T_a24382c8_7888_11e9_8a25_e09d31cd9d6blevel0_row5\" class=\"row_heading level0 row5\" >5</th>\n",
       "                        <td id=\"T_a24382c8_7888_11e9_8a25_e09d31cd9d6brow5_col0\" class=\"data row5 col0\" >Dem Party Support</td>\n",
       "                        <td id=\"T_a24382c8_7888_11e9_8a25_e09d31cd9d6brow5_col1\" class=\"data row5 col1\" >https://redtoblue.dccc.org/</td>\n",
       "                        <td id=\"T_a24382c8_7888_11e9_8a25_e09d31cd9d6brow5_col2\" class=\"data row5 col2\" >No</td>\n",
       "            </tr>\n",
       "            <tr>\n",
       "                        <th id=\"T_a24382c8_7888_11e9_8a25_e09d31cd9d6blevel0_row6\" class=\"row_heading level0 row6\" >6</th>\n",
       "                        <td id=\"T_a24382c8_7888_11e9_8a25_e09d31cd9d6brow6_col0\" class=\"data row6 col0\" >Emily</td>\n",
       "                        <td id=\"T_a24382c8_7888_11e9_8a25_e09d31cd9d6brow6_col1\" class=\"data row6 col1\" >https://www.emilyslist.org/pages/about-us</td>\n",
       "                        <td id=\"T_a24382c8_7888_11e9_8a25_e09d31cd9d6brow6_col2\" class=\"data row6 col2\" >No</td>\n",
       "            </tr>\n",
       "            <tr>\n",
       "                        <th id=\"T_a24382c8_7888_11e9_8a25_e09d31cd9d6blevel0_row7\" class=\"row_heading level0 row7\" >7</th>\n",
       "                        <td id=\"T_a24382c8_7888_11e9_8a25_e09d31cd9d6brow7_col0\" class=\"data row7 col0\" >Gun Sense</td>\n",
       "                        <td id=\"T_a24382c8_7888_11e9_8a25_e09d31cd9d6brow7_col1\" class=\"data row7 col1\" >https://momsdemandaction.org/about/</td>\n",
       "                        <td id=\"T_a24382c8_7888_11e9_8a25_e09d31cd9d6brow7_col2\" class=\"data row7 col2\" >No</td>\n",
       "            </tr>\n",
       "            <tr>\n",
       "                        <th id=\"T_a24382c8_7888_11e9_8a25_e09d31cd9d6blevel0_row8\" class=\"row_heading level0 row8\" >8</th>\n",
       "                        <td id=\"T_a24382c8_7888_11e9_8a25_e09d31cd9d6brow8_col0\" class=\"data row8 col0\" >Votes Vets</td>\n",
       "                        <td id=\"T_a24382c8_7888_11e9_8a25_e09d31cd9d6brow8_col1\" class=\"data row8 col1\" >https://www.votevets.org/about</td>\n",
       "                        <td id=\"T_a24382c8_7888_11e9_8a25_e09d31cd9d6brow8_col2\" class=\"data row8 col2\" >No</td>\n",
       "            </tr>\n",
       "            <tr>\n",
       "                        <th id=\"T_a24382c8_7888_11e9_8a25_e09d31cd9d6blevel0_row9\" class=\"row_heading level0 row9\" >9</th>\n",
       "                        <td id=\"T_a24382c8_7888_11e9_8a25_e09d31cd9d6brow9_col0\" class=\"data row9 col0\" >Biden Endorsed</td>\n",
       "                        <td id=\"T_a24382c8_7888_11e9_8a25_e09d31cd9d6brow9_col1\" class=\"data row9 col1\" >https://ballotpedia.org/Endorsements_by_Joe_Biden</td>\n",
       "                        <td id=\"T_a24382c8_7888_11e9_8a25_e09d31cd9d6brow9_col2\" class=\"data row9 col2\" >No</td>\n",
       "            </tr>\n",
       "            <tr>\n",
       "                        <th id=\"T_a24382c8_7888_11e9_8a25_e09d31cd9d6blevel0_row10\" class=\"row_heading level0 row10\" >10</th>\n",
       "                        <td id=\"T_a24382c8_7888_11e9_8a25_e09d31cd9d6brow10_col0\" class=\"data row10 col0\" >Sanders Endorsed</td>\n",
       "                        <td id=\"T_a24382c8_7888_11e9_8a25_e09d31cd9d6brow10_col1\" class=\"data row10 col1\" >https://ballotpedia.org/Endorsements_by_Bernie_Sanders</td>\n",
       "                        <td id=\"T_a24382c8_7888_11e9_8a25_e09d31cd9d6brow10_col2\" class=\"data row10 col2\" >No</td>\n",
       "            </tr>\n",
       "    </tbody></table>"
      ],
      "text/plain": [
       "<pandas.io.formats.style.Styler at 0x2b15beec748>"
      ]
     },
     "execution_count": 4,
     "metadata": {},
     "output_type": "execute_result"
    }
   ],
   "source": [
    "endorsers = pd.read_csv('endorsers.csv')\n",
    "print(\"\\033[32m\\033[1mPacs and Endorsers for 2018 Democratic parimaries\\033[0m\")\n",
    "def make_clickable(val):\n",
    "    return '<a target=\"_blank\" href=\"{}\">{}</a>'.format(val, val)\n",
    "\n",
    "(endorsers.style\n",
    " .format({'link': make_clickable})\n",
    " .apply(lambda x: ['background: #cae0a8' if x.name in [0,1,2] else 'background: #ffffff' for i in x], axis=1))"
   ]
  },
  {
   "cell_type": "markdown",
   "metadata": {},
   "source": [
    "We can see in the above table the list of all the pacs and endorsers, with the top ones being Progressives and the rest are not. There are many more <a href=\"https://en.wikipedia.org/wiki/List_of_political_action_committees\">Political Action Committees</a>, and political endorsing groups or individuals, but I will keep the focus on the above 11 for the scope of this analysis, following the choice of Five Thirty-Eight, the well established political analysis institution."
   ]
  },
  {
   "cell_type": "markdown",
   "metadata": {},
   "source": [
    "How does the Endorsements distribution look like? Who endorsed the highest number of candidates? Who had the lowest?"
   ]
  },
  {
   "cell_type": "code",
   "execution_count": 5,
   "metadata": {},
   "outputs": [
    {
     "data": {
      "text/plain": [
       "Text(0.5, 1.0, '2018 Democratic endorsements 1')"
      ]
     },
     "execution_count": 5,
     "metadata": {},
     "output_type": "execute_result"
    },
    {
     "data": {
      "image/png": "[encoded data removed]",
      "text/plain": [
       "<Figure size 1008x432 with 1 Axes>"
      ]
     },
     "metadata": {
      "needs_background": "light"
     },
     "output_type": "display_data"
    }
   ],
   "source": [
    "plt.figure(figsize=(14,6))\n",
    "sb.countplot(data = dem, x = 'Endorsements',  edgecolor='black')\n",
    "plt.xticks(rotation = 90)\n",
    "plt.title(\"2018 Democratic endorsements 1\", fontdict = {'fontsize' : 20})"
   ]
  },
  {
   "cell_type": "markdown",
   "metadata": {},
   "source": [
    "We can see from the above distribution of the Endorsements variable that there were more candidates who did not receive any endorsements than ones who did. To make the plot answer my above question more precisely, I will remove the records without endorsements."
   ]
  },
  {
   "cell_type": "code",
   "execution_count": 6,
   "metadata": {},
   "outputs": [
    {
     "name": "stdout",
     "output_type": "stream",
     "text": [
      "\u001b[32m\u001b[1mNumber of endorsements by each pack\u001b[0m\n",
      " Guns Sense Candidate?       193\n",
      "Our Revolution Endorsed?     85\n",
      "Emily Endorsed?              54\n",
      "Justice Dems Endorsed?       50\n",
      "Indivisible Endorsed?        46\n",
      "Party Support?               39\n",
      "WFP Endorsed?                30\n",
      "VoteVets Endorsed?           28\n",
      "PCCC Endorsed?               15\n",
      "Biden Endorsed?              10\n",
      "Sanders Endorsed?             9\n",
      "Name: Endorsements, dtype: int64\n"
     ]
    },
    {
     "data": {
      "image/png": "[encoded data removed]",
      "text/plain": [
       "<Figure size 1008x432 with 1 Axes>"
      ]
     },
     "metadata": {
      "needs_background": "light"
     },
     "output_type": "display_data"
    }
   ],
   "source": [
    "# Bring the data before adding the missing values of Biden, Sanders and Gun Sense\n",
    "missing_endorsements = pd.read_csv('dm.csv')\n",
    "\n",
    "fig, ax = plt.subplots(figsize=(14,6))\n",
    "endors_yes = missing_endorsements[missing_endorsements['Endorsements'] != 'No']\n",
    "endors_yes.drop_duplicates()\n",
    "print(\"\\033[32m\\033[1mNumber of endorsements by each pack\\033[0m\\n\",endors_yes['Endorsements'].value_counts())\n",
    "endors_yes['Endorsements'].value_counts().plot(kind=\"bar\", color='#85ad0c', edgecolor='black')\n",
    "plt.xticks(rotation = 90)\n",
    "plt.title(\"2018 Democratic endorsements 2\", fontdict = {'fontsize' : 20})\n",
    "plt.show()"
   ]
  },
  {
   "cell_type": "markdown",
   "metadata": {},
   "source": [
    "That is definitely a clearer plot to see which pac endorsed the highest number of candidates. Guns Sense endorsed more than anyone with 193 candidates, followed by Our Revolution with 85 endorsements. The ones who endorsed the least candidates by this list were Joe Biden and Bernie Sanders.<br>\n",
    "Sanders and Biden endorsing such small number of candidates don't seem right. After researching I found that there are in fact more endorsements than what the initial dataset from FIve Thirty Eight offered. I will add this missing data in the preliminary wrangling on the Exploration1 file."
   ]
  },
  {
   "cell_type": "markdown",
   "metadata": {},
   "source": [
    "After adding the data from Ballotpedia and Guns Sense to the primary dataset, let's see how the endorsers are doing now."
   ]
  },
  {
   "cell_type": "code",
   "execution_count": 7,
   "metadata": {
    "scrolled": true
   },
   "outputs": [
    {
     "name": "stdout",
     "output_type": "stream",
     "text": [
      "\u001b[32m\u001b[1mComplete list of the number of endorsements by each pack\u001b[0m\n",
      " Guns Sense Candidate?       206\n",
      "Biden Endorsed?              98\n",
      "Our Revolution Endorsed?     82\n",
      "Justice Dems Endorsed?       48\n",
      "Indivisible Endorsed?        40\n",
      "Emily Endorsed?              32\n",
      "WFP Endorsed?                29\n",
      "Sanders Endorsed?            26\n",
      "Party Support?               22\n",
      "VoteVets Endorsed?           22\n",
      "PCCC Endorsed?               11\n",
      "Name: Endorsements, dtype: int64\n"
     ]
    },
    {
     "data": {
      "image/png": "[encoded data removed]",
      "text/plain": [
       "<Figure size 1008x432 with 1 Axes>"
      ]
     },
     "metadata": {
      "needs_background": "light"
     },
     "output_type": "display_data"
    }
   ],
   "source": [
    "# Distribution of the Endorsements variable\n",
    "fig, ax = plt.subplots(figsize=(14,6))\n",
    "endors_yes1 = dem[dem['Endorsements'] != 'No']\n",
    "print(\"\\033[32m\\033[1mComplete list of the number of endorsements by each pack\\033[0m\\n\",endors_yes1['Endorsements'].value_counts())\n",
    "endors_yes1['Endorsements'].value_counts().plot(kind=\"bar\", color='#85ad0c', edgecolor='black')\n",
    "plt.xticks(rotation = 90)\n",
    "plt.title(\"2018 Democratic endorsements 3\", fontdict = {'fontsize' : 20})\n",
    "plt.show()"
   ]
  },
  {
   "cell_type": "markdown",
   "metadata": {},
   "source": [
    "We can see above how Bernie Sanders climbed up 3 locations with 26 endorsements (from being last with 9 endorsements in the original dataframe), and Joe Biden went up all the way from 10th position to the 2nd, with 98 endorsements. The last one now is the PCCC with 11 endorsements. PCCC does not endorse, as a principal, more than 15 candidates at an election cycle. The pac with the highest number of endorsements is Guns Sense, which endorsed 206 candidates. Guns Sense is an apolitical and a non-partisan organization, which might shed light on why it had so many endorsements.<br>\n",
    "The Democratic Party Support is not ranked high in this list (3rd from the bottom). They endorsed only 22 candidates. I would think that the party itself would have more candidates endorsed in order to expand their reach, but I guess their strategy on that is different. We will see how many candidates they won with, in the Bi-variate exploration,  [here](Exploration3.ipynb#Endorsements-and-Won)."
   ]
  },
  {
   "cell_type": "markdown",
   "metadata": {},
   "source": [
    "Back to [top](#Uni-Variate-Exploration)"
   ]
  },
  {
   "cell_type": "markdown",
   "metadata": {},
   "source": [
    "# <font color='84A3C1'>Progressive</font>\n",
    "#### How many progressive candidates where there at first, compare to other candidates?"
   ]
  },
  {
   "cell_type": "code",
   "execution_count": 8,
   "metadata": {},
   "outputs": [
    {
     "name": "stdout",
     "output_type": "stream",
     "text": [
      "No     734\n",
      "Yes    105\n",
      "Name: Progressive, dtype: int64\n"
     ]
    },
    {
     "data": {
      "image/png": "[encoded data removed]",
      "text/plain": [
       "<Figure size 1296x720 with 2 Axes>"
      ]
     },
     "metadata": {
      "needs_background": "light"
     },
     "output_type": "display_data"
    }
   ],
   "source": [
    "# Group the main dataframe by Candidate and Progressive variables to be able to count unique candidates.\n",
    "# Some candidates were endorsed by Progressive pacs and non-Progressive pacs. \n",
    "dem_unique = dem.groupby(['Candidate', 'Progressive']).count().reset_index()\n",
    "\n",
    "# Drop rows that have the same candidate name and prorgessive value.\n",
    "dem_unique = dem_unique.drop_duplicates(['Candidate', 'Progressive'], keep = 'last')\n",
    "\n",
    "# Drop rows that have the same candidate name and keep the last, which is the 'Yes' value under the Progressive column\n",
    "dem_unique = dem_unique.drop_duplicates('Candidate', keep = 'last')\n",
    "\n",
    "\n",
    "# Table with the number of Progressive candidates\n",
    "\n",
    "print(dem_unique['Progressive'].value_counts())\n",
    "\n",
    "# Plot figure with 1 row and 2 columns and insert inside the two diagrams\n",
    "fig = plt.figure(figsize=(18,10))\n",
    "fig.suptitle('Progressive Candidates', fontsize=20)\n",
    "\n",
    "# progressive_support\n",
    "# Barplot\n",
    "plt.subplot(121)\n",
    "colors = ['#1F77B4', '#2adbf7'] \n",
    "dem_unique['Progressive'].value_counts().plot(kind = \"bar\", color=colors, edgecolor='black');\n",
    "plt.title(\"In Numbers\", fontdict = {'fontsize' : 20});\n",
    "# plt.bar(dem_unique['Progressive'], height=y, width=.4)\n",
    "\n",
    "# Plot the percent of survivors\n",
    "plt.subplot(122)\n",
    "pie_chart = (dem_unique['Progressive'].value_counts()) # Create the array 'x' for the pie chart\n",
    "colors = ['#1F77B4', '#2adbf7'] # Set the colors for the slices (2 in this case)\n",
    "explode = (0, 0.1)\n",
    "plt.pie(pie_chart, explode=explode, shadow=False, colors=colors, autopct='%1.1f%%', labels = ['No', 'Yes'], wedgeprops = { 'linewidth' : 1 , 'edgecolor' : 'black'})# Plot the pie chart\n",
    "plt.axis('equal')  # make the chart look good (round)\n",
    "plt.title('\\nIn Percentage', size=20) # Give a title to the plot\n",
    "xlocs, xlabs = plt.xticks()\n",
    "\n",
    "plt.show()"
   ]
  },
  {
   "cell_type": "markdown",
   "metadata": {},
   "source": [
    "The Progressives were 12.5% of the total candidates. 105 out of 839, compare to 734 non-Progressives.\n",
    "How many Progressive candidates won? How did the Progressive pacs do, compared to non-Progressive pacs?\n",
    "I will delve into that in the Bi-variate exploration, in the [Exploration3](Exploration3.ipynb#Progressive-&-Won) file."
   ]
  },
  {
   "cell_type": "markdown",
   "metadata": {},
   "source": [
    "Back to [top](#Uni-Variate-Exploration)"
   ]
  },
  {
   "cell_type": "markdown",
   "metadata": {},
   "source": [
    "# <font color='e09c4a'>Candidate</font>"
   ]
  },
  {
   "cell_type": "code",
   "execution_count": 9,
   "metadata": {},
   "outputs": [
    {
     "data": {
      "image/png": "[encoded data removed]",
      "text/plain": [
       "<Figure size 1296x432 with 1 Axes>"
      ]
     },
     "metadata": {
      "needs_background": "light"
     },
     "output_type": "display_data"
    }
   ],
   "source": [
    "plt.figure(figsize=(18,6))\n",
    "\n",
    "dem['Candidate'].value_counts().plot(kind = \"bar\", color=\"#e09c4a\")\n",
    "plt.axhline(y=1, color='#ddd8d2', alpha=0.5)\n",
    "plt.axhline(y=2, color='#ddd8d2', alpha=0.5)\n",
    "plt.axhline(y=3, color='#ddd8d2', alpha=0.5)\n",
    "plt.axhline(y=4, color='#ddd8d2', alpha=0.5)\n",
    "plt.axhline(y=5, color='#ddd8d2', alpha=0.5)\n",
    "plt.axhline(y=6, color='#ddd8d2', alpha=0.5)\n",
    "plt.axhline(y=7, color='#ddd8d2', alpha=0.5)\n",
    "plt.xticks([])\n",
    "plt.xlabel(\"Candidates\")\n",
    "plt.ylabel(\"Number of endorsements\")\n",
    "plt.title(\"Candidates Distribution\", fontdict = {'fontsize' : 20})\n",
    "plt.show()"
   ]
  },
  {
   "cell_type": "markdown",
   "metadata": {},
   "source": [
    "Some candidates were endorsed by more than one pac. When grouping by the number of endorsements, we can see in the above distribution that candidates endorsed by one pac had the highest number of occurrences, and as the number of endorsements went up, fewer candidates can be seen, up to 7 endorsements to 1 candidate. I wonder who that popular candidate was and if there were any Progressives in the top list.<br>\n",
    "Ben Jealous from Maryland was the most 'popular' candidate with 7 appearances in the database (7 different endorsements). He did win the primary, but lost in the general election to the incumbent governor, Republican Larry Hogan.<br>\n",
    "Brent Welder from Kansas, Abdul El-Sayed from Michigan and Dana Balter from New York, all received 6 endorsements and all were supported by Progressive pacs.                    \n",
    "(I will look into Progressive candidates more in detail in the Bi-variate' section,  [here](Exploration3.ipynb#Endorsements-and-Won))"
   ]
  },
  {
   "cell_type": "markdown",
   "metadata": {},
   "source": [
    "Back to [top](#Uni-Variate-Exploration)"
   ]
  },
  {
   "cell_type": "markdown",
   "metadata": {},
   "source": [
    "# <font color='4db4cc'>Percent</font>\n",
    "The percentage of the vote received by the candidate in his or her primary."
   ]
  },
  {
   "cell_type": "code",
   "execution_count": 10,
   "metadata": {},
   "outputs": [
    {
     "data": {
      "image/png": "[encoded data removed]",
      "text/plain": [
       "<Figure size 1296x432 with 1 Axes>"
      ]
     },
     "metadata": {
      "needs_background": "light"
     },
     "output_type": "display_data"
    }
   ],
   "source": [
    "# Find average of percent success and print a table with colors where red is below average and green is above average.\n",
    "\n",
    "# Set 2 colors (green and red) plus black\n",
    "def color_green_red(value):\n",
    "    if value < 35:\n",
    "        color = 'red'\n",
    "    elif value > 35:\n",
    "        color = 'black'\n",
    "    else:\n",
    "        color = 'black'\n",
    "    return 'color: %s' % color\n",
    "\n",
    "# Set CSS properties for the elements in dataframe\n",
    "# Table Header\n",
    "th_props = [\n",
    "    ('font-size', '12px'),\n",
    "    ('text-align', 'center'),\n",
    "    ('font-weight', 'bold'),\n",
    "    ('color', '#6d6d6d'),\n",
    "    ('background-color', '#f7f7f9')]\n",
    "\n",
    "# Set CSS properties for td elements in dataframe\n",
    "# Table Data\n",
    "td_props = [\n",
    "    ('font-size', '12px')]\n",
    "\n",
    "# Set table styles\n",
    "styles = [\n",
    "    dict(selector=\"th\", props=th_props),\n",
    "    dict(selector=\"td\", props=td_props)]\n",
    "\n",
    "# Table Data Color\n",
    "# Set colormap equal to seaborns light green color palette\n",
    "cm = sb.light_palette(\"green\", as_cmap=True)\n",
    "\n",
    "# Apply value display formatting to the dataframe (colors)\n",
    "f = (dem.style\n",
    " .background_gradient(cmap=cm, subset=['Primary %'])\n",
    " .highlight_max(subset=['Primary %'])\n",
    " .set_caption('<h2><center> \\'Primary %\\' - The percentage of the vote received by the candidate in his or her primary<br>(red is below average)</center></h2>')\n",
    " .set_table_styles(styles)\n",
    " .applymap(color_green_red, subset=['Primary %']))\n",
    "# f\n",
    "\n",
    "\n",
    "## Plot the distribution of the Primary Percent variable\n",
    "# Drop NAs\n",
    "primary_per = dem.dropna(subset = ['Primary %'])\n",
    "\n",
    "# Remove the 100% percenters, which were appointed more than elected from the lack of contenders.\n",
    "primary_per = primary_per[primary_per['Primary %'] != 100]\n",
    "\n",
    "# Plot\n",
    "#sb.set_style(\"whitegrid\")#, {'axes.labelcolor': '#4db4cc'})\n",
    "plt.figure(figsize=(18,6))\n",
    "plt.ylabel('Count', fontsize=18)\n",
    "plt.xlabel('Primary Percent', fontsize=18)\n",
    "\n",
    "# Draw a line with the min\n",
    "plt.axvline(1, 0,0.89, linewidth=4, color='y')\n",
    "plt.text(1, 36, 'Min (1%)', ha='center', va='center',rotation='horizontal', size=16)\n",
    "\n",
    "# Draw a line with the average\n",
    "plt.axvline(32, 0,0.87, linewidth=4, color='r')\n",
    "plt.text(32, 35, 'Average (29%)', ha='center', va='center',rotation='horizontal', size=16)\n",
    "\n",
    "# Draw a line with the max\n",
    "plt.axvline(91, 0,0.67, linewidth=4, color='g')\n",
    "plt.text(91, 28.7, 'Max (91%)', ha='center', va='center',rotation='horizontal', size=16)\n",
    "\n",
    "plt.title(\"percentages of support for all candidates\", fontdict = {'fontsize' : 20})\n",
    "sb.distplot(primary_per['Primary %'], bins=100, kde=False, hist_kws={\"rwidth\":0.75, 'alpha':1.0});"
   ]
  },
  {
   "cell_type": "markdown",
   "metadata": {},
   "source": [
    "As the above graph shows us there were a lot of candidates who received lower percentages of the primary votes and there were fewer candidates who received high voting support (higher percentage).\n",
    "How does the turnaround statistics for only the winners look like? This will be answered in the Bi-variant exploration,  [here](Exploration3.ipynb#Percent-and-Won)."
   ]
  },
  {
   "cell_type": "markdown",
   "metadata": {},
   "source": [
    "Back to [top](#Uni-Variate-Exploration)"
   ]
  },
  {
   "cell_type": "markdown",
   "metadata": {},
   "source": [
    "# <font color='7466fa'>State</font>\n",
    "Which states had the highest number of candidates?"
   ]
  },
  {
   "cell_type": "code",
   "execution_count": 11,
   "metadata": {},
   "outputs": [],
   "source": [
    "us_state_abbrev = {\n",
    "    'Alabama': 'AL',    'Alaska': 'AK',    'Arizona': 'AZ',    'Arkansas': 'AR',    'California': 'CA',    'Colorado': 'CO',    'Connecticut': 'CT',    'Delaware': 'DE',    'Florida': 'FL',    'Georgia': 'GA',    'Hawaii': 'HI',    'Idaho': 'ID',    'Illinois': 'IL',    'Indiana': 'IN',    'Iowa': 'IA',    'Kansas': 'KS',    'Kentucky': 'KY',    'Louisiana': 'LA',    'Maine': 'ME',    'Maryland': 'MD',    'Massachusetts': 'MA',    'Michigan': 'MI',    'Minnesota': 'MN',    'Mississippi': 'MS',\n",
    "    'Missouri': 'MO',    'Montana': 'MT',    'Nebraska': 'NE',    'Nevada': 'NV',    'New Hampshire': 'NH',    'New Jersey': 'NJ',    'New Mexico': 'NM',    'New York': 'NY',    'North Carolina': 'NC',    'North Dakota': 'ND',    'Ohio': 'OH',    'Oklahoma': 'OK',    'Oregon': 'OR',    'Pennsylvania': 'PA',    'Rhode Island': 'RI',    'South Carolina': 'SC',    'South Dakota': 'SD',    'Tennessee': 'TN',    'Texas': 'TX',    'Utah': 'UT',    'Vermont': 'VT',    'Virginia': 'VA',    'Washington': 'WA',    'West Virginia': 'WV',    'Wisconsin': 'WI',    'Wyoming': 'WY',}"
   ]
  },
  {
   "cell_type": "code",
   "execution_count": 12,
   "metadata": {},
   "outputs": [
    {
     "name": "stdout",
     "output_type": "stream",
     "text": [
      "\u001b[1mList of states and the number of candidates from each\u001b[0m\n",
      "     State  Candidate\n",
      "38     TX      109.0\n",
      "3      CA       70.0\n",
      "33     PA       44.0\n",
      "30     OH       42.0\n",
      "11     IL       41.0\n",
      "29     NY       38.0\n",
      "18     MI       34.0\n",
      "28     NV       31.0\n",
      "12     IN       31.0\n",
      "8      GA       26.0\n",
      "35     SC       23.0\n",
      "31     OK       23.0\n",
      "37     TN       22.0\n",
      "16     MD       22.0\n",
      "40     VA       20.0\n",
      "23     NC       19.0\n",
      "14     KY       17.0\n",
      "20     MO       17.0\n",
      "0      AL       16.0\n",
      "9      IA       16.0\n",
      "26     NJ       16.0\n",
      "13     KS       15.0\n",
      "4      CO       14.0\n",
      "25     NE       12.0\n",
      "27     NM       11.0\n",
      "17     ME       11.0\n",
      "21     MS       10.0\n",
      "42     WA       10.0\n",
      "7      FL       10.0\n",
      "1      AR        9.0\n",
      "10     ID        8.0\n",
      "44     WV        8.0\n",
      "32     OR        8.0\n",
      "22     MT        7.0\n",
      "39     UT        6.0\n",
      "19     MN        5.0\n",
      "2      AZ        4.0\n",
      "43     WI        3.0\n",
      "24     ND        2.0\n",
      "5      CT        2.0\n",
      "36     SD        2.0\n",
      "41     VT        2.0\n",
      "6      DE        1.0\n",
      "34     RI        1.0\n",
      "15     LA        1.0\n",
      "45     AK        0.0\n",
      "46     HI        0.0\n",
      "47     MA        0.0\n",
      "48     NH        0.0\n",
      "49  Total        0.0\n",
      "50     WY        0.0\n"
     ]
    },
    {
     "data": {
      "text/html": [
       "        <script type=\"text/javascript\">\n",
       "        window.PlotlyConfig = {MathJaxConfig: 'local'};\n",
       "        if (window.MathJax) {MathJax.Hub.Config({SVG: {font: \"STIX-Web\"}});}\n",
       "        if (typeof require !== 'undefined') {\n",
       "        require.undef(\"plotly\");\n",
       "        requirejs.config({\n",
       "            paths: {\n",
       "                'plotly': ['https://cdn.plot.ly/plotly-latest.min']\n",
       "            }\n",
       "        });\n",
       "        require(['plotly'], function(Plotly) {\n",
       "            window._Plotly = Plotly;\n",
       "        });\n",
       "        }\n",
       "        </script>\n",
       "        "
      ]
     },
     "metadata": {},
     "output_type": "display_data"
    },
    {
     "data": {
      "application/vnd.plotly.v1+json": {
       "config": {
        "linkText": "Export to plot.ly",
        "plotlyServerURL": "https://plot.ly",
        "responsive": true,
        "showLink": false
       },
       "data": [
        {
         "marker": {
          "color": "#7466fa"
         },
         "name": "Candidates by state",
         "type": "bar",
         "uid": "bffaf0a9-5eb9-4ac2-95c0-3ebadb08a6ec",
         "x": [
          "TX",
          "CA",
          "PA",
          "OH",
          "IL",
          "NY",
          "MI",
          "NV",
          "IN",
          "GA",
          "SC",
          "OK",
          "TN",
          "MD",
          "VA",
          "NC",
          "KY",
          "MO",
          "AL",
          "IA",
          "NJ",
          "KS",
          "CO",
          "NE",
          "NM",
          "ME",
          "MS",
          "WA",
          "FL",
          "AR",
          "ID",
          "WV",
          "OR",
          "MT",
          "UT",
          "MN",
          "AZ",
          "WI",
          "ND",
          "CT",
          "SD",
          "VT",
          "DE",
          "RI",
          "LA",
          "AK",
          "HI",
          "MA",
          "NH",
          "Total",
          "WY"
         ],
         "y": [
          109,
          70,
          44,
          42,
          41,
          38,
          34,
          31,
          31,
          26,
          23,
          23,
          22,
          22,
          20,
          19,
          17,
          17,
          16,
          16,
          16,
          15,
          14,
          12,
          11,
          11,
          10,
          10,
          10,
          9,
          8,
          8,
          8,
          7,
          6,
          5,
          4,
          3,
          2,
          2,
          2,
          2,
          1,
          1,
          1,
          0,
          0,
          0,
          0,
          0,
          0
         ]
        }
       ],
       "layout": {
        "title": {
         "text": "Bar chart with the number of candidates by state"
        },
        "xaxis": {
         "title": {
          "text": "State"
         }
        },
        "yaxis": {
         "title": {
          "text": "Count"
         }
        }
       }
      },
      "text/html": [
       "<div>\n",
       "        \n",
       "        \n",
       "            <div id=\"d0eccf33-991e-42f9-8250-04bd43b5ed9f\" class=\"plotly-graph-div\" style=\"height:525px; width:100%;\"></div>\n",
       "            <script type=\"text/javascript\">\n",
       "                require([\"plotly\"], function(Plotly) {\n",
       "                    window.PLOTLYENV=window.PLOTLYENV || {};\n",
       "                    window.PLOTLYENV.BASE_URL='https://plot.ly';\n",
       "                    \n",
       "                if (document.getElementById(\"d0eccf33-991e-42f9-8250-04bd43b5ed9f\")) {\n",
       "                    Plotly.newPlot(\n",
       "                        'd0eccf33-991e-42f9-8250-04bd43b5ed9f',\n",
       "                        [{\"marker\": {\"color\": \"#7466fa\"}, \"name\": \"Candidates by state\", \"type\": \"bar\", \"uid\": \"b23d494f-ee79-4e2b-a48b-f619a6b8c0a1\", \"x\": [\"TX\", \"CA\", \"PA\", \"OH\", \"IL\", \"NY\", \"MI\", \"NV\", \"IN\", \"GA\", \"SC\", \"OK\", \"TN\", \"MD\", \"VA\", \"NC\", \"KY\", \"MO\", \"AL\", \"IA\", \"NJ\", \"KS\", \"CO\", \"NE\", \"NM\", \"ME\", \"MS\", \"WA\", \"FL\", \"AR\", \"ID\", \"WV\", \"OR\", \"MT\", \"UT\", \"MN\", \"AZ\", \"WI\", \"ND\", \"CT\", \"SD\", \"VT\", \"DE\", \"RI\", \"LA\", \"AK\", \"HI\", \"MA\", \"NH\", \"Total\", \"WY\"], \"y\": [109.0, 70.0, 44.0, 42.0, 41.0, 38.0, 34.0, 31.0, 31.0, 26.0, 23.0, 23.0, 22.0, 22.0, 20.0, 19.0, 17.0, 17.0, 16.0, 16.0, 16.0, 15.0, 14.0, 12.0, 11.0, 11.0, 10.0, 10.0, 10.0, 9.0, 8.0, 8.0, 8.0, 7.0, 6.0, 5.0, 4.0, 3.0, 2.0, 2.0, 2.0, 2.0, 1.0, 1.0, 1.0, 0.0, 0.0, 0.0, 0.0, 0.0, 0.0]}],\n",
       "                        {\"title\": {\"text\": \"Bar chart with the number of candidates by state\"}, \"xaxis\": {\"title\": {\"text\": \"State\"}}, \"yaxis\": {\"title\": {\"text\": \"Count\"}}},\n",
       "                        {\"showLink\": false, \"linkText\": \"Export to plot.ly\", \"plotlyServerURL\": \"https://plot.ly\", \"responsive\": true}\n",
       "                    ).then(function(){\n",
       "                            \n",
       "var gd = document.getElementById('d0eccf33-991e-42f9-8250-04bd43b5ed9f');\n",
       "var x = new MutationObserver(function (mutations, observer) {{\n",
       "        var display = window.getComputedStyle(gd).display;\n",
       "        if (!display || display === 'none') {{\n",
       "            console.log([gd, 'removed!']);\n",
       "            Plotly.purge(gd);\n",
       "            observer.disconnect();\n",
       "        }}\n",
       "}});\n",
       "\n",
       "// Listen for the removal of the full notebook cells\n",
       "var notebookContainer = gd.closest('#notebook-container');\n",
       "if (notebookContainer) {{\n",
       "    x.observe(notebookContainer, {childList: true});\n",
       "}}\n",
       "\n",
       "// Listen for the clearing of the current output cell\n",
       "var outputEl = gd.closest('.output');\n",
       "if (outputEl) {{\n",
       "    x.observe(outputEl, {childList: true});\n",
       "}}\n",
       "\n",
       "                        })\n",
       "                };\n",
       "                });\n",
       "            </script>\n",
       "        </div>"
      ]
     },
     "metadata": {},
     "output_type": "display_data"
    },
    {
     "name": "stderr",
     "output_type": "stream",
     "text": [
      "C:\\Users\\Aviad\\Anaconda3\\lib\\site-packages\\IPython\\core\\display.py:689: UserWarning:\n",
      "\n",
      "Consider using IPython.display.IFrame instead\n",
      "\n"
     ]
    },
    {
     "data": {
      "text/html": [
       "<iframe id=\"igraph\" scrolling=\"no\" style=\"border:none;\" seamless=\"seamless\" src=\"https://plot.ly/~AviG/366.embed\" height=\"525px\" width=\"100%\"></iframe>"
      ],
      "text/plain": [
       "<chart_studio.tools.PlotlyDisplay object>"
      ]
     },
     "execution_count": 12,
     "metadata": {},
     "output_type": "execute_result"
    }
   ],
   "source": [
    "# State number of Officials\n",
    "states_reps = pd.read_csv('states_reps.csv')\n",
    "# Abbreviate state names\n",
    "states_reps['State'].replace(to_replace=dict(us_state_abbrev), inplace=True)\n",
    "states_reps = states_reps.sort_values('State', ascending=True)\n",
    "# Adding 2 senators and 1 governor to each state's Officials column\n",
    "states_reps['Officials'] = states_reps['Officials']  + 3\n",
    "\n",
    "\n",
    "# Unique candidates in states\n",
    "state_can_uniq = dem.drop_duplicates(['Candidate'], keep='first')\n",
    "state_can_uniq = state_can_uniq.groupby('State')['Candidate'].count().reset_index()\n",
    "state_can_uniq = pd.merge(state_can_uniq, states_reps, how='outer', on=['State'])\n",
    "del state_can_uniq['Officials']\n",
    "state_can_uniq.fillna(0, inplace=True)\n",
    "state_can_uniq = state_can_uniq.sort_values('Candidate', ascending=False)\n",
    "\n",
    "## Visuals\n",
    "\n",
    "\n",
    "# List of all states and number of Progressive candidates\n",
    "print(\"\\033[1mList of states and the number of candidates from each\\033[0m\\n\", state_can_uniq)\n",
    "\n",
    "\n",
    "# Bar Plot of the number of Progressive candidates\n",
    "import plotly as py\n",
    "import plotly.graph_objs as go\n",
    "import numpy as np\n",
    "from scipy import special\n",
    "import ipywidgets as widgets\n",
    "py.offline.init_notebook_mode(connected=True)\n",
    "x = state_can_uniq.State\n",
    "y = state_can_uniq.Candidate\n",
    "layout = go.Layout(title = 'Bar chart with the number of candidates by state', yaxis = dict(title = 'Count'), \n",
    "                   xaxis = dict(title = 'State'))\n",
    "trace1 = go.Bar(x=x, y=y, name='Candidates by state', marker=dict(color='#7466fa'))\n",
    "fig = go.Figure(data=[trace1], layout=layout)\n",
    "py.offline.iplot(fig)\n",
    "\n",
    "\n",
    "# Map of All states with their candidates\n",
    "import plotly.plotly as py\n",
    "import plotly.graph_objs as go\n",
    "from plotly.offline import download_plotlyjs, init_notebook_mode, plot, iplot\n",
    "x = state_can_uniq.State\n",
    "y = state_can_uniq.Candidate\n",
    "scl = [[0.0, 'rgb(242,240,247)'],[0.2, 'rgb(218,218,235)'],[0.4, 'rgb(188,189,220)'],\\\n",
    "            [0.6, 'rgb(158,154,200)'],[0.8, 'rgb(117,107,177)'],[1.0, 'rgb(84,39,143)']]\n",
    "# Data object\n",
    "data = [go.Choropleth(        \n",
    "        colorscale = scl,\n",
    "        autocolorscale = False,\n",
    "        locations = state_can_uniq['State'],\n",
    "        z = state_can_uniq['Candidate'].astype(float),\n",
    "        locationmode = 'USA-states',\n",
    "        text = state_can_uniq['State'],\n",
    "        marker = dict(\n",
    "            line = dict(\n",
    "                color = 'rgb(255,255,255)',\n",
    "                width = 2)),\n",
    "        colorbar = dict(\n",
    "            title = \"States and Candidates\")\n",
    "        )]\n",
    "layout = go.Layout(title = 'Map of the states with the number of candidates by state', yaxis = dict(title = 'Count'), \n",
    "                   xaxis = dict(title = 'State'),\n",
    "                  geo = dict(scope = 'usa', projection = dict(type = 'albers usa'), showlakes = True, lakecolor = 'rgb(66, 165, 245)'))\n",
    "fig = dict(data=data, layout=layout)\n",
    "py.iplot(fig)"
   ]
  },
  {
   "cell_type": "markdown",
   "metadata": {},
   "source": [
    "We can see from the above table, bar chart and map that Texas and California lead with the number of candidates, with 109 and 70 candidates respectively. They were followed by Pennsylvania, Ohio, and Illinois with about 40 candidates each. Alaska, Hawaii, Massachusetts, New Hampshire and Wyoming had no candidates in the 2018 Democratic primaries.<br>\n",
    "I will check the Progressives distribution by state, in the bi-variate section,  [here](Exploration3.ipynb#State-and-Progressives)."
   ]
  },
  {
   "cell_type": "markdown",
   "metadata": {},
   "source": [
    "Back to [top](#Uni-Variate-Exploration)"
   ]
  },
  {
   "cell_type": "markdown",
   "metadata": {},
   "source": [
    "# <font color=\"#4568ad\">Won<font>"
   ]
  },
  {
   "cell_type": "code",
   "execution_count": 13,
   "metadata": {},
   "outputs": [
    {
     "name": "stdout",
     "output_type": "stream",
     "text": [
      "\u001b[32m\u001b[1mNumber of winners and losers\u001b[0m\n",
      " No     574\n",
      "Yes    264\n",
      "Name: Won, dtype: int64\n"
     ]
    },
    {
     "data": {
      "image/png": "[encoded data removed]",
      "text/plain": [
       "<Figure size 432x432 with 1 Axes>"
      ]
     },
     "metadata": {
      "needs_background": "light"
     },
     "output_type": "display_data"
    }
   ],
   "source": [
    "# Distribution of the Won variable\n",
    "fig, ax = plt.subplots(figsize=(6,6))\n",
    "dem_win = dem.drop_duplicates(['Candidate'], keep='first')\n",
    "\n",
    "colors = ['#4568ad', '#f2f2f2']\n",
    "print(\"\\033[32m\\033[1mNumber of winners and losers\\033[0m\\n\",dem_win['Won'].value_counts())\n",
    "dem_win['Won'].value_counts().plot(kind=\"bar\", color=colors, edgecolor='black')\n",
    "plt.xticks(rotation = 90)\n",
    "plt.title(\"Number of winners and losers\")\n",
    "plt.show()"
   ]
  },
  {
   "cell_type": "markdown",
   "metadata": {},
   "source": [
    "Out of all 838 unique candidates 264 won and 574 lost the Democratic primaries of 2018.\n",
    "I will explore this variable furthermore with other variables in the [Bi-variant](Exploration3.ipynb#Progressive-&-Won) and [Multi-variate explorations](Exploration4.ipynb##Endorsements-Won-and-Progressive)."
   ]
  },
  {
   "cell_type": "markdown",
   "metadata": {},
   "source": [
    "Back to [top](#Uni-Variate-Exploration)"
   ]
  },
  {
   "cell_type": "markdown",
   "metadata": {},
   "source": [
    "# <font color=\"#b1db37\">Race<font>\n",
    "    How does the race distribution looks like? Were there more White than non-White running for office?"
   ]
  },
  {
   "cell_type": "code",
   "execution_count": 14,
   "metadata": {},
   "outputs": [
    {
     "name": "stdout",
     "output_type": "stream",
     "text": [
      "\u001b[32m\u001b[1mNumber of candidates by race\u001b[0m\n",
      " White       449\n",
      "Nonwhite    200\n",
      "Name: Race, dtype: int64\n"
     ]
    },
    {
     "data": {
      "image/png": "[encoded data removed]",
      "text/plain": [
       "<Figure size 432x432 with 1 Axes>"
      ]
     },
     "metadata": {
      "needs_background": "light"
     },
     "output_type": "display_data"
    }
   ],
   "source": [
    "# Distribution of the Won variable\n",
    "fig, ax = plt.subplots(figsize=(6,6))\n",
    "dem_race = dem.drop_duplicates(['Candidate'], keep='first')\n",
    "\n",
    "colors = ['#e7edd5', '#b1db37']\n",
    "print(\"\\033[32m\\033[1mNumber of candidates by race\\033[0m\\n\",dem_race['Race'].value_counts())\n",
    "dem_race['Race'].value_counts().plot(kind=\"bar\", color=colors, edgecolor='black')\n",
    "\n",
    "plt.xticks(rotation = 90)\n",
    "plt.title(\"White candidates compare to non White in the Democratic primaries\")\n",
    "plt.show()"
   ]
  },
  {
   "cell_type": "markdown",
   "metadata": {},
   "source": [
    "As it seems, Whites were the majority of Democratic candidates in those primaries. More than twice the number of non-White folks. More about Race and Endorsements in the Bi-variant exploration,  [here](Exploration3.ipynb#Race-and-Endorsements)."
   ]
  },
  {
   "cell_type": "markdown",
   "metadata": {},
   "source": [
    "# Discussion about the above variables' distributions\n",
    "\n",
    "I was surprised to find that most of the candidates did not have an official pac that endorsed them. Since in this project I am focusing on Progressives and pacs in the primaries, I removed the rows that do not have endorsements, under the endorsements column for certain explorations, but not for all. For example, to have a better view of the Endorsements distribution I removed the candidates that were not endorsed by anyone.\n",
    "Another thing that surprised me and made me come up with more questions is the Candidate distribution and the fact that some candidates were endorsed by 5,6 or 7 different pacs. An interesting point that came up here is that the most endorsed candidates were Progressives."
   ]
  },
  {
   "cell_type": "markdown",
   "metadata": {},
   "source": [
    "Back to [Exploration1](Exploration1.ipynb) | Back to [top](#Uni-Variate-Exploration) | Continue with [Exploration3](Exploration3.ipynb)"
   ]
  }
 ],
 "metadata": {
  "kernelspec": {
   "display_name": "Python 3",
   "language": "python",
   "name": "python3"
  },
  "language_info": {
   "codemirror_mode": {
    "name": "ipython",
    "version": 3
   },
   "file_extension": ".py",
   "mimetype": "text/x-python",
   "name": "python",
   "nbconvert_exporter": "python",
   "pygments_lexer": "ipython3",
   "version": "3.7.3"
  }
 },
 "nbformat": 4,
 "nbformat_minor": 2
}
